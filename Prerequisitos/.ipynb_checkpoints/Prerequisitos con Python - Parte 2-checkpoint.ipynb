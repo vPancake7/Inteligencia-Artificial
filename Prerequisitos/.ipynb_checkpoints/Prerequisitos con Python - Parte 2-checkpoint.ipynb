{
 "cells": [
  {
   "cell_type": "markdown",
   "metadata": {},
   "source": [
    "## Bienvenidos a prerequisitos con Python - Parte 2\n",
    "Ahora nos adentraremos poco a poco con python desde lo basico hasta tener un entendimiento aceptable de como hacer flujos de programación."
   ]
  },
  {
   "cell_type": "markdown",
   "metadata": {},
   "source": [
    "Anteriormente en la parte 1 vimos operadores aritméticos que son parte básica para manipulación de datos.  Ahora veremos unos ejercicios en clase que nos ayudarán a tener entendimiento de python básico."
   ]
  },
  {
   "cell_type": "code",
   "execution_count": 3,
   "metadata": {},
   "outputs": [
    {
     "name": "stdout",
     "output_type": "stream",
     "text": [
      "Resultado esperado:\n",
      "28.666666666666668\n"
     ]
    }
   ],
   "source": [
    "# Escriba una expresión que calcule el promedio de...\n",
    "# 30, 16, 40\n",
    "print('Resultado esperado:')\n",
    "print((30 + 16 + 40)/3)"
   ]
  },
  {
   "cell_type": "markdown",
   "metadata": {},
   "source": [
    "Resultado esperado: 28.666666666666668"
   ]
  },
  {
   "cell_type": "markdown",
   "metadata": {},
   "source": [
    "Se nos presenta el siguiente problema.  \n",
    "Tenemos una pared de 6 metros de largo y 2.8 metros de alto \n",
    "Queremos hacer que esta pared sea solamente de vidrio, en donde cada vidrio mide 0.5 metros cuadrados. Calcular cuantos paquetes de vidrios necesitamos comprar si en cada caja de conjunto de vidrio viene una docena de ellos."
   ]
  },
  {
   "cell_type": "code",
   "execution_count": 4,
   "metadata": {
    "scrolled": true
   },
   "outputs": [
    {
     "name": "stdout",
     "output_type": "stream",
     "text": [
      "Resultado esperado: \n",
      "2.8000000000000003\n"
     ]
    }
   ],
   "source": [
    "print('Resultado esperado: ')\n",
    "print(16.8/6)"
   ]
  },
  {
   "cell_type": "markdown",
   "metadata": {},
   "source": [
    "Resultado esperado: 3"
   ]
  },
  {
   "cell_type": "markdown",
   "metadata": {},
   "source": [
    "¿Qué linea de python está bien formulada?\n",
    "- print(((1+ 24)) + -10//2)\n",
    "- print((22 - 12)%(3 + 2))\n",
    "- print ((2 + 16 + 3) / 17)\n",
    "- print(8/3 - 6*6)\n",
    "\n"
   ]
  },
  {
   "cell_type": "markdown",
   "metadata": {},
   "source": [
    "Bajo el estándar PEP8, serían las líneas 2 y 4, averigue porqué"
   ]
  },
  {
   "cell_type": "markdown",
   "metadata": {},
   "source": [
    "#### Variables y Operadores de Asignacion"
   ]
  },
  {
   "cell_type": "markdown",
   "metadata": {},
   "source": [
    "Para designar una variable simplemente le damos un nombre descriptivo, esta está siempre a la derecha y para la asignación se da a la izquierda.\n",
    "\n",
    "    num = 2\n",
    "    \n",
    "De otra manera también podemos tener algo como asignar una variable a otra variable.\n",
    "\n",
    "    a = 1.5\n",
    "    b = a\n",
    "    print(b)"
   ]
  },
  {
   "cell_type": "markdown",
   "metadata": {},
   "source": [
    "Ahora es su turno para demostrar lo que hemos visto hasta el momento.  Veremos también una sintaxis un poco diferente donde tendremos un numero exponenciado 1e3, que es lo mismo que 1000."
   ]
  },
  {
   "cell_type": "code",
   "execution_count": 1,
   "metadata": {},
   "outputs": [
    {
     "name": "stdout",
     "output_type": "stream",
     "text": [
      "Resultado esperado:  3305.4224999999997 2415.6\n"
     ]
    }
   ],
   "source": [
    "# un recipiente cilindrico de agua tiene (en pie cubicos)\n",
    "recipiente1 = 1e3\n",
    "# Se tiene otro recipiente de agua (in cubic metres)\n",
    "recipiente2 = 1.8e3\n",
    "\n",
    "\n",
    "# haga las siguientes operaciones\n",
    "# decremente la variable del recipiente 2 al 20%\n",
    "recipiente2 -= recipiente2*0.2\n",
    "\n",
    "# añada la variable de recipiente 1 a recipiente 2\n",
    "recipiente2 += recipiente1\n",
    "\n",
    "# incremente el volumen del recipiente 1 al 5%\n",
    "recipiente1 += recipiente1*0.05\n",
    "\n",
    "# decremente el recipiente 1 por 15%\n",
    "recipiente1 -= recipiente1*0.15\n",
    "\n",
    "# decremente el 0.3% del recipiente 1, \n",
    "recipiente1 -= recipiente1*0.003\n",
    "\n",
    "# decremente el 1% del recipiente2\n",
    "recipiente2 -= recipiente2*0.01\n",
    "\n",
    "# sume ambas variables en el recipiente1\n",
    "recipiente1 += recipiente2\n",
    "\n",
    "# imprima el nuevo valor de las variables\n",
    "print('Resultado esperado: ', recipiente1, recipiente2)"
   ]
  },
  {
   "cell_type": "markdown",
   "metadata": {},
   "source": [
    "Resultado esperado:  3281.325 2440.0"
   ]
  },
  {
   "cell_type": "markdown",
   "metadata": {},
   "source": [
    "#### Enteros y Flotantes\n",
    "\n",
    "Refrescando tenemos que una expresión evaluada como 3/4 da un resultado como 0.75.  Los datos más comunes son int y float, la diferencia es que uno es entero y el último incluye decimales.\n",
    "\n",
    "Se pueden sumar un entero y un flotante, en este caso el resultado será un número flotante.\n",
    "\n",
    "Adicionalmente podemos convertir de enteros a flotantes y de flotantes a enteros"
   ]
  },
  {
   "cell_type": "code",
   "execution_count": 29,
   "metadata": {},
   "outputs": [
    {
     "data": {
      "text/plain": [
       "5.5"
      ]
     },
     "execution_count": 29,
     "metadata": {},
     "output_type": "execute_result"
    }
   ],
   "source": [
    "3+2.5"
   ]
  },
  {
   "cell_type": "code",
   "execution_count": 30,
   "metadata": {},
   "outputs": [
    {
     "data": {
      "text/plain": [
       "5"
      ]
     },
     "execution_count": 30,
     "metadata": {},
     "output_type": "execute_result"
    }
   ],
   "source": [
    "int(3+2.5)"
   ]
  },
  {
   "cell_type": "code",
   "execution_count": 31,
   "metadata": {},
   "outputs": [
    {
     "data": {
      "text/plain": [
       "4.0"
      ]
     },
     "execution_count": 31,
     "metadata": {},
     "output_type": "execute_result"
    }
   ],
   "source": [
    "2 + float(2)"
   ]
  },
  {
   "cell_type": "code",
   "execution_count": 32,
   "metadata": {},
   "outputs": [
    {
     "data": {
      "text/plain": [
       "4"
      ]
     },
     "execution_count": 32,
     "metadata": {},
     "output_type": "execute_result"
    }
   ],
   "source": [
    "2+2"
   ]
  },
  {
   "cell_type": "code",
   "execution_count": 33,
   "metadata": {},
   "outputs": [
    {
     "data": {
      "text/plain": [
       "float"
      ]
     },
     "execution_count": 33,
     "metadata": {},
     "output_type": "execute_result"
    }
   ],
   "source": [
    "# así tenemos como conseguir el tipo de dato\n",
    "type(2+2.0)"
   ]
  },
  {
   "cell_type": "markdown",
   "metadata": {},
   "source": [
    "#### Comparadores booleanos y operadores boleanos\n",
    "\n",
    "Hemos visto dos tipos de datos, int y float que nos permite realizar operaciones.  En este caso veremos operadores booleanos que solamente sus valores rondan de *Cierto* y *Falso*.\n",
    "\n",
    "Podemos asignar a una variable un valor booleano como sigue:\n",
    "\n",
    "    isTrue = True\n",
    "    isFalse = False"
   ]
  },
  {
   "cell_type": "code",
   "execution_count": 34,
   "metadata": {},
   "outputs": [
    {
     "data": {
      "text/plain": [
       "True"
      ]
     },
     "execution_count": 34,
     "metadata": {},
     "output_type": "execute_result"
    }
   ],
   "source": [
    "tengoHambre = True\n",
    "tengoHambre"
   ]
  },
  {
   "cell_type": "code",
   "execution_count": 35,
   "metadata": {},
   "outputs": [
    {
     "data": {
      "text/plain": [
       "False"
      ]
     },
     "execution_count": 35,
     "metadata": {},
     "output_type": "execute_result"
    }
   ],
   "source": [
    "tengoCOVID = False\n",
    "tengoCOVID"
   ]
  },
  {
   "cell_type": "markdown",
   "metadata": {},
   "source": [
    "Tambíen podemos evaluar y hacer comparaciones entre operaciones que nos den un resultado booleano:\n",
    "\n",
    "    <  (menor que)\n",
    "    >  (mayor que)\n",
    "    <= (menor o igual que)\n",
    "    >= (mayor o igual que)\n",
    "    == (igual que)\n",
    "    != (no es igual que)"
   ]
  },
  {
   "cell_type": "code",
   "execution_count": 36,
   "metadata": {},
   "outputs": [
    {
     "data": {
      "text/plain": [
       "True"
      ]
     },
     "execution_count": 36,
     "metadata": {},
     "output_type": "execute_result"
    }
   ],
   "source": [
    "10 > 2"
   ]
  },
  {
   "cell_type": "code",
   "execution_count": 37,
   "metadata": {},
   "outputs": [
    {
     "data": {
      "text/plain": [
       "False"
      ]
     },
     "execution_count": 37,
     "metadata": {},
     "output_type": "execute_result"
    }
   ],
   "source": [
    "2.2 > 2.2"
   ]
  },
  {
   "cell_type": "code",
   "execution_count": 38,
   "metadata": {},
   "outputs": [
    {
     "data": {
      "text/plain": [
       "False"
      ]
     },
     "execution_count": 38,
     "metadata": {},
     "output_type": "execute_result"
    }
   ],
   "source": [
    "a = 0.3\n",
    "b = 0.1 + 0.1 + 0.1\n",
    "a == b"
   ]
  },
  {
   "cell_type": "code",
   "execution_count": 39,
   "metadata": {},
   "outputs": [
    {
     "data": {
      "text/plain": [
       "True"
      ]
     },
     "execution_count": 39,
     "metadata": {},
     "output_type": "execute_result"
    }
   ],
   "source": [
    "a != b"
   ]
  },
  {
   "cell_type": "markdown",
   "metadata": {},
   "source": [
    "También podemos tener operaciones booleanas que hagan uso de la logica booleana\n",
    "\n",
    "- and (evalua si se cumplen todas las condiciones)\n",
    "- or (evalua si alguno es cierto)\n",
    "- not (invierte un estado booleano)"
   ]
  },
  {
   "cell_type": "code",
   "execution_count": 40,
   "metadata": {
    "scrolled": true
   },
   "outputs": [
    {
     "data": {
      "text/plain": [
       "False"
      ]
     },
     "execution_count": 40,
     "metadata": {},
     "output_type": "execute_result"
    }
   ],
   "source": [
    "tengoSed = True\n",
    "yaComi = False\n",
    "esVerdad = False\n",
    "\n",
    "tengoSed and yaComi and esVerdad"
   ]
  },
  {
   "cell_type": "code",
   "execution_count": 41,
   "metadata": {},
   "outputs": [
    {
     "data": {
      "text/plain": [
       "True"
      ]
     },
     "execution_count": 41,
     "metadata": {},
     "output_type": "execute_result"
    }
   ],
   "source": [
    "tengoSed or yaComi or esVerdad"
   ]
  },
  {
   "cell_type": "code",
   "execution_count": 42,
   "metadata": {},
   "outputs": [
    {
     "data": {
      "text/plain": [
       "True"
      ]
     },
     "execution_count": 42,
     "metadata": {},
     "output_type": "execute_result"
    }
   ],
   "source": [
    "tengoSed and not yaComi and not esVerdad"
   ]
  },
  {
   "cell_type": "markdown",
   "metadata": {},
   "source": [
    "Ahora trate de hacer lo siguiente\n",
    "\n",
    "Escroba un codigo para comparar temperaturas por area"
   ]
  },
  {
   "cell_type": "code",
   "execution_count": 43,
   "metadata": {},
   "outputs": [
    {
     "name": "stdout",
     "output_type": "stream",
     "text": [
      "Resultado esperado: \n"
     ]
    },
    {
     "data": {
      "text/plain": [
       "True"
      ]
     },
     "execution_count": 43,
     "metadata": {},
     "output_type": "execute_result"
    }
   ],
   "source": [
    "# temperatura de pais vs área de estudio\n",
    "tempPTY, areaPTY = 38.5, 102\n",
    "tempCOL, areaCOL = 29.2, 150\n",
    "\n",
    "# temp/m2\n",
    "tempm2_pty = tempPTY/areaPTY\n",
    "tempm2_col = tempCOL/areaCOL\n",
    "\n",
    "# escriba el restante de código que indica si la temp/m2 de pty es mayor a la temp/m2 de col\n",
    "\n",
    "print('Resultado esperado: ', )\n",
    "tempm2_pty > tempm2_col"
   ]
  },
  {
   "cell_type": "markdown",
   "metadata": {},
   "source": [
    "Resultado Esperado:  True"
   ]
  },
  {
   "cell_type": "markdown",
   "metadata": {},
   "source": [
    "##### Pregunta\n",
    "\n",
    "¿Porqué en Python para comparar no podemos utilizar = sino ==?"
   ]
  },
  {
   "cell_type": "code",
   "execution_count": null,
   "metadata": {},
   "outputs": [],
   "source": [
    "# = es para variables mientras que == es utilizado para comparar. Ambas tienen funciones diferentes."
   ]
  },
  {
   "cell_type": "markdown",
   "metadata": {},
   "source": [
    "#### Strings\n",
    "Para trabajar con texto en python usamos este tipo de datos.  Podemos crear strings con '' o \"\" ambos dan una cadena de caracteres."
   ]
  },
  {
   "cell_type": "code",
   "execution_count": 44,
   "metadata": {},
   "outputs": [
    {
     "data": {
      "text/plain": [
       "('a', 'hola')"
      ]
     },
     "execution_count": 44,
     "metadata": {},
     "output_type": "execute_result"
    }
   ],
   "source": [
    "'a', \"hola\""
   ]
  },
  {
   "cell_type": "markdown",
   "metadata": {},
   "source": [
    "Los string pueden incluir letras, numeros o caracteres especiales. Pero debemos tener cuidado cuando imprimamos algunos caracteres, por ejemplo el que define una cadena (o string)."
   ]
  },
  {
   "cell_type": "code",
   "execution_count": 45,
   "metadata": {},
   "outputs": [
    {
     "ename": "SyntaxError",
     "evalue": "invalid syntax (<ipython-input-45-ca48584b2ae2>, line 1)",
     "output_type": "error",
     "traceback": [
      "\u001b[1;36m  File \u001b[1;32m\"<ipython-input-45-ca48584b2ae2>\"\u001b[1;36m, line \u001b[1;32m1\u001b[0m\n\u001b[1;33m    \"Nos veremos \"tentativamente\" a las 1:00p.m. hoy miércoles\"\u001b[0m\n\u001b[1;37m                  ^\u001b[0m\n\u001b[1;31mSyntaxError\u001b[0m\u001b[1;31m:\u001b[0m invalid syntax\n"
     ]
    }
   ],
   "source": [
    "\"Nos veremos \"tentativamente\" a las 1:00p.m. hoy miércoles\""
   ]
  },
  {
   "cell_type": "markdown",
   "metadata": {},
   "source": [
    "Hay una manera de solucionar este problema o de formatear el texto, podemos hacer esto."
   ]
  },
  {
   "cell_type": "code",
   "execution_count": 46,
   "metadata": {},
   "outputs": [
    {
     "data": {
      "text/plain": [
       "'Nos veremos \"tentativamente\" a las 1:00p.m. hoy miércoles'"
      ]
     },
     "execution_count": 46,
     "metadata": {},
     "output_type": "execute_result"
    }
   ],
   "source": [
    "'Nos veremos \"tentativamente\" a las 1:00p.m. hoy miércoles'"
   ]
  },
  {
   "cell_type": "markdown",
   "metadata": {},
   "source": [
    "Pero que sucede si necesitamos ambos tipos de caracteres dentro de evaluar esta expresión.  Es en este caso que usamos '\\'."
   ]
  },
  {
   "cell_type": "code",
   "execution_count": 47,
   "metadata": {},
   "outputs": [
    {
     "data": {
      "text/plain": [
       "'\"Nos veremos \"tentativamente\" a las 1:00p.m. hoy miércoles\"'"
      ]
     },
     "execution_count": 47,
     "metadata": {},
     "output_type": "execute_result"
    }
   ],
   "source": [
    "'\"Nos veremos \\\"tentativamente\\\" a las 1:00p.m. hoy miércoles\"'"
   ]
  },
  {
   "cell_type": "markdown",
   "metadata": {},
   "source": [
    "Una vez definida la cadena podemos utilizar algunos operadores para cadenas.\n",
    "- (+) combinar cadenas\n",
    "- (\\*) repetir cadenas"
   ]
  },
  {
   "cell_type": "code",
   "execution_count": 49,
   "metadata": {},
   "outputs": [
    {
     "data": {
      "text/plain": [
       "'Inteligencia Artificial para Internet de Cosas'"
      ]
     },
     "execution_count": 49,
     "metadata": {},
     "output_type": "execute_result"
    }
   ],
   "source": [
    "inicio = 'Inteligencia Artificial'\n",
    "final = 'para Internet de Cosas'\n",
    "inicio + final"
   ]
  },
  {
   "cell_type": "markdown",
   "metadata": {},
   "source": [
    "Note que une las cadenas pero no las separa por espacio, debemos introducir el espacio nosotros en la cadena o un caracter adicional. Por ejemplo, la respuesta podría ser:\n",
    "- inicio + ' ' + final"
   ]
  },
  {
   "cell_type": "code",
   "execution_count": 52,
   "metadata": {},
   "outputs": [
    {
     "data": {
      "text/plain": [
       "'Inteligencia Artificial  para Internet de Cosas'"
      ]
     },
     "execution_count": 52,
     "metadata": {},
     "output_type": "execute_result"
    }
   ],
   "source": [
    "inicio + ' ' + final"
   ]
  },
  {
   "cell_type": "markdown",
   "metadata": {},
   "source": [
    "Si queremos repetir el string, podemos utilizar * para esta operación"
   ]
  },
  {
   "cell_type": "code",
   "execution_count": 53,
   "metadata": {},
   "outputs": [
    {
     "data": {
      "text/plain": [
       "'Inteligencia ArtificialInteligencia ArtificialInteligencia ArtificialInteligencia ArtificialInteligencia ArtificialInteligencia ArtificialInteligencia ArtificialInteligencia ArtificialInteligencia ArtificialInteligencia Artificial'"
      ]
     },
     "execution_count": 53,
     "metadata": {},
     "output_type": "execute_result"
    }
   ],
   "source": [
    "inicio*10"
   ]
  },
  {
   "cell_type": "markdown",
   "metadata": {},
   "source": [
    "Algo importante que queremos hacer a veces es medir el largo de la cadena, esta función embebida nos ayuda a calcular este número."
   ]
  },
  {
   "cell_type": "code",
   "execution_count": 79,
   "metadata": {},
   "outputs": [
    {
     "data": {
      "text/plain": [
       "10"
      ]
     },
     "execution_count": 79,
     "metadata": {},
     "output_type": "execute_result"
    }
   ],
   "source": [
    "data = \"0123456789\"\n",
    "len(data)"
   ]
  },
  {
   "cell_type": "markdown",
   "metadata": {},
   "source": [
    "#### Quiz\n",
    "\n",
    "Desarrolle lo que se solicita"
   ]
  },
  {
   "cell_type": "code",
   "execution_count": 59,
   "metadata": {
    "scrolled": true
   },
   "outputs": [
    {
     "name": "stdout",
     "output_type": "stream",
     "text": [
      "LA RESPUESTA ESPERADA DEBE SER:    Ser-O-No-Ser-He allí-El Dilema\n"
     ]
    }
   ],
   "source": [
    "# TODO:  Arregle lo que está mal\n",
    "\n",
    "quote = 'Ser-O-No-Ser-He allí-El Dilema'\n",
    "\n",
    "# LA RESPUESTA ESPERADA DEBE SER:  Ser-O-No-Ser-He allí-El Dilema\n",
    "print('LA RESPUESTA ESPERADA DEBE SER:   ' ,quote)"
   ]
  },
  {
   "cell_type": "code",
   "execution_count": null,
   "metadata": {
    "editable": false
   },
   "outputs": [],
   "source": [
    "fruta = \"25\"\n",
    "vegetales = \"12\""
   ]
  },
  {
   "cell_type": "code",
   "execution_count": 69,
   "metadata": {},
   "outputs": [
    {
     "name": "stdout",
     "output_type": "stream",
     "text": [
      "Resultado esperado  37  y tipo <class 'int'>\n"
     ]
    }
   ],
   "source": [
    "fruta = \"25\"\n",
    "vegetales = \"12\"\n",
    "total_fruta_y_vegetal = int(fruta) + int(vegetales)\n",
    "print('Resultado esperado ', total_fruta_y_vegetal, ' y tipo',type(total_fruta_y_vegetal) )"
   ]
  },
  {
   "cell_type": "markdown",
   "metadata": {},
   "source": [
    "Resultado esperado: 37  y tipo  <class 'int'>"
   ]
  },
  {
   "cell_type": "markdown",
   "metadata": {},
   "source": [
    "Ahora realizaremos un logger sencillo"
   ]
  },
  {
   "cell_type": "code",
   "execution_count": 70,
   "metadata": {},
   "outputs": [
    {
     "name": "stdout",
     "output_type": "stream",
     "text": [
      "Ignacio exited the url  http://minegocio.com/id/nmasaya/me  at  04:50\n"
     ]
    }
   ],
   "source": [
    "username = 'Ignacio'\n",
    "ts = \"04:50\"\n",
    "url = \"http://minegocio.com/id/nmasaya/me\"\n",
    "\n",
    "# TODO: imprimir un mensaje como que se muestra a continuación\n",
    "\n",
    "print(username , 'exited the url ', url, ' at ', ts)"
   ]
  },
  {
   "cell_type": "markdown",
   "metadata": {},
   "source": [
    "Resulado esperado:\n",
    "\n",
    "\"Ignacio exited the url http://minegocio.com/id/nmasaya/me at 04:50.\""
   ]
  },
  {
   "cell_type": "code",
   "execution_count": 80,
   "metadata": {},
   "outputs": [
    {
     "name": "stdout",
     "output_type": "stream",
     "text": [
      "True\n"
     ]
    }
   ],
   "source": [
    "nombre = \"Juan\"\n",
    "seg_nombre = \"Javier\"\n",
    "apellido = \"Jimenez\"\n",
    "\n",
    "# calcular el largo del nombre\n",
    "name_length = len(nombre+seg_nombre+apellido)\n",
    "\n",
    "\n",
    "\n",
    "# Ahora que calculó el largo del nombre intente  ver si cabe en la licencia\n",
    "driving_license_character_limit = 28\n",
    "print(name_length <= driving_license_character_limit)"
   ]
  },
  {
   "cell_type": "markdown",
   "metadata": {},
   "source": [
    "Resultado esperado:  \n",
    "True"
   ]
  },
  {
   "cell_type": "markdown",
   "metadata": {},
   "source": [
    "### Tipos y Tipos de Conversión\n",
    "\n",
    "Hasta ahora tenemos varios tipos como int, bool, float, string.\n",
    "\n",
    "El tipo de datos los podemos adquirir con las función type.  Tenemos que utilizar el tipo de datos correspondiente como ya vimos en ejemplos anteriores, de lo contrario no tendremos el tipo de datos correcto para procesar en la aplicación.  "
   ]
  },
  {
   "cell_type": "code",
   "execution_count": 81,
   "metadata": {},
   "outputs": [
    {
     "data": {
      "text/plain": [
       "bool"
      ]
     },
     "execution_count": 81,
     "metadata": {},
     "output_type": "execute_result"
    }
   ],
   "source": [
    "type(True)"
   ]
  },
  {
   "cell_type": "markdown",
   "metadata": {},
   "source": [
    "Adicionalmente tendremos casos en donde necesitemos cambiar el tipo de datos, para esto podemos hacer *type casting* y conseguir el dato de salida que necesitemos"
   ]
  },
  {
   "cell_type": "code",
   "execution_count": 82,
   "metadata": {},
   "outputs": [
    {
     "name": "stdout",
     "output_type": "stream",
     "text": [
      "4\n",
      "<class 'int'>\n"
     ]
    }
   ],
   "source": [
    "ctr = int(4.0)\n",
    "print(ctr)\n",
    "print(type(ctr))"
   ]
  },
  {
   "cell_type": "markdown",
   "metadata": {},
   "source": [
    "Por otro lado, tendremos situaciones donde deseemos imprimir un entero con una cadena,"
   ]
  },
  {
   "cell_type": "code",
   "execution_count": 83,
   "metadata": {},
   "outputs": [
    {
     "name": "stdout",
     "output_type": "stream",
     "text": [
      "<class 'int'>\n",
      "<class 'str'>\n",
      "13 Ave Tesseract-Midgard, Zanakard\n"
     ]
    }
   ],
   "source": [
    "casa = 13\n",
    "direccion = 'Ave Tesseract-Midgard'\n",
    "provincia = 'Zanakard'\n",
    "print(type(casa))\n",
    "print(type(direccion))\n",
    "\n",
    "full_dir = str(casa) + ' ' + direccion + ', ' + provincia\n",
    "print(full_dir)"
   ]
  },
  {
   "cell_type": "markdown",
   "metadata": {},
   "source": [
    "#### Encuentre los tipos de datos\n",
    "\n",
    "- \"12\"\n",
    "- 12.3\n",
    "- len('i am a string')"
   ]
  },
  {
   "cell_type": "code",
   "execution_count": 86,
   "metadata": {},
   "outputs": [
    {
     "name": "stdout",
     "output_type": "stream",
     "text": [
      "<class 'str'>\n",
      "<class 'float'>\n",
      "<class 'int'>\n"
     ]
    }
   ],
   "source": [
    "print(type(\"12\"))\n",
    "print(type(12.3))\n",
    "print(type(len('i am a string')))"
   ]
  },
  {
   "cell_type": "markdown",
   "metadata": {},
   "source": [
    "#### Métodos y Cadenas\n",
    "\n",
    "Hasta ahora hemos visto operadores y funciones.  \n",
    "\n",
    "Los operadores hasta ahora (más comunes que hemos visto son, entre algunos) +, - , *.\n",
    "\n",
    "Para el caso de funciones hemos visto algunas como print(), len(), float().\n",
    "\n",
    "Funciones y operadores tienen el mismo objetivo (modificar o dar resultados de variables), lo único que cambia es como lucen.  Las funciones las podemos identificar rápidamente debido a que poseen paréntesis.\n",
    "\n",
    "Existen otro tipo de usos con variables llamados métodos.  Los métodos solamente se aplican con un grupo específico de tipo de datos."
   ]
  },
  {
   "cell_type": "code",
   "execution_count": 87,
   "metadata": {},
   "outputs": [
    {
     "data": {
      "text/plain": [
       "'Inteligencia Artificial'"
      ]
     },
     "execution_count": 87,
     "metadata": {},
     "output_type": "execute_result"
    }
   ],
   "source": [
    "'inteligencia artificial'.title()"
   ]
  },
  {
   "cell_type": "markdown",
   "metadata": {},
   "source": [
    "Observamos que este método ocupa solo la primera letra de cada frase y la convierte en mayúscula.  Ahora exploremos el siguiente método... "
   ]
  },
  {
   "cell_type": "code",
   "execution_count": 88,
   "metadata": {},
   "outputs": [
    {
     "name": "stdout",
     "output_type": "stream",
     "text": [
      "False\n"
     ]
    }
   ],
   "source": [
    "materia = 'INTELIGENCIA ARTIFICIAL'\n",
    "print(materia.islower())"
   ]
  },
  {
   "cell_type": "markdown",
   "metadata": {},
   "source": [
    "Del ejemplo anterior tenemos que el resultado es falso debido a que no tenemos minúsculas todas, aunque alguna estuviese en mayusculas y las demás en minusculas el resultado sería el mismo.\n",
    "\n",
    "Los métodos generalmente tienen una palabra que los acompaña entre el paréntesis, estos se llaman argumentos.  Para los métodos utilizados no tienen ningun argumento, pero en realidad está sobreentendido y se lleva como argumento, en este caso, la cadena.\n",
    "\n",
    "Veamos un ejemplo donde haya un método de más de un argumento."
   ]
  },
  {
   "cell_type": "code",
   "execution_count": 89,
   "metadata": {},
   "outputs": [
    {
     "name": "stdout",
     "output_type": "stream",
     "text": [
      "2\n"
     ]
    }
   ],
   "source": [
    "print('Abaco 3 Casas 4 Peces 3 Cadenas tres veces treinta y tres veces'.count('tres'))"
   ]
  },
  {
   "cell_type": "markdown",
   "metadata": {},
   "source": [
    "Aquí vemos cuantas veces se vio aparece la cadena 'tres' existente en esta cadena.\n",
    "\n",
    "[Vea este vínculo para tener más referencias de cadenas y métodos.](https://www.w3schools.com/python/python_ref_string.asp)"
   ]
  },
  {
   "cell_type": "markdown",
   "metadata": {},
   "source": [
    "#### Prácticas\n",
    "\n",
    "- ¿Qué pasa cuando se llama al método islower() para cuando es un punto flotante?\n",
    "  - Retorna True\n",
    "  - Retorna False\n",
    "  - Retorna error"
   ]
  },
  {
   "cell_type": "code",
   "execution_count": 90,
   "metadata": {},
   "outputs": [
    {
     "ename": "AttributeError",
     "evalue": "'float' object has no attribute 'islower'",
     "output_type": "error",
     "traceback": [
      "\u001b[1;31m---------------------------------------------------------------------------\u001b[0m",
      "\u001b[1;31mAttributeError\u001b[0m                            Traceback (most recent call last)",
      "\u001b[1;32m<ipython-input-90-cb0fec455b15>\u001b[0m in \u001b[0;36m<module>\u001b[1;34m\u001b[0m\n\u001b[0;32m      1\u001b[0m \u001b[0ma\u001b[0m \u001b[1;33m=\u001b[0m \u001b[1;36m1.23\u001b[0m\u001b[1;33m\u001b[0m\u001b[1;33m\u001b[0m\u001b[0m\n\u001b[1;32m----> 2\u001b[1;33m \u001b[0mprint\u001b[0m\u001b[1;33m(\u001b[0m\u001b[0ma\u001b[0m\u001b[1;33m.\u001b[0m\u001b[0mislower\u001b[0m\u001b[1;33m(\u001b[0m\u001b[1;33m)\u001b[0m\u001b[1;33m)\u001b[0m\u001b[1;33m\u001b[0m\u001b[1;33m\u001b[0m\u001b[0m\n\u001b[0m",
      "\u001b[1;31mAttributeError\u001b[0m: 'float' object has no attribute 'islower'"
     ]
    }
   ],
   "source": [
    "a = 1.23\n",
    "print(a.islower())"
   ]
  },
  {
   "cell_type": "markdown",
   "metadata": {},
   "source": [
    "Del vínculo de métodos intente utilizar alguno"
   ]
  },
  {
   "cell_type": "code",
   "execution_count": 91,
   "metadata": {},
   "outputs": [
    {
     "data": {
      "text/plain": [
       "'Star Wars'"
      ]
     },
     "execution_count": 91,
     "metadata": {},
     "output_type": "execute_result"
    }
   ],
   "source": [
    "'star wars'.title()"
   ]
  },
  {
   "cell_type": "code",
   "execution_count": 94,
   "metadata": {},
   "outputs": [
    {
     "name": "stdout",
     "output_type": "stream",
     "text": [
      "For only 49.00 dollars!\n"
     ]
    }
   ],
   "source": [
    "# Escriba un código donde asigne un valor a una variable\n",
    "txt = \"For only {price:.2f} dollars!\"\n",
    "\n",
    "# Ahora imprima en pantalla con print() pero usando .format() para las variables que se asigno anteriormente e imprima estas dos variables\n",
    "print(txt.format(price = 49))"
   ]
  },
  {
   "cell_type": "markdown",
   "metadata": {},
   "source": [
    "#### Listas\n",
    "\n",
    "Existen otro tipos de contenedores de datos que son muy útiles para realizar operaciones, las listas.  Las listas son un tipo de datos que se pueden alterar su valor y posición, podemos tanto ordenarlas como establecer su secuencia.\n",
    "\n",
    "En el siguiente ejemplo veremos un grupo de lista de cadenas."
   ]
  },
  {
   "cell_type": "code",
   "execution_count": null,
   "metadata": {},
   "outputs": [],
   "source": [
    "materias = [\"Robotica\", \"IA\", \"Control\", \"Tecnologia Mecanica\"]"
   ]
  },
  {
   "cell_type": "markdown",
   "metadata": {},
   "source": [
    "Podemos acceder a un elemento de la lista por su índice."
   ]
  },
  {
   "cell_type": "code",
   "execution_count": 96,
   "metadata": {},
   "outputs": [
    {
     "data": {
      "text/plain": [
       "('Robotica', 'Control', 'Tecnologia Mecanica')"
      ]
     },
     "execution_count": 96,
     "metadata": {},
     "output_type": "execute_result"
    }
   ],
   "source": [
    "materias = [\"Robotica\", \"IA\", \"Control\", \"Tecnologia Mecanica\"]\n",
    "materias[0], materias[2], materias[-1]"
   ]
  },
  {
   "cell_type": "markdown",
   "metadata": {},
   "source": [
    "¿Notó algo raro?  Podemos especificar un índice negativo!.  Python permite esto y el índice negativo indica que se empieza desde el final.\n",
    "\n",
    "¿Qué sudecería si especifico un índice mayor al que posee la lista?.  Simplemente da error porque este índice no está especificado en dicha lista."
   ]
  },
  {
   "cell_type": "code",
   "execution_count": 97,
   "metadata": {},
   "outputs": [
    {
     "ename": "IndexError",
     "evalue": "list index out of range",
     "output_type": "error",
     "traceback": [
      "\u001b[1;31m---------------------------------------------------------------------------\u001b[0m",
      "\u001b[1;31mIndexError\u001b[0m                                Traceback (most recent call last)",
      "\u001b[1;32m<ipython-input-97-d08d885ef40c>\u001b[0m in \u001b[0;36m<module>\u001b[1;34m\u001b[0m\n\u001b[0;32m      1\u001b[0m \u001b[0mmaterias\u001b[0m \u001b[1;33m=\u001b[0m \u001b[1;33m[\u001b[0m\u001b[1;34m\"Robotica\"\u001b[0m\u001b[1;33m,\u001b[0m \u001b[1;34m\"IA\"\u001b[0m\u001b[1;33m,\u001b[0m \u001b[1;34m\"Control\"\u001b[0m\u001b[1;33m,\u001b[0m \u001b[1;34m\"Tecnologia Mecanica\"\u001b[0m\u001b[1;33m]\u001b[0m\u001b[1;33m\u001b[0m\u001b[1;33m\u001b[0m\u001b[0m\n\u001b[1;32m----> 2\u001b[1;33m \u001b[0mmaterias\u001b[0m\u001b[1;33m[\u001b[0m\u001b[1;36m5\u001b[0m\u001b[1;33m]\u001b[0m\u001b[1;33m\u001b[0m\u001b[1;33m\u001b[0m\u001b[0m\n\u001b[0m",
      "\u001b[1;31mIndexError\u001b[0m: list index out of range"
     ]
    }
   ],
   "source": [
    "materias = [\"Robotica\", \"IA\", \"Control\", \"Tecnologia Mecanica\"]\n",
    "materias[5]"
   ]
  },
  {
   "cell_type": "markdown",
   "metadata": {},
   "source": [
    "La mayoría de los lenguajes de programación indexan desde cero, siendo cero el primer elemento."
   ]
  },
  {
   "cell_type": "markdown",
   "metadata": {},
   "source": [
    "Podemos acceder una parte de un arreglo o lista con python.  Considere el siguiente ejemplo"
   ]
  },
  {
   "cell_type": "code",
   "execution_count": 98,
   "metadata": {},
   "outputs": [
    {
     "name": "stdout",
     "output_type": "stream",
     "text": [
      "['a', 'b', 'c']\n",
      "['a', 'b', 'c']\n"
     ]
    }
   ],
   "source": [
    "valores = ['a', 'b', 'c', 'd', 'e', 'f', 'g', 'h']\n",
    "\n",
    "primeros_tres = valores[:3]\n",
    "print(primeros_tres)\n",
    "primeros_tres = valores[0:3]\n",
    "print(primeros_tres)"
   ]
  },
  {
   "cell_type": "markdown",
   "metadata": {},
   "source": [
    "Como observamos anteriormente podemos obviar el primer indice si empezamos desde el primero"
   ]
  },
  {
   "cell_type": "code",
   "execution_count": 99,
   "metadata": {},
   "outputs": [
    {
     "name": "stdout",
     "output_type": "stream",
     "text": [
      "['f', 'g', 'h']\n",
      "['f', 'g', 'h']\n"
     ]
    }
   ],
   "source": [
    "valores = ['a', 'b', 'c', 'd', 'e', 'f', 'g', 'h']\n",
    "\n",
    "ultimos_tres = valores[5:]\n",
    "print(ultimos_tres)\n",
    "ultimos_tres = valores[5:8]\n",
    "print(ultimos_tres)"
   ]
  },
  {
   "cell_type": "markdown",
   "metadata": {},
   "source": [
    "También podemos especificar una parte del arreglo"
   ]
  },
  {
   "cell_type": "code",
   "execution_count": 100,
   "metadata": {},
   "outputs": [
    {
     "data": {
      "text/plain": [
       "['c', 'd', 'e', 'f']"
      ]
     },
     "execution_count": 100,
     "metadata": {},
     "output_type": "execute_result"
    }
   ],
   "source": [
    "valores = ['a', 'b', 'c', 'd', 'e', 'f', 'g', 'h']\n",
    "intermedio = valores[2:6]\n",
    "intermedio"
   ]
  },
  {
   "cell_type": "markdown",
   "metadata": {},
   "source": [
    "Existe diferencia entre el largo de la cadena y el largo del arreglo, lo veremos con un ejemplo"
   ]
  },
  {
   "cell_type": "code",
   "execution_count": 101,
   "metadata": {},
   "outputs": [
    {
     "name": "stdout",
     "output_type": "stream",
     "text": [
      "32\n",
      "3\n"
     ]
    }
   ],
   "source": [
    "calificacion = 'Su calificación aprueba el curso'\n",
    "items = ['Pasta', 'Cepillo', 'Bolsa de Basura']\n",
    "\n",
    "print(len(calificacion))\n",
    "print(len(items))"
   ]
  },
  {
   "cell_type": "markdown",
   "metadata": {},
   "source": [
    "Note también que podemos hacer 'slicing' de strings."
   ]
  },
  {
   "cell_type": "code",
   "execution_count": 102,
   "metadata": {},
   "outputs": [
    {
     "data": {
      "text/plain": [
       "'u calificación ap'"
      ]
     },
     "execution_count": 102,
     "metadata": {},
     "output_type": "execute_result"
    }
   ],
   "source": [
    "calificacion = 'Su calificación aprueba el curso'\n",
    "items = ['Pasta', 'Cepillo', 'Bolsa de Basura']\n",
    "calificacion[1:18]"
   ]
  },
  {
   "cell_type": "markdown",
   "metadata": {},
   "source": [
    "Un operador muy útil que hará referencia siempre son los operadores de miembros 'in' y 'not in'.\n",
    "- in : evalua si un objeto existe dentro de la lista\n",
    "- not in : evalua si un objeto no existe dentro de la lista"
   ]
  },
  {
   "cell_type": "code",
   "execution_count": 103,
   "metadata": {},
   "outputs": [
    {
     "data": {
      "text/plain": [
       "True"
      ]
     },
     "execution_count": 103,
     "metadata": {},
     "output_type": "execute_result"
    }
   ],
   "source": [
    "mi_lista = 'Estaremos a la una de la tarde para las clases'\n",
    "'ar' in mi_lista"
   ]
  },
  {
   "cell_type": "code",
   "execution_count": 104,
   "metadata": {},
   "outputs": [
    {
     "name": "stdout",
     "output_type": "stream",
     "text": [
      "False True\n"
     ]
    }
   ],
   "source": [
    "nombres = ['Maria', 'Ana', 'Estela', 'juan']\n",
    "print('Juan' in nombres, 'Juan' not in nombres)"
   ]
  },
  {
   "cell_type": "markdown",
   "metadata": {},
   "source": [
    "¿Cómo son diferentes las cadenas de las listas?.  Las listas son un grupo de caracteres, pero las listas son un grupo de ellas, además que podemos cambiarlas.\n",
    "\n",
    "Las cadenas son un tipo de dato inmutable, es decir, no se puede cambiar.  Las listas son mutables, es decir podemos realizar cambios sobre ellas"
   ]
  },
  {
   "cell_type": "code",
   "execution_count": 106,
   "metadata": {},
   "outputs": [
    {
     "ename": "TypeError",
     "evalue": "'str' object does not support item assignment",
     "output_type": "error",
     "traceback": [
      "\u001b[1;31m---------------------------------------------------------------------------\u001b[0m",
      "\u001b[1;31mTypeError\u001b[0m                                 Traceback (most recent call last)",
      "\u001b[1;32m<ipython-input-106-05876d92f38f>\u001b[0m in \u001b[0;36m<module>\u001b[1;34m\u001b[0m\n\u001b[0;32m      1\u001b[0m \u001b[0mm\u001b[0m \u001b[1;33m=\u001b[0m \u001b[1;34m'abc'\u001b[0m\u001b[1;33m\u001b[0m\u001b[1;33m\u001b[0m\u001b[0m\n\u001b[1;32m----> 2\u001b[1;33m \u001b[0mm\u001b[0m\u001b[1;33m[\u001b[0m\u001b[1;36m0\u001b[0m\u001b[1;33m]\u001b[0m \u001b[1;33m=\u001b[0m \u001b[1;34m'c'\u001b[0m\u001b[1;33m\u001b[0m\u001b[1;33m\u001b[0m\u001b[0m\n\u001b[0m\u001b[0;32m      3\u001b[0m \u001b[0mm\u001b[0m\u001b[1;33m\u001b[0m\u001b[1;33m\u001b[0m\u001b[0m\n",
      "\u001b[1;31mTypeError\u001b[0m: 'str' object does not support item assignment"
     ]
    }
   ],
   "source": [
    "m = 'abc'\n",
    "m[0] = 'c'"
   ]
  },
  {
   "cell_type": "code",
   "execution_count": 107,
   "metadata": {},
   "outputs": [
    {
     "name": "stdout",
     "output_type": "stream",
     "text": [
      "['xwb', 'abc', 'def']\n",
      "['wxy', 'abc', 'def']\n"
     ]
    }
   ],
   "source": [
    "n = ['xwb', 'abc', 'def']\n",
    "print(n)\n",
    "n[0] = 'wxy'\n",
    "print(n)"
   ]
  },
  {
   "cell_type": "markdown",
   "metadata": {},
   "source": [
    "#### Ahora intentelo ud."
   ]
  },
  {
   "cell_type": "code",
   "execution_count": 110,
   "metadata": {},
   "outputs": [
    {
     "name": "stdout",
     "output_type": "stream",
     "text": [
      "31\n"
     ]
    }
   ],
   "source": [
    "# mes = #\n",
    "dias_del_mes = [31,28,31,30,31,30,31,31,30,31,30,31]\n",
    "\n",
    "# Use indexing para determinar el número de días en el mes 8\n",
    "num_dias =  dias_del_mes[7]\n",
    "print(num_dias)"
   ]
  },
  {
   "cell_type": "markdown",
   "metadata": {},
   "source": [
    "Repuesta esperada: 31"
   ]
  },
  {
   "cell_type": "code",
   "execution_count": 111,
   "metadata": {},
   "outputs": [
    {
     "name": "stdout",
     "output_type": "stream",
     "text": [
      "['Mar 20, 1492', 'Abril 12, 1999', 'Jun 12, 2010']\n"
     ]
    }
   ],
   "source": [
    "dias = ['Feb 8, 1980', 'Dic 8, 1949', \n",
    "        'Mar 20, 1492', 'Abril 12, 1999',\n",
    "        'Jun 12, 2010']\n",
    "                 \n",
    "# Imprima los ultimos tres elementos de la lista\n",
    "print(dias[2:])"
   ]
  },
  {
   "cell_type": "markdown",
   "metadata": {},
   "source": [
    "Respuesta esperada: ['Mar 20, 1492', 'Abril 12, 1999', 'Jun 12, 2010']"
   ]
  },
  {
   "cell_type": "markdown",
   "metadata": {},
   "source": [
    "Suponga que tenemos las siguientes expresiones:\n",
    "\n",
    "p1 = \"Quisiera que se terminara la materia\"\n",
    "p2 = [\"Quisiera\", \"que\", \"se\", \"terminara\", \"la\", \"materia\"]\n",
    "\n",
    "¿Qué sucede cuando evaluamos estos casos con cada una de las palabras p1 y p2?\n",
    "- p2[4] = \"que\"\n",
    "- p2[0]= \"Quisira que\"\n",
    "- p1[30]=\"a\"\n",
    "- p2[0:2] = [\"Que\", \"quisiera\"]"
   ]
  },
  {
   "cell_type": "code",
   "execution_count": null,
   "metadata": {},
   "outputs": [],
   "source": [
    "# Lo que sucede cuando queremos hacer p1[30] = \"a\" es que eso nos tira un error debido a que este es inmutable, es decir, no se puede cambiar."
   ]
  },
  {
   "cell_type": "code",
   "execution_count": 118,
   "metadata": {},
   "outputs": [
    {
     "name": "stdout",
     "output_type": "stream",
     "text": [
      "Quisiera que se terminara la materia\n"
     ]
    },
    {
     "data": {
      "text/plain": [
       "['Que', 'quisiera', 'se', 'terminara', 'que', 'materia']"
      ]
     },
     "execution_count": 118,
     "metadata": {},
     "output_type": "execute_result"
    }
   ],
   "source": [
    "p1 = \"Quisiera que se terminara la materia\" \n",
    "p2 = [\"Quisiera\", \"que\", \"se\", \"terminara\", \"la\", \"materia\"]\n",
    "p2[4] = \"que\"\n",
    "p2[0]= \"Quisira que\"\n",
    "# p1[30] = \"a\"\n",
    "p2[0:2] = [\"Que\", \"quisiera\"]\n",
    "print(p1)\n",
    "p2"
   ]
  },
  {
   "cell_type": "markdown",
   "metadata": {},
   "source": [
    "#### Más de listas e inmutabilidad\n",
    "\n",
    "Dijimos que las listas son mutables y que las cadenas no lo son, veamos un poco más de esto con un ejemplo."
   ]
  },
  {
   "cell_type": "code",
   "execution_count": 119,
   "metadata": {},
   "outputs": [
    {
     "name": "stdout",
     "output_type": "stream",
     "text": [
      "Pepe\n",
      "Coimbra\n"
     ]
    }
   ],
   "source": [
    "nombre = 'Coimbra'\n",
    "jugador = nombre\n",
    "nombre = 'Pepe'\n",
    "print(nombre)\n",
    "print(jugador)"
   ]
  },
  {
   "cell_type": "markdown",
   "metadata": {},
   "source": [
    "Ahora veamos el mismo caso pero con las listas"
   ]
  },
  {
   "cell_type": "code",
   "execution_count": 120,
   "metadata": {},
   "outputs": [
    {
     "name": "stdout",
     "output_type": "stream",
     "text": [
      "['a', 'b', 'c', 'j', 'e', 'f', 'g', 'h']\n",
      "['a', 'b', 'c', 'j', 'e', 'f', 'g', 'h']\n"
     ]
    }
   ],
   "source": [
    "lista_1 = ['a', 'b', 'c', 'd', 'e', 'f', 'g', 'h']\n",
    "lista_2 = lista_1\n",
    "lista_1[3] = 'j'\n",
    "print(lista_1)\n",
    "print(lista_2)"
   ]
  },
  {
   "cell_type": "markdown",
   "metadata": {},
   "source": [
    "Notamos entonces que esto hace efecto en ambos casos para ambas variables. \n",
    "\n",
    "Existen también métodos para las listas, exploremos max() que nos da el máximo de la lista de objetos dependiendo de cuál tipo de objeto hallamos especificado."
   ]
  },
  {
   "cell_type": "code",
   "execution_count": 121,
   "metadata": {},
   "outputs": [
    {
     "name": "stdout",
     "output_type": "stream",
     "text": [
      "20\n"
     ]
    }
   ],
   "source": [
    "lista_1 = [2, 14, 20, -1, -5, 4]\n",
    "\n",
    "print(max(lista_1))"
   ]
  },
  {
   "cell_type": "code",
   "execution_count": 122,
   "metadata": {},
   "outputs": [
    {
     "name": "stdout",
     "output_type": "stream",
     "text": [
      "Sagitarius Aiolos\n"
     ]
    }
   ],
   "source": [
    "lista_2 = ['Aries Mu', 'Cygnus Hyoga', 'Pegasus Seiya', 'Pegasus Tenma', 'Sagitarius Aiolos', 'Libra Dohko']\n",
    "print(max(lista_2))"
   ]
  },
  {
   "cell_type": "markdown",
   "metadata": {},
   "source": [
    "En las listas de cadenas, la función máx nos dá el resutaldo de la palabra con la que inicia y es mayor dentro del alfabeto.  Es decir, el máximo es el que aparece como máximo alfabeticamente."
   ]
  },
  {
   "cell_type": "code",
   "execution_count": 123,
   "metadata": {},
   "outputs": [
    {
     "ename": "TypeError",
     "evalue": "'>' not supported between instances of 'str' and 'int'",
     "output_type": "error",
     "traceback": [
      "\u001b[1;31m---------------------------------------------------------------------------\u001b[0m",
      "\u001b[1;31mTypeError\u001b[0m                                 Traceback (most recent call last)",
      "\u001b[1;32m<ipython-input-123-e755639d4670>\u001b[0m in \u001b[0;36m<module>\u001b[1;34m\u001b[0m\n\u001b[1;32m----> 1\u001b[1;33m \u001b[0mmax\u001b[0m\u001b[1;33m(\u001b[0m\u001b[1;33m[\u001b[0m\u001b[1;36m12\u001b[0m\u001b[1;33m,\u001b[0m \u001b[1;34m'Shaka'\u001b[0m\u001b[1;33m]\u001b[0m\u001b[1;33m)\u001b[0m\u001b[1;33m\u001b[0m\u001b[1;33m\u001b[0m\u001b[0m\n\u001b[0m",
      "\u001b[1;31mTypeError\u001b[0m: '>' not supported between instances of 'str' and 'int'"
     ]
    }
   ],
   "source": [
    "max([12, 'Shaka'])"
   ]
  },
  {
   "cell_type": "markdown",
   "metadata": {},
   "source": [
    "Aquí nos da error, estamos comparando un entero y un string, para hacer comparaciones se necesita que sean el mismo tipo de datos.\n",
    "\n",
    "Veamos ahora el método sorted(), que nos da una lista ordenada dependiendo del tipo de datos."
   ]
  },
  {
   "cell_type": "code",
   "execution_count": 124,
   "metadata": {},
   "outputs": [
    {
     "name": "stdout",
     "output_type": "stream",
     "text": [
      "[1, 12, 24, 24, 48, 54, 65]\n"
     ]
    }
   ],
   "source": [
    "numbers = [24, 48, 54, 65, 24, 12, 1]\n",
    "print(sorted(numbers))"
   ]
  },
  {
   "cell_type": "code",
   "execution_count": 127,
   "metadata": {},
   "outputs": [
    {
     "name": "stdout",
     "output_type": "stream",
     "text": [
      "['Wednesday', 'Tuesday', 'Thursday', 'Sunday', 'Saturday', 'Monday', 'Friday']\n"
     ]
    }
   ],
   "source": [
    "days_of_week = ['Monday', 'Tuesday', 'Wednesday', 'Thursday', 'Friday', 'Saturday', 'Sunday']\n",
    "print(sorted(days_of_week, reverse=True))"
   ]
  },
  {
   "cell_type": "markdown",
   "metadata": {},
   "source": [
    "Otro método muy útil es join().  Este nos da la posibilidad de unir, en este caso una cadena por medio de caracteres específicos u otro string adicional."
   ]
  },
  {
   "cell_type": "code",
   "execution_count": 128,
   "metadata": {},
   "outputs": [
    {
     "data": {
      "text/plain": [
       "'No-te-voy-a-decir'"
      ]
     },
     "execution_count": 128,
     "metadata": {},
     "output_type": "execute_result"
    }
   ],
   "source": [
    "\"-\".join(['No', 'te', 'voy', 'a', 'decir'])"
   ]
  },
  {
   "cell_type": "markdown",
   "metadata": {},
   "source": [
    "Es importante que cuando estemos utilizando join(), el arreglo sea separado por comas, si no se hace esto no dará error pero si un resultado no deseado y difícil de depurar."
   ]
  },
  {
   "cell_type": "code",
   "execution_count": 129,
   "metadata": {},
   "outputs": [
    {
     "data": {
      "text/plain": [
       "'Notevoyadecir'"
      ]
     },
     "execution_count": 129,
     "metadata": {},
     "output_type": "execute_result"
    }
   ],
   "source": [
    "\"-\".join(['No' 'te' 'voy' 'a' 'decir'])"
   ]
  },
  {
   "cell_type": "markdown",
   "metadata": {},
   "source": [
    "Si intentamos unificar tanto una cadena como un número esto nos dará error."
   ]
  },
  {
   "cell_type": "code",
   "execution_count": 130,
   "metadata": {},
   "outputs": [
    {
     "ename": "TypeError",
     "evalue": "sequence item 1: expected str instance, int found",
     "output_type": "error",
     "traceback": [
      "\u001b[1;31m---------------------------------------------------------------------------\u001b[0m",
      "\u001b[1;31mTypeError\u001b[0m                                 Traceback (most recent call last)",
      "\u001b[1;32m<ipython-input-130-026590d4f294>\u001b[0m in \u001b[0;36m<module>\u001b[1;34m\u001b[0m\n\u001b[1;32m----> 1\u001b[1;33m \u001b[1;34m\" \"\u001b[0m\u001b[1;33m.\u001b[0m\u001b[0mjoin\u001b[0m\u001b[1;33m(\u001b[0m\u001b[1;33m[\u001b[0m\u001b[1;34m'No'\u001b[0m\u001b[1;33m,\u001b[0m \u001b[1;36m42\u001b[0m\u001b[1;33m,\u001b[0m \u001b[1;34m'es'\u001b[0m \u001b[1;34m'un'\u001b[0m \u001b[1;34m'número'\u001b[0m\u001b[1;33m]\u001b[0m\u001b[1;33m)\u001b[0m\u001b[1;33m\u001b[0m\u001b[1;33m\u001b[0m\u001b[0m\n\u001b[0m",
      "\u001b[1;31mTypeError\u001b[0m: sequence item 1: expected str instance, int found"
     ]
    }
   ],
   "source": [
    "\" \".join(['No', 42, 'es' 'un' 'número'])"
   ]
  },
  {
   "cell_type": "markdown",
   "metadata": {},
   "source": [
    "Otro método util para arreglos es append().  Veamos un ejemplo."
   ]
  },
  {
   "cell_type": "code",
   "execution_count": 131,
   "metadata": {},
   "outputs": [
    {
     "name": "stdout",
     "output_type": "stream",
     "text": [
      "['1', '2', '3', '5']\n"
     ]
    }
   ],
   "source": [
    "a = ['1', '2', '3']\n",
    "a.append('5')\n",
    "print(a)"
   ]
  },
  {
   "cell_type": "markdown",
   "metadata": {},
   "source": [
    "#### Intentelo ahora ud.\n",
    "\n",
    "¿Cuál será la salida del siguiente código?"
   ]
  },
  {
   "cell_type": "code",
   "execution_count": 132,
   "metadata": {},
   "outputs": [
    {
     "name": "stdout",
     "output_type": "stream",
     "text": [
      "4\n",
      "2\n"
     ]
    }
   ],
   "source": [
    "a = [1, 5, 8]\n",
    "b = [2, 6, 9, 10]\n",
    "c = [100, 200]\n",
    "\n",
    "print(max([len(a), len(b), len(c)]))\n",
    "print(min([len(a), len(b), len(c)]))"
   ]
  },
  {
   "cell_type": "markdown",
   "metadata": {},
   "source": [
    "Respuesta esperada:\n",
    "4\n",
    "2"
   ]
  },
  {
   "cell_type": "markdown",
   "metadata": {},
   "source": [
    "¿Cuál será la salida del siguiente código?"
   ]
  },
  {
   "cell_type": "code",
   "execution_count": 133,
   "metadata": {
    "scrolled": true
   },
   "outputs": [
    {
     "name": "stdout",
     "output_type": "stream",
     "text": [
      "Cuatro & Dos & Tres & Uno\n"
     ]
    }
   ],
   "source": [
    "names = [\"Uno\", \"Dos\", \"Tres\", \"Cuatro\"]\n",
    "print(\" & \".join(sorted(names)))"
   ]
  },
  {
   "cell_type": "markdown",
   "metadata": {},
   "source": [
    "Respuesta esperada:\n",
    "\n",
    "Cuatro & Dos & Tres & Uno"
   ]
  },
  {
   "cell_type": "markdown",
   "metadata": {},
   "source": [
    "¿Cuál será la salida del siguiente código?"
   ]
  },
  {
   "cell_type": "code",
   "execution_count": 134,
   "metadata": {},
   "outputs": [
    {
     "name": "stdout",
     "output_type": "stream",
     "text": [
      "['Armando', 'Ignacio', 'Luis', 'Norberto', 'Tito']\n"
     ]
    }
   ],
   "source": [
    "names = [\"Norberto\", \"Ignacio\", \"Luis\", \"Tito\"]\n",
    "names.append(\"Armando\")\n",
    "print(sorted(names))"
   ]
  },
  {
   "cell_type": "markdown",
   "metadata": {},
   "source": [
    "Respuesta esperada:\n",
    "\n",
    "['Armando', 'Ignacio', 'Luis', 'Norberto', 'Tito']"
   ]
  },
  {
   "cell_type": "markdown",
   "metadata": {},
   "source": [
    "#### Tuples"
   ]
  },
  {
   "cell_type": "markdown",
   "metadata": {},
   "source": [
    "Python provee otro contenedor de datos, los tuples.  Es una estructura de datos que es inmutable.  Concuerdan con las listas que los datos se guardan ordenadamente y se pueden acceder por medio de índices."
   ]
  },
  {
   "cell_type": "code",
   "execution_count": 135,
   "metadata": {},
   "outputs": [
    {
     "name": "stdout",
     "output_type": "stream",
     "text": [
      "(24.21254, 145.04011)\n",
      "La latitud  es: 24.21254\n",
      "La longitud es: 145.04011\n"
     ]
    }
   ],
   "source": [
    "lat_long = (24.21254, 145.04011)\n",
    "\n",
    "print(lat_long)\n",
    "print('La latitud  es: {}'.format(lat_long[0]))\n",
    "print('La longitud es: {}'.format(lat_long[1]))"
   ]
  },
  {
   "cell_type": "markdown",
   "metadata": {},
   "source": [
    "Como dijimos los tuples son inmutables, no podemos modificarlos, hacer operaciones de suma entre tuples.  Normalmente los tuples se utilizan como datos que son correlacionados entre uno y el otro y sabemos que siempre será así, como por ejemplo la latitud y longitud o también sexo y edad por ejemplo, que siempre están relacionados a la persona.\n",
    "\n",
    "Podemos también asignar los tuples de manera compacta, vea el siguiente ejemplo."
   ]
  },
  {
   "cell_type": "code",
   "execution_count": 136,
   "metadata": {},
   "outputs": [
    {
     "name": "stdout",
     "output_type": "stream",
     "text": [
      "Las dimensiones del tesseract son 12x14x20x34\n",
      "Las dimensiones del tesseract son 12x14x20x34\n"
     ]
    }
   ],
   "source": [
    "tesseract = 12, 14, 20, 34\n",
    "D1, D2, D3, D4 = tesseract\n",
    "print('Las dimensiones del tesseract son {}x{}x{}x{}'.format(D1,D2,D3,D4))\n",
    "print(f'Las dimensiones del tesseract son {D1}x{D2}x{D3}x{D4}')"
   ]
  },
  {
   "cell_type": "markdown",
   "metadata": {},
   "source": [
    "#### Intentelo ud.\n",
    "\n",
    "¿Cuál será la salida del siguiente código?"
   ]
  },
  {
   "cell_type": "code",
   "execution_count": 137,
   "metadata": {},
   "outputs": [
    {
     "name": "stdout",
     "output_type": "stream",
     "text": [
      "False\n",
      "8\n"
     ]
    }
   ],
   "source": [
    "tuple_a = 2, 8\n",
    "tuple_b = (8, 2)\n",
    "\n",
    "print(tuple_a == tuple_b)\n",
    "print(tuple_a[1])"
   ]
  },
  {
   "cell_type": "markdown",
   "metadata": {},
   "source": [
    "Resultado esperado:\n",
    "\n",
    "False\n",
    "8"
   ]
  },
  {
   "cell_type": "markdown",
   "metadata": {},
   "source": [
    "#### Sets\n",
    "\n",
    "Imaginemos que tenemos una aplicacion donde se conectan los usuarios y estos usuarios son de diferentes partes del mundo, tendremos entonces por ejemplo, una lista de miles de usuarios de diferentes regiones del planeta y los paises se verán duplicados, es aquí donde un 'set' es útil.\n",
    "\n",
    "Si recuerda, las listas generaban una salida incluso cuando el mismo dato era repetido, este aún existia.\n",
    "\n",
    "Podemos crear un 'set' de una 'lista' o 'array' si hacemos lo siguiente"
   ]
  },
  {
   "cell_type": "code",
   "execution_count": 138,
   "metadata": {},
   "outputs": [
    {
     "name": "stdout",
     "output_type": "stream",
     "text": [
      "['Ana', 'Gabriel', 'Juan', 'Laura', 'Roberto', 'Laura', 'Nestor', 'Ana', 'Cecibel'] 9\n",
      "{'Cecibel', 'Gabriel', 'Juan', 'Ana', 'Laura', 'Nestor', 'Roberto'} 7\n"
     ]
    }
   ],
   "source": [
    "nombres = ['Ana', 'Gabriel', 'Juan', 'Laura', 'Roberto', 'Laura', 'Nestor', 'Ana', 'Cecibel']\n",
    "print(nombres, len(nombres))\n",
    "print(set(nombres), len(set(nombres)))"
   ]
  },
  {
   "cell_type": "markdown",
   "metadata": {},
   "source": [
    "También tendremos casos en donde querramos añadir datos al final del set o remover del set un dato.  Centrémonos solamente en el ultimo dato insertado o la extracción del primer dato del set."
   ]
  },
  {
   "cell_type": "code",
   "execution_count": 109,
   "metadata": {},
   "outputs": [
    {
     "name": "stdout",
     "output_type": "stream",
     "text": [
      "{1, 2, 4, 5, 19, 20}\n",
      "{1, 2, 4, 5, 19, 20, -1}\n",
      "{2, 4, 5, 19, 20, -1}\n"
     ]
    }
   ],
   "source": [
    "my_set = set([1, 2, 4, 5, 19, 20])\n",
    "print(my_set)\n",
    "my_set.add(-1)\n",
    "print(my_set)\n",
    "my_set.pop()\n",
    "print(my_set)"
   ]
  },
  {
   "cell_type": "markdown",
   "metadata": {},
   "source": [
    "#### Ahora intentelo ud.\n",
    "\n",
    "¿Cuál será la salida del siguiente código?"
   ]
  },
  {
   "cell_type": "code",
   "execution_count": 139,
   "metadata": {
    "scrolled": true
   },
   "outputs": [
    {
     "name": "stdout",
     "output_type": "stream",
     "text": [
      "6\n"
     ]
    }
   ],
   "source": [
    "a = [1, 2, 2, 4, 4, 4, 8, 8, 8, 8]\n",
    "b = set(a)\n",
    "print(len(a) - len(b))"
   ]
  },
  {
   "cell_type": "markdown",
   "metadata": {},
   "source": [
    "Respuesta esperada:\n",
    "\n",
    "6"
   ]
  },
  {
   "cell_type": "markdown",
   "metadata": {},
   "source": [
    "Considere el siguiente código."
   ]
  },
  {
   "cell_type": "code",
   "execution_count": 145,
   "metadata": {},
   "outputs": [
    {
     "data": {
      "text/plain": [
       "{-1, 1, 2, 7, 9, 12, 15, 111}"
      ]
     },
     "execution_count": 145,
     "metadata": {},
     "output_type": "execute_result"
    }
   ],
   "source": [
    "a = [0, -1, -1, 2, 1, 2, 7, 9, 12, 15]\n",
    "b = set(a)\n",
    "b.add(111)\n",
    "b.pop()\n",
    "b"
   ]
  },
  {
   "cell_type": "markdown",
   "metadata": {},
   "source": [
    "Después de ejecutar el código, ¿el número 111 seguirá siendo parte del set?"
   ]
  },
  {
   "cell_type": "code",
   "execution_count": null,
   "metadata": {},
   "outputs": [],
   "source": [
    "# Si"
   ]
  },
  {
   "cell_type": "markdown",
   "metadata": {},
   "source": [
    "#### Diccionarios y operadores de identidades\n",
    "\n",
    "Sets son estructuras simples de datos con la opción de coleccinar un solo tipo de datos.  Los diccionarios operan como los sets pero podemos coleccionar diferentes tipos de datos por 'keys' y 'values'.\n",
    "\n",
    "Para un diccionario 'key' es el equivalente de el índice en la lista, solo que este puede ser cualquier tipo de dato. \n",
    "\n",
    "'values' son los valores de esa específica llave ('key'), que es por el que se accesará el elemento."
   ]
  },
  {
   "cell_type": "code",
   "execution_count": 146,
   "metadata": {},
   "outputs": [
    {
     "name": "stdout",
     "output_type": "stream",
     "text": [
      "2\n",
      "{'January': 1, 'February': 2, 'March': 3}\n"
     ]
    }
   ],
   "source": [
    "my_dict = {'January':1, 'February':2, 'March':3}\n",
    "\n",
    "print(my_dict['February'])\n",
    "print(my_dict)"
   ]
  },
  {
   "cell_type": "markdown",
   "metadata": {},
   "source": [
    "No necesariamente podemos tener el 'key' del mismo tipo, pero normalmente acostumbro a uniformar este tipo de 'key'.\n",
    "\n",
    "También podemos utilizar el referente 'in' para buscar si un elemento se encuentra dentro del diccionario."
   ]
  },
  {
   "cell_type": "code",
   "execution_count": 147,
   "metadata": {},
   "outputs": [
    {
     "name": "stdout",
     "output_type": "stream",
     "text": [
      "{'January': 1, 'February': 2, 'March': 3, 'April': 4, 'May': 5, 'June': 6, 'July': 7, 'August': 8, 'September': 9, 'October': 10, 'November': 11, 'December': 12}\n",
      "False\n"
     ]
    }
   ],
   "source": [
    "my_dict = {'January':1, 'February':2, 'March':3, 'April':4, 'May':5, 'June':6, 'July':7, \n",
    "           'August':8, 'September':9, 'October':10, 'November':11, 'December':12}\n",
    "print(my_dict)\n",
    "print('Monday' in my_dict)"
   ]
  },
  {
   "cell_type": "markdown",
   "metadata": {},
   "source": [
    "Una manera de extraer valores del diccionario es utilizando get().  Veamos un ejemplo."
   ]
  },
  {
   "cell_type": "code",
   "execution_count": 148,
   "metadata": {},
   "outputs": [
    {
     "name": "stdout",
     "output_type": "stream",
     "text": [
      "9\n",
      "None\n"
     ]
    },
    {
     "ename": "KeyError",
     "evalue": "'Monday'",
     "output_type": "error",
     "traceback": [
      "\u001b[1;31m---------------------------------------------------------------------------\u001b[0m",
      "\u001b[1;31mKeyError\u001b[0m                                  Traceback (most recent call last)",
      "\u001b[1;32m<ipython-input-148-c8d9cc599cd0>\u001b[0m in \u001b[0;36m<module>\u001b[1;34m\u001b[0m\n\u001b[0;32m      3\u001b[0m \u001b[0mprint\u001b[0m\u001b[1;33m(\u001b[0m\u001b[0mmy_dict\u001b[0m\u001b[1;33m.\u001b[0m\u001b[0mget\u001b[0m\u001b[1;33m(\u001b[0m\u001b[1;34m'September'\u001b[0m\u001b[1;33m)\u001b[0m\u001b[1;33m)\u001b[0m\u001b[1;33m\u001b[0m\u001b[1;33m\u001b[0m\u001b[0m\n\u001b[0;32m      4\u001b[0m \u001b[0mprint\u001b[0m\u001b[1;33m(\u001b[0m\u001b[0mmy_dict\u001b[0m\u001b[1;33m.\u001b[0m\u001b[0mget\u001b[0m\u001b[1;33m(\u001b[0m\u001b[1;34m'Monday'\u001b[0m\u001b[1;33m)\u001b[0m\u001b[1;33m)\u001b[0m\u001b[1;33m\u001b[0m\u001b[1;33m\u001b[0m\u001b[0m\n\u001b[1;32m----> 5\u001b[1;33m \u001b[0mprint\u001b[0m\u001b[1;33m(\u001b[0m\u001b[0mmy_dict\u001b[0m\u001b[1;33m[\u001b[0m\u001b[1;34m'Monday'\u001b[0m\u001b[1;33m]\u001b[0m\u001b[1;33m)\u001b[0m\u001b[1;33m\u001b[0m\u001b[1;33m\u001b[0m\u001b[0m\n\u001b[0m",
      "\u001b[1;31mKeyError\u001b[0m: 'Monday'"
     ]
    }
   ],
   "source": [
    "my_dict = {'January':1, 'February':2, 'March':3, 'April':4, 'May':5, 'June':6, 'July':7, \n",
    "           'August':8, 'September':9, 'October':10, 'November':11, 'December':12}\n",
    "print(my_dict.get('September'))\n",
    "print(my_dict.get('Monday'))\n",
    "print(my_dict['Monday'])"
   ]
  },
  {
   "cell_type": "markdown",
   "metadata": {},
   "source": [
    "Observó que para el primer caso extrajo el valor dependiendo de la llave en el diccionario y para el caso siguiente, como no estaba dentro de la posiblidad entonces nos dio *None* como respuesta.\n",
    "\n",
    "Para el último caso notamos que buscamos una llave que no existe utilizando el nombre específico de esta llave y el programa nos da error, esto puede causar problemas en su código pero no es una mala práctica, adopte la mejor para ud.\n",
    "\n",
    "Podemos corregir este inconveniente verificando, como en el siguiente código."
   ]
  },
  {
   "cell_type": "code",
   "execution_count": 149,
   "metadata": {},
   "outputs": [
    {
     "name": "stdout",
     "output_type": "stream",
     "text": [
      "True\n"
     ]
    }
   ],
   "source": [
    "my_dict = {'January':1, 'February':2, 'March':3, 'April':4, 'May':5, 'June':6, 'July':7, \n",
    "           'August':8, 'September':9, 'October':10, 'November':11, 'December':12}\n",
    "mes = my_dict.get('June')\n",
    "not_null = mes is not None\n",
    "print(not_null)"
   ]
  },
  {
   "cell_type": "markdown",
   "metadata": {},
   "source": [
    "Introducimos en el código anterior operadores de identidad...\n",
    "- is\n",
    "- is not\n",
    "\n",
    "Veremos más en el siguiente quiz."
   ]
  },
  {
   "cell_type": "markdown",
   "metadata": {},
   "source": [
    "### Intentelo ud ahora\n",
    "\n",
    "Defina un diccionario de los siguientes datos\n",
    "\n",
    "Keys, Values\n",
    "- Panama, 5.9\n",
    "- Costa Rica, 6.2\n",
    "- Colombia, 8.4\n",
    "- Mexico, 1.2"
   ]
  },
  {
   "cell_type": "code",
   "execution_count": 150,
   "metadata": {},
   "outputs": [
    {
     "name": "stdout",
     "output_type": "stream",
     "text": [
      "{'Panama': 5.9, 'Costa Rica': 6.2, 'Colombia': 8.4, 'Mexico': 1.2}\n"
     ]
    }
   ],
   "source": [
    "paises = { 'Panama':5.9, 'Costa Rica':6.2, 'Colombia':8.4, 'Mexico':1.2 }\n",
    "print(paises)"
   ]
  },
  {
   "cell_type": "markdown",
   "metadata": {},
   "source": [
    "¿Cuáles de las siguientes pueden ser utilizadas como diccionario?\n",
    "- str\n",
    "- list\n",
    "- int\n",
    "- float"
   ]
  },
  {
   "cell_type": "code",
   "execution_count": null,
   "metadata": {},
   "outputs": [],
   "source": [
    "# Respuesta: str, int, float"
   ]
  },
  {
   "cell_type": "markdown",
   "metadata": {},
   "source": [
    "¿Qué sucede si buscamos un valor que no existe en un diccionario?\n",
    "\n",
    "Para verificar, realizar:\n",
    "- Crear un diccionario\n",
    "- Buscar por braquets un valor no existente\n",
    "- Qué sucede"
   ]
  },
  {
   "cell_type": "code",
   "execution_count": 151,
   "metadata": {},
   "outputs": [
    {
     "name": "stdout",
     "output_type": "stream",
     "text": [
      "{'Panama': 5.9, 'Costa Rica': 6.2, 'Colombia': 8.4, 'Mexico': 1.2}\n"
     ]
    },
    {
     "ename": "KeyError",
     "evalue": "'China'",
     "output_type": "error",
     "traceback": [
      "\u001b[1;31m---------------------------------------------------------------------------\u001b[0m",
      "\u001b[1;31mKeyError\u001b[0m                                  Traceback (most recent call last)",
      "\u001b[1;32m<ipython-input-151-27ad45850166>\u001b[0m in \u001b[0;36m<module>\u001b[1;34m\u001b[0m\n\u001b[0;32m      1\u001b[0m \u001b[0mpaises\u001b[0m \u001b[1;33m=\u001b[0m \u001b[1;33m{\u001b[0m \u001b[1;34m'Panama'\u001b[0m\u001b[1;33m:\u001b[0m\u001b[1;36m5.9\u001b[0m\u001b[1;33m,\u001b[0m \u001b[1;34m'Costa Rica'\u001b[0m\u001b[1;33m:\u001b[0m\u001b[1;36m6.2\u001b[0m\u001b[1;33m,\u001b[0m \u001b[1;34m'Colombia'\u001b[0m\u001b[1;33m:\u001b[0m\u001b[1;36m8.4\u001b[0m\u001b[1;33m,\u001b[0m \u001b[1;34m'Mexico'\u001b[0m\u001b[1;33m:\u001b[0m\u001b[1;36m1.2\u001b[0m \u001b[1;33m}\u001b[0m\u001b[1;33m\u001b[0m\u001b[1;33m\u001b[0m\u001b[0m\n\u001b[0;32m      2\u001b[0m \u001b[0mprint\u001b[0m\u001b[1;33m(\u001b[0m\u001b[0mpaises\u001b[0m\u001b[1;33m)\u001b[0m\u001b[1;33m\u001b[0m\u001b[1;33m\u001b[0m\u001b[0m\n\u001b[1;32m----> 3\u001b[1;33m \u001b[0mprint\u001b[0m\u001b[1;33m(\u001b[0m\u001b[0mpaises\u001b[0m\u001b[1;33m[\u001b[0m\u001b[1;34m'China'\u001b[0m\u001b[1;33m]\u001b[0m\u001b[1;33m)\u001b[0m\u001b[1;33m\u001b[0m\u001b[1;33m\u001b[0m\u001b[0m\n\u001b[0m",
      "\u001b[1;31mKeyError\u001b[0m: 'China'"
     ]
    }
   ],
   "source": [
    "paises = { 'Panama':5.9, 'Costa Rica':6.2, 'Colombia':8.4, 'Mexico':1.2 }\n",
    "print(paises)\n",
    "print(paises['China'])"
   ]
  },
  {
   "cell_type": "markdown",
   "metadata": {},
   "source": [
    "Tenemos el siguiente diccionario...\n",
    "¿Cómo accedemos al tercer elemento de cada llave?"
   ]
  },
  {
   "cell_type": "code",
   "execution_count": 120,
   "metadata": {},
   "outputs": [],
   "source": [
    "items = {'harina': [20, 10, 15, 8, 32, 15], \n",
    " 'carne': [3,4,2,8,2,4], \n",
    " 'pan': [2, 3, 3], \n",
    " 'cc': [0.3, 0.5, 0.8, 0.3, 1]}"
   ]
  },
  {
   "cell_type": "code",
   "execution_count": 165,
   "metadata": {},
   "outputs": [
    {
     "name": "stdout",
     "output_type": "stream",
     "text": [
      "15 2 3 0.8\n"
     ]
    }
   ],
   "source": [
    "items = {'harina': [20, 10, 15, 8, 32, 15], \n",
    " 'carne': [3,4,2,8,2,4], \n",
    " 'pan': [2, 3, 3], \n",
    " 'cc': [0.3, 0.5, 0.8, 0.3, 1]}\n",
    "print(items['harina'][2],items['carne'][2],items['pan'][2],items['cc'][2])"
   ]
  },
  {
   "cell_type": "markdown",
   "metadata": {},
   "source": [
    "Respuesta esperada:\n",
    "\n",
    "(15, 2, 3, 0.8)"
   ]
  },
  {
   "cell_type": "markdown",
   "metadata": {},
   "source": [
    "#### Estructura de Datos compuesta\n",
    "\n",
    "Nosotros podemos hacer más con diccionarios, podemos tener una estructura compuesta. ¿Para que sirve esto? Imaginemos que tenemos un grupo de datos de cada persona y queremos almacenar su sexo y su peso, esto no lo podemos realizar con simplemente una llave y un valor.  Es aquí donde realizamos la composición de estos datos.\n",
    "\n",
    "Podemos entonces tener un diccionario dentro de otro."
   ]
  },
  {
   "cell_type": "code",
   "execution_count": 166,
   "metadata": {},
   "outputs": [
    {
     "name": "stdout",
     "output_type": "stream",
     "text": [
      "{'Ana': {'edad': 24, 'peso': 110, 'sexo': 'F'}, 'Javi': {'edad': 12, 'peso': 90, 'sexo': 'M'}}\n",
      "{'edad': 12, 'peso': 90, 'sexo': 'M'}\n",
      "None No existe Juan\n"
     ]
    }
   ],
   "source": [
    "datos = {'Ana':{'edad':24, 'peso':110, 'sexo':'F'},\n",
    "         'Javi':{'edad':12, 'peso':90, 'sexo':'M'}}\n",
    "print(datos)\n",
    "print(datos.get('Javi'))\n",
    "print(datos.get('Juan'), 'No existe Juan')"
   ]
  },
  {
   "cell_type": "markdown",
   "metadata": {},
   "source": [
    "También podemos buscar el tipo de datos como sigue:"
   ]
  },
  {
   "cell_type": "code",
   "execution_count": 167,
   "metadata": {},
   "outputs": [
    {
     "data": {
      "text/plain": [
       "90"
      ]
     },
     "execution_count": 167,
     "metadata": {},
     "output_type": "execute_result"
    }
   ],
   "source": [
    "datos = {'Ana':{'edad':24, 'peso':110, 'sexo':'F'},\n",
    "         'Javi':{'edad':12, 'peso':90, 'sexo':'M'}}\n",
    "datos['Javi']['peso']"
   ]
  },
  {
   "cell_type": "markdown",
   "metadata": {},
   "source": [
    "#### Intentelo ud ahora\n",
    "\n",
    "- Añada una nueva entrada a cada subgrupo del diccionario llamada 'estudiante' al diccionario 'datos'\n",
    "- Trate de buscar por medio de estos valores y conseguir las siguientes respuestas\n",
    "  - datos.get['Ana']['estudiante']\n",
    "    - True\n",
    "  - datos.get['Javi']['estudiante']\n",
    "    - False"
   ]
  },
  {
   "cell_type": "code",
   "execution_count": 172,
   "metadata": {},
   "outputs": [
    {
     "name": "stdout",
     "output_type": "stream",
     "text": [
      "True\n",
      "False\n"
     ]
    }
   ],
   "source": [
    "datos = {'Ana':{'edad':24, 'peso':110, 'sexo':'F', 'estudiante':True},\n",
    "         'Javi':{'edad':12, 'peso':90, 'sexo':'M', 'estudiante':False}}\n",
    "print(datos['Ana']['estudiante'])\n",
    "print(datos['Javi']['estudiante'])"
   ]
  },
  {
   "cell_type": "markdown",
   "metadata": {},
   "source": [
    "### Fin de la parte de prerequisitos 2"
   ]
  }
 ],
 "metadata": {
  "kernelspec": {
   "display_name": "Python 3",
   "language": "python",
   "name": "python3"
  },
  "language_info": {
   "codemirror_mode": {
    "name": "ipython",
    "version": 3
   },
   "file_extension": ".py",
   "mimetype": "text/x-python",
   "name": "python",
   "nbconvert_exporter": "python",
   "pygments_lexer": "ipython3",
   "version": "3.8.5"
  }
 },
 "nbformat": 4,
 "nbformat_minor": 4
}
