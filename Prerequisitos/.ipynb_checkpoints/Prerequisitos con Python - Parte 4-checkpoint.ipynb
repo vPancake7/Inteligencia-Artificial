{
 "cells": [
  {
   "cell_type": "markdown",
   "metadata": {},
   "source": [
    "# Prerequisitos con Python - Parte 4\n",
    "\n",
    "Vimos varias funciones que python tiene built in.  Ahora veremos funciones que podemos construir nosotros.  Las funciones las utilizamos para cuando tenemos un código que se repite o queremos realizar la misma accion repetidas veces.\n",
    "\n",
    "Supongamos que tenemos un sistema de IA que queremos desarrollar un sistema.  El sistema tiene un modulo que hace lo siguiente.\n",
    "- Training o Modelado\n",
    "- Testing o Validacion\n",
    "- Produccion\n",
    "- Reportes\n",
    "- Logging\n",
    "\n",
    "Para desarrollar más comodamente nos dedicamos entonces a crear funciones para cada parte pues algunas secciones se repiten a lo largo del desarrollo, probablemente logging lo requieran en todas partes del sistema.\n",
    "\n",
    "En resumen, las funciones nos ayudan a simplificar el código y a optimizarlo."
   ]
  },
  {
   "cell_type": "markdown",
   "metadata": {},
   "source": [
    "### Nuestra primera función\n",
    "\n",
    "Las funciones tienen argumentos de entrada, salida o pueden que no tengan argumentos alguno ni de entrada o ni de salida.  Para la siguiente función realizaremos aquella que nos permita calcular la distancia en función de una velocidad inicial, el tiempo y la aceleración."
   ]
  },
  {
   "cell_type": "code",
   "execution_count": 1,
   "metadata": {},
   "outputs": [
    {
     "name": "stdout",
     "output_type": "stream",
     "text": [
      "1.15\n"
     ]
    }
   ],
   "source": [
    "def distancia(vo, dt, a):\n",
    "    d = vo*dt + 0.5*a*dt**2\n",
    "    return d\n",
    "\n",
    "vo = 2\n",
    "t = 0.5\n",
    "a = 1.2\n",
    "d = distancia(vo, t, a)\n",
    "print(d)"
   ]
  },
  {
   "cell_type": "markdown",
   "metadata": {},
   "source": [
    "Podemos tambien llamar a la funcion ingresando los argumentos directamente"
   ]
  },
  {
   "cell_type": "code",
   "execution_count": 2,
   "metadata": {},
   "outputs": [
    {
     "name": "stdout",
     "output_type": "stream",
     "text": [
      "1.15\n"
     ]
    }
   ],
   "source": [
    "d = distancia(2, 0.5, 1.2)\n",
    "print(d)"
   ]
  },
  {
   "cell_type": "markdown",
   "metadata": {},
   "source": [
    "¿Qué sucede aqui?.  \n",
    "\n",
    "Tenemos entonces que la funcion siempre empieza por la palabra 'def', lo que nos dice que es una funcion, y dicha funcion siempre debe terminar con ':'.  \n",
    "\n",
    "El termino 'distancia' es el nombre de la función y debe ser sin separaciones, es decir, digamos que se llame ahora calcular distancia en vez de distancia, el nombre correcto de la función sería 'calcular_distancia'.\n",
    "\n",
    "Los valores entre '()' son los argumentos de la función, estos son separados por ',', si no necesitamos argumentos simplemente podemos definirlas como por ejemplo:\n",
    "\n",
    "    def printing():\n",
    "        print('ppppp')\n",
    "\n",
    "Dentro de la función (cuerpo) podemos definir y usar las variables.  Las variables que se declaren dentro solamente se pueden utilizar internamente, pero hablaremos de esto luego, debajo veremos que la funcion tiene un valor kp que es solo accesible en la función.\n",
    "\n",
    "    def printing():\n",
    "        strx = 'pppp'\n",
    "        print(strx)\n",
    "\n",
    "El valor de retorno es aquel que se da al final de la función, especificado por 'return', si una función no tiene retorno se debe realiar sin este token (return) asi como las funciones anteriores\n",
    "\n",
    "    def mimic(a)\n",
    "       return a\n",
    "       \n",
    "Por defecto, las funciones que no tienen ningun tipo de retorno su valor de regreso es None.  Veamos si es cierto."
   ]
  },
  {
   "cell_type": "code",
   "execution_count": 5,
   "metadata": {},
   "outputs": [
    {
     "name": "stdout",
     "output_type": "stream",
     "text": [
      " \n",
      "None\n"
     ]
    }
   ],
   "source": [
    "retorno = print(' ')\n",
    "\n",
    "print(retorno)"
   ]
  },
  {
   "cell_type": "markdown",
   "metadata": {},
   "source": [
    "### Ahora ud.\n",
    "\n",
    "\n",
    "Realizar una funcion que calcule el área de una elipse."
   ]
  },
  {
   "cell_type": "code",
   "execution_count": 3,
   "metadata": {},
   "outputs": [
    {
     "name": "stdout",
     "output_type": "stream",
     "text": [
      "157.0795\n"
     ]
    }
   ],
   "source": [
    "def area(a,b):\n",
    "    area_elipse = 3.14159*a*b\n",
    "    return area_elipse\n",
    "\n",
    "a = 10\n",
    "b = 5\n",
    "area_elipse = area(a,b)\n",
    "\n",
    "\n",
    "print(area_elipse)"
   ]
  },
  {
   "cell_type": "markdown",
   "metadata": {},
   "source": [
    "Respuesta esperada:\n",
    "\n",
    "157.0796327"
   ]
  },
  {
   "cell_type": "markdown",
   "metadata": {},
   "source": [
    "Realice una función que dada el tiempo como string (\"465:50:00\") calcule a cuantos segundos equivalen"
   ]
  },
  {
   "cell_type": "code",
   "execution_count": 32,
   "metadata": {
    "scrolled": true
   },
   "outputs": [
    {
     "name": "stdout",
     "output_type": "stream",
     "text": [
      "1875570\n"
     ]
    }
   ],
   "source": [
    "def convert(h,m,s):\n",
    "    segundos = 0\n",
    "    segundos += s\n",
    "    segundos += m*60\n",
    "    segundos += h*60*60\n",
    "    return segundos\n",
    "\n",
    "t = \"520:59:30\"\n",
    "h = 520\n",
    "m = 59\n",
    "s = 30\n",
    "segundos = convert(h,m,s)\n",
    "print(segundos)\n"
   ]
  },
  {
   "cell_type": "markdown",
   "metadata": {},
   "source": [
    "Respuesta esperada:\n",
    "\n",
    "1875570"
   ]
  },
  {
   "cell_type": "markdown",
   "metadata": {},
   "source": [
    "#### Alcance de Variables\n",
    "\n",
    "Cuando hablamos de alcance de variables se refiere hasta donde puede ser utilizada esta variable (donde puede ser invocada) en el transcurso de un programa.\n",
    "\n",
    "Si la variable es creada dentro de una función, esta solo tiene alcance dentro de la misma, no puede ser llamada fuera de ella.  Veamos el ejemplo."
   ]
  },
  {
   "cell_type": "code",
   "execution_count": 33,
   "metadata": {},
   "outputs": [
    {
     "name": "stdout",
     "output_type": "stream",
     "text": [
      "6 3.0\n"
     ]
    }
   ],
   "source": [
    "def area_rectangulo(base, altura):\n",
    "    area = base * altura\n",
    "    return area\n",
    "\n",
    "def area_triangulo(base, altura):\n",
    "    area = 0.5 * base * altura\n",
    "    return area\n",
    "\n",
    "b = 2\n",
    "h = 3 \n",
    "area1 = area_rectangulo(b, h)\n",
    "area2 = area_triangulo(b, h)\n",
    "print(area1, area2)"
   ]
  },
  {
   "cell_type": "markdown",
   "metadata": {},
   "source": [
    "Veamos un ejemplo de una variable fuera de la funcion.  Aqui, esta variable puede ser accedida en cualquier función o fuera de ella porque su alcance es mas 'global'."
   ]
  },
  {
   "cell_type": "code",
   "execution_count": 35,
   "metadata": {},
   "outputs": [
    {
     "name": "stdout",
     "output_type": "stream",
     "text": [
      "15\n"
     ]
    },
    {
     "data": {
      "text/plain": [
       "15"
      ]
     },
     "execution_count": 35,
     "metadata": {},
     "output_type": "execute_result"
    }
   ],
   "source": [
    "val = 15\n",
    "\n",
    "def print_val():\n",
    "    print(val)\n",
    "    \n",
    "print_val()\n",
    "val"
   ]
  },
  {
   "cell_type": "markdown",
   "metadata": {},
   "source": [
    "#### Ahora ud \n",
    "\n",
    "Del siguiente código cual es el error y porqué:"
   ]
  },
  {
   "cell_type": "code",
   "execution_count": 36,
   "metadata": {
    "scrolled": true
   },
   "outputs": [
    {
     "name": "stdout",
     "output_type": "stream",
     "text": [
      "50.265482464\n"
     ]
    },
    {
     "ename": "NameError",
     "evalue": "name 'pi' is not defined",
     "output_type": "error",
     "traceback": [
      "\u001b[1;31m---------------------------------------------------------------------------\u001b[0m",
      "\u001b[1;31mNameError\u001b[0m                                 Traceback (most recent call last)",
      "\u001b[1;32m<ipython-input-36-01db79d35193>\u001b[0m in \u001b[0;36m<module>\u001b[1;34m\u001b[0m\n\u001b[0;32m      4\u001b[0m \u001b[1;33m\u001b[0m\u001b[0m\n\u001b[0;32m      5\u001b[0m \u001b[0marea_circulo\u001b[0m\u001b[1;33m(\u001b[0m\u001b[1;36m4\u001b[0m\u001b[1;33m)\u001b[0m\u001b[1;33m\u001b[0m\u001b[1;33m\u001b[0m\u001b[0m\n\u001b[1;32m----> 6\u001b[1;33m \u001b[0mpi_medio\u001b[0m \u001b[1;33m=\u001b[0m \u001b[0mpi\u001b[0m\u001b[1;33m/\u001b[0m\u001b[1;36m2\u001b[0m\u001b[1;33m\u001b[0m\u001b[1;33m\u001b[0m\u001b[0m\n\u001b[0m",
      "\u001b[1;31mNameError\u001b[0m: name 'pi' is not defined"
     ]
    }
   ],
   "source": [
    "def area_circulo(r):\n",
    "    pi = 3.141592654\n",
    "    print(pi*r**2)\n",
    "\n",
    "area_circulo(4)    # Segun el debugger el valor de pi no se encuentra. Esto quiere decir que pi no es un valor global\n",
    "pi_medio = pi/2    \n",
    "                "
   ]
  },
  {
   "cell_type": "markdown",
   "metadata": {},
   "source": []
  },
  {
   "cell_type": "markdown",
   "metadata": {},
   "source": [
    "#### Documentación de código\n",
    "\n",
    "Es importante cuando se realiza código documentarlo.  De esta forma se puede interpretar rápido que se realizó y ayuda a otros desarrolladores.\n",
    "\n",
    "Les puedo dar la importancia en un ejemplo.  Imaginese un libro de cálculo con todos los problemas resueltos de manera correcta pero sin un capítulo escrito, el libro, aunque sea muy bueno cuesta entenderlo para un novato.\n",
    "\n",
    "En la documentación, es bueno tener ciertas reglas, como por ejemplo, no nombrar variables sin sentido, hacerla lo más humanamente entendible.\n",
    "\n",
    "Veamos una manera correcta de documentar."
   ]
  },
  {
   "cell_type": "code",
   "execution_count": 25,
   "metadata": {},
   "outputs": [
    {
     "name": "stdout",
     "output_type": "stream",
     "text": [
      "3.0\n",
      "44.0\n",
      "0.2\n",
      "2.5\n",
      "3.0\n",
      "44.0\n",
      "0.2\n",
      "2.5\n"
     ]
    }
   ],
   "source": [
    "def area_trapecio(a, b, h):\n",
    "    area = (a + b)*h/2 # a y b, base y lado superior respectivamente; h es la altura\n",
    "    return area\n",
    "\n",
    "\n",
    "# calculando el area de diferentes trapezoides\n",
    "print(area_trapecio(4, 2, 1))\n",
    "print(area_trapecio(3, 8, 8))\n",
    "print(area_trapecio(1, 1, 0.2))\n",
    "print(area_trapecio(7, 3, 0.5))\n",
    "\n",
    "\n",
    "# escribiendo lo mismo pero sin funciones\n",
    "a, b, h = 4, 2, 1\n",
    "area = (a + b)*h/2\n",
    "print(area)\n",
    "\n",
    "a, b, h = 3, 8, 8\n",
    "area = (a + b)*h/2\n",
    "print(area)\n",
    "\n",
    "a, b, h = 1, 1, 0.2\n",
    "area = (a + b)*h/2\n",
    "print(area)\n",
    "\n",
    "a, b, h = 7, 3, 0.5\n",
    "area = (a + b)*h/2\n",
    "print(area)"
   ]
  },
  {
   "cell_type": "markdown",
   "metadata": {},
   "source": [
    "Podemos tambien utilizar docstring para ayudar a la documentación.  Veamos como se pueden usar para documentación con la misma función anterior"
   ]
  },
  {
   "cell_type": "code",
   "execution_count": 37,
   "metadata": {},
   "outputs": [],
   "source": [
    "def area_trapecio(a, b, h):\n",
    "    \"\"\"\n",
    "    CALCULA EL AREA DEL TRAPEZOIDE DATA BASE, ALTURA Y PARTE SUPERIOR\n",
    "                   a\n",
    "                 ______       _\n",
    "               /       \\      |\n",
    "              /         \\     h\n",
    "             /___________\\   _|_\n",
    "                   b\n",
    "    \n",
    "    ENTRADAS:\n",
    "    a:  parte superior del trapezoide\n",
    "    b:  parte inferior (base) del trapezoide\n",
    "    h:  altura del trapezoide\n",
    "    \n",
    "    RETORNA:\n",
    "    area_trapecio: el area del trapecio dada por la ecuación.\n",
    "    \"\"\"\n",
    "    area = (a + b)*h/2 # a y b, base y lado superior respectivamente; h es la altura\n",
    "    return area"
   ]
  },
  {
   "cell_type": "markdown",
   "metadata": {},
   "source": [
    "#### Ahora ud\n",
    "\n",
    "Escriba un docstring para realizar la función de cálculo del área de un paralelogramo"
   ]
  },
  {
   "cell_type": "code",
   "execution_count": 38,
   "metadata": {},
   "outputs": [],
   "source": [
    "def area_paralelogramo(b, h):\n",
    "    \"\"\"\n",
    "    CALCULA EL AREA DEL PARALELOGRAMO DATA BASE Y ALTURA \n",
    "                      \n",
    "                 ___________    _\n",
    "               /            /   |\n",
    "              /            /    h\n",
    "             /___________ /    _|_\n",
    "                   b\n",
    "    \n",
    "    ENTRADAS:\n",
    "    b:  parte inferior (base) del paralelogramo\n",
    "    h:  altura del paralelogramo\n",
    "    \n",
    "    RETORNA:\n",
    "    area_paralelogramo: el area del paralelogramo dada por la ecuación.\n",
    "    \"\"\"\n",
    "    area = b*h # b, base ; h es la altura\n",
    "    return area"
   ]
  },
  {
   "cell_type": "markdown",
   "metadata": {},
   "source": [
    "#### Expresiones Lambda\n",
    "\n",
    "En python se pueden utilizar funciones que no tienen un nombre (son anonimas), estas expresiones se llaman funciones lambda.\n",
    "\n",
    "Comparemos una funcion y una expresión lambda viendo un ejemplo:"
   ]
  },
  {
   "cell_type": "code",
   "execution_count": 27,
   "metadata": {},
   "outputs": [
    {
     "name": "stdout",
     "output_type": "stream",
     "text": [
      "5\n"
     ]
    }
   ],
   "source": [
    "def suma(a, b):\n",
    "    return a+b\n",
    "\n",
    "print(suma(3,2))"
   ]
  },
  {
   "cell_type": "code",
   "execution_count": 30,
   "metadata": {},
   "outputs": [
    {
     "name": "stdout",
     "output_type": "stream",
     "text": [
      "5\n"
     ]
    }
   ],
   "source": [
    "suma = lambda x,y: x + y\n",
    "print(suma(3,2))"
   ]
  },
  {
   "cell_type": "markdown",
   "metadata": {},
   "source": [
    "He aquí una evaluación de una función lambda, luego de la función lambda tenemos los argumentos, idem que en una función, seguido el ':' y finalmente lo que vamos a ejecutar dentro de esta función"
   ]
  },
  {
   "cell_type": "code",
   "execution_count": 33,
   "metadata": {},
   "outputs": [
    {
     "name": "stdout",
     "output_type": "stream",
     "text": [
      "25\n"
     ]
    }
   ],
   "source": [
    "n2 = lambda n: n**2\n",
    "print(n2(5))"
   ]
  },
  {
   "cell_type": "markdown",
   "metadata": {},
   "source": [
    "Lo anterior seria el equivalente a una función lambda con un solo argumento"
   ]
  },
  {
   "cell_type": "markdown",
   "metadata": {},
   "source": [
    "### Intentelo ud.\n",
    "\n",
    "Utilizaremos ahora map con funciones lambda.  map() es una función built-in de python que toma como argumento una función y retorna un iterador que aplica la función de cada elemento al iterable.  Veamos el siguiente ejemplo para una funcion map()."
   ]
  },
  {
   "cell_type": "code",
   "execution_count": 39,
   "metadata": {
    "scrolled": true
   },
   "outputs": [
    {
     "data": {
      "text/plain": [
       "([4.5, 10.5, 22.0],\n",
       " ' ',\n",
       " [[0, 1, 2, 3, 4, 5, 6, 7, 8, 9],\n",
       "  [2, 3, 4, 5, 6, 7, 8, 9, 10, 11, 12, 13, 14, 15, 16, 17, 18, 19],\n",
       "  [5, 7, 9, 11, 13, 15, 17, 19, 21, 23, 25, 27, 29, 31, 33, 35, 37, 39]])"
      ]
     },
     "execution_count": 39,
     "metadata": {},
     "output_type": "execute_result"
    }
   ],
   "source": [
    "n_list = [list(range(10)), list(range(2, 20)), list(range(5, 40, 2))]\n",
    "\n",
    "def avg(n_list):\n",
    "    av = sum(n_list)/len(n_list)\n",
    "    return av\n",
    "\n",
    "promedio = list(map(avg, n_list))\n",
    "promedio, \" \", n_list"
   ]
  },
  {
   "cell_type": "markdown",
   "metadata": {},
   "source": [
    "Escriba el mismo procedimiento pero utilizando funciones lamda"
   ]
  },
  {
   "cell_type": "code",
   "execution_count": 53,
   "metadata": {},
   "outputs": [
    {
     "data": {
      "text/plain": [
       "[4.5, 10.5, 22.0]"
      ]
     },
     "execution_count": 53,
     "metadata": {},
     "output_type": "execute_result"
    }
   ],
   "source": [
    "n_list = [list(range(10)), list(range(2, 20)), list(range(5, 40, 2))]\n",
    "\n",
    "list(map(lambda x : sum(x)/len(x) , n_list))"
   ]
  },
  {
   "cell_type": "markdown",
   "metadata": {},
   "source": [
    "Resultado esperado:\n",
    "\n",
    "[4.5, 10.5, 22.0]"
   ]
  },
  {
   "cell_type": "markdown",
   "metadata": {},
   "source": [
    "filter() es una función built-in de python que toma una función y un iterable y retorna un iterador con elementos del itreable de las cuales retorna correcto.  Veamos el siguiente ejemplo"
   ]
  },
  {
   "cell_type": "code",
   "execution_count": 47,
   "metadata": {},
   "outputs": [
    {
     "name": "stdout",
     "output_type": "stream",
     "text": [
      "[1, -1, 5, -5]\n"
     ]
    }
   ],
   "source": [
    "valores = [1, 20, -1, 2, 5, 4, -2, -5, 10]\n",
    "\n",
    "def impares(v):\n",
    "    if v%2 != 0:\n",
    "        return True\n",
    "\n",
    "vals = list(filter(impares, valores))\n",
    "print(vals)"
   ]
  },
  {
   "cell_type": "markdown",
   "metadata": {},
   "source": [
    "Ahora realice lo mismo utilizando funciones lambda"
   ]
  },
  {
   "cell_type": "code",
   "execution_count": 55,
   "metadata": {},
   "outputs": [
    {
     "data": {
      "text/plain": [
       "[1, -1, 5, -5]"
      ]
     },
     "execution_count": 55,
     "metadata": {},
     "output_type": "execute_result"
    }
   ],
   "source": [
    "valores = [1, 20, -1, 2, 5, 4, -2, -5, 10]\n",
    "\n",
    "list(filter(lambda x : x%2 != 0 , valores))"
   ]
  },
  {
   "cell_type": "markdown",
   "metadata": {},
   "source": [
    "Resultado esperado:\n",
    "\n",
    "[1, -1, 5, -5]"
   ]
  },
  {
   "cell_type": "markdown",
   "metadata": {},
   "source": [
    "#### Iteradores y Generadores\n",
    "\n",
    "Las listas son los iteradores más comunes.  Un iterador es un objeto que representa un stream de datos.  Las listas son de este tipo (iterables) pero no son un iterador.\n",
    "\n",
    "Veremos entonces como crear iteradores por medio de generadores.  Los generadores nos ayudan a crear iteradores a base de funciones.\n",
    "\n",
    "Veamos un ejemplo."
   ]
  },
  {
   "cell_type": "code",
   "execution_count": 56,
   "metadata": {},
   "outputs": [
    {
     "name": "stdout",
     "output_type": "stream",
     "text": [
      "<generator object generador at 0x0000021222F72740>\n"
     ]
    }
   ],
   "source": [
    "def generador(x):\n",
    "    i = 0\n",
    "    while i < x:\n",
    "        yield i\n",
    "        i += 1\n",
    "        \n",
    "print(generador(6))"
   ]
  },
  {
   "cell_type": "code",
   "execution_count": 52,
   "metadata": {},
   "outputs": [
    {
     "name": "stdout",
     "output_type": "stream",
     "text": [
      "0\n",
      "1\n",
      "2\n",
      "3\n",
      "4\n",
      "5\n"
     ]
    }
   ],
   "source": [
    "for n in generador(6):\n",
    "    print(n)"
   ]
  },
  {
   "cell_type": "markdown",
   "metadata": {},
   "source": [
    "#### Práctica\n",
    "\n",
    "Escribir su propio generador con la función enumerate"
   ]
  },
  {
   "cell_type": "code",
   "execution_count": 72,
   "metadata": {},
   "outputs": [
    {
     "name": "stdout",
     "output_type": "stream",
     "text": [
      "Book 1: Practical GUI\n",
      "Book 2: Advanced Programming\n",
      "Book 3: Building Intelligent\n",
      "Book 4: The AI Workshop\n",
      "Book 5: Data Analysis\n"
     ]
    }
   ],
   "source": [
    "frases = [\"Practical GUI\", \"Advanced Programming\", \"Building Intelligent\", \"The AI Workshop\", \"Data Analysis\"]\n",
    "        \n",
    "\n",
    "for i, n in enumerate(frases):\n",
    "    print(\"Book {}: {}\".format(i+1, n))"
   ]
  },
  {
   "cell_type": "markdown",
   "metadata": {},
   "source": [
    "Respuesta esperada:\n",
    "\n",
    "    Book 1: Practical Gui\n",
    "    Book 2: Advanced Programming \n",
    "    Book 3: Build Intelligent\n",
    "    Book 4: The AI Workshop\n",
    "    Book 5: Data Analysis"
   ]
  },
  {
   "cell_type": "markdown",
   "metadata": {},
   "source": [
    "### Generadores\n",
    "\n",
    "Para producir expresiones generadoras se hace de la misma manera que cuando se utiliza una lista de comprensión, pero con '( )'\n"
   ]
  },
  {
   "cell_type": "code",
   "execution_count": 62,
   "metadata": {},
   "outputs": [
    {
     "data": {
      "text/plain": [
       "<generator object <genexpr> at 0x0000023CBAD783C0>"
      ]
     },
     "execution_count": 62,
     "metadata": {},
     "output_type": "execute_result"
    }
   ],
   "source": [
    "gen = (n + 4 for n in range(10))\n",
    "gen"
   ]
  },
  {
   "cell_type": "code",
   "execution_count": 74,
   "metadata": {},
   "outputs": [
    {
     "name": "stdout",
     "output_type": "stream",
     "text": [
      "4\n",
      "5\n",
      "6\n",
      "7\n",
      "8\n",
      "9\n",
      "10\n",
      "11\n",
      "12\n",
      "13\n"
     ]
    }
   ],
   "source": [
    "gen = (n + 4 for n in range(10))\n",
    "\n",
    "for g in gen:\n",
    "    print(g)"
   ]
  }
 ],
 "metadata": {
  "kernelspec": {
   "display_name": "Python 3",
   "language": "python",
   "name": "python3"
  },
  "language_info": {
   "codemirror_mode": {
    "name": "ipython",
    "version": 3
   },
   "file_extension": ".py",
   "mimetype": "text/x-python",
   "name": "python",
   "nbconvert_exporter": "python",
   "pygments_lexer": "ipython3",
   "version": "3.8.5"
  }
 },
 "nbformat": 4,
 "nbformat_minor": 4
}
