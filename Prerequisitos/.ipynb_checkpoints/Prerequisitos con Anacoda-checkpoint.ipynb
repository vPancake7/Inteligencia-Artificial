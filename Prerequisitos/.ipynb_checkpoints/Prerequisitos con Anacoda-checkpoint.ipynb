{
 "cells": [
  {
   "cell_type": "markdown",
   "metadata": {},
   "source": [
    "#  Prerequisitos con Anacoda\n",
    "\n",
    "Anaconda es una distribución para administrar y usar con python.  Nos liberamos de dependencias y creamos ambientes virtuales para administrar proyectos diferentes, esto lleva a la modularización de cada proyecto y no tener inconvenientes en las dependencias.\n",
    "\n",
    "Como anaconda es grande en capacidad también existe una version minima de Anaconda llamada *miniconda*.\n",
    "\n",
    "Con anaconda viene por defecto el programa *conda* que nos ayuda a administrar los ambientes y paquetes.  Debajo mostramos una manera de ver, por ejemplo los paquetes instalados, que en su caso, si instala solo anaconda tiene el ambiente llamado *base*, de lo contrario, mostrará el ambiente *base* y sus otros paquetes.\n",
    "\n",
    "<img src=\"imgs/Anaconda.PNG\" width=\"650\" alt=\"\" style=\"\" />"
   ]
  },
  {
   "cell_type": "markdown",
   "metadata": {},
   "source": [
    "#### Ambientes Virtuales\n",
    "\n",
    "El administrador de conda nos permite crear ambientes virtuales y tambien podemos listarlos por si no recordamos como se llaman.  Ud puede acceder a la lista de ambientes virtuales creados por medio de:\n",
    "\n",
    "    conda env list\n",
    "\n",
    "<img src=\"imgs/condaenvs.PNG\" width=\"550\" alt=\"\" style=\"\" />"
   ]
  },
  {
   "cell_type": "markdown",
   "metadata": {},
   "source": [
    "Crear ambientes virtuales es sencillo, simplemente tenemos que correr el comando:\n",
    "\n",
    "    conda create -n ai python==3.6 numpy matplotlib\n",
    "    \n",
    "Explicado el comando es como sigue:  \n",
    "\n",
    "    conda create -n ai # crear un ambiente virtual de nombre ai\n",
    "    python==3.6        # crear este ambiente con el paquete de python 3.6\n",
    "    numpy matplotlib   # adicionalmente agregar a este ambiente los paquetes numpy y matplotlib con dependencias funcionales"
   ]
  },
  {
   "cell_type": "markdown",
   "metadata": {},
   "source": [
    "#### Ingresando al ambiente\n",
    "\n",
    "Mencionamos que podemos crear un ambiente, esto lo podemos hacer fácilmente en anaconda como se muestra en el siguiente video\n",
    "\n",
    "<img src=\"imgs/anacondaenv.gif\" width=\"550\" alt=\"\" style=\"\" />\n",
    "\n",
    "Para ingresar, solamente luego de instalar el ambiente activarlo con el comando\n",
    "\n",
    "    activate my_env # my_env es el nombre del ambiente"
   ]
  },
  {
   "cell_type": "markdown",
   "metadata": {},
   "source": [
    "#### Removiendo ambientes virtuales\n",
    "\n",
    "Para remover ambientes virtuales solamente utilizar el comando:\n",
    "\n",
    "    conda remove -n ai --all\n",
    "    \n",
    "Esto removerá el folder de proyecto de ambiente virtual y todas sus dependencias... de cualquier forma, si a futuro intenta crear un ambiente y le presenta error de que este ambiente existe, puede acceder a los ambientes virtuales manualmente y eliminarlos, estos se encuentran en la carpeta:\n",
    "\n",
    "En windows\n",
    "\n",
    "    C:\\Users\\<usuario>\\anaconda3\\envs\n",
    "    \n",
    "En Linux\n",
    "\n",
    "    /opt/Anaconda "
   ]
  },
  {
   "cell_type": "markdown",
   "metadata": {},
   "source": [
    "### Instalando Anaconda\n",
    "\n",
    "Anaconda es multiplataforma y funciona tanto en Linux, Mac y Windows, puede descargarlo como se muestra en la primera figura.\n",
    "\n",
    "Si tiene python instalado previamente verá que existe un prompt de anaconda en su máquina.  Ambas instalaciones pueden existir (anaconda y python) y no intervendrá en su sistema.\n",
    "\n",
    "<img src=\"imgs/anacondaprompt.PNG\" width=\"550\" alt=\"\" style=\"\" />"
   ]
  },
  {
   "cell_type": "markdown",
   "metadata": {},
   "source": [
    "### Administrando Librerias\n",
    "\n",
    "Debajo mostramos un ejemplo de como luego de creado el ambiente podemos agregar nuevas librerias, existen varias maneras con conda.  Utilizando pip o utilizando el instalador de conda\n",
    "\n",
    "<img src=\"imgs/anacondapackages.gif\" width=\"550\" alt=\"\" style=\"\" />\n",
    "\n",
    "Como mencionamos anteriormente también podemos instalar librerias, simplemente especificar mas paquetes al momento de instalar.\n",
    "\n",
    "Conda encontrará la mejor dependencia de paquete por nosotros y también, si existe una dependencia que requiera el paquete instalado, anaconda la instalará por nosotros.  por ejemplo:\n",
    "\n",
    "    conda install opencv-python # instala opencv y numpy\n",
    "    \n",
    "Si ud. no esta seguro de como se llama el paquete a instalar también puede especificar el paquete que requiere por medio de \n",
    "\n",
    "    conda search *paquete*\n",
    "    \n",
    "<img src=\"imgs/anacondasearch.gif\" width=\"550\" alt=\"\" style=\"\" />"
   ]
  },
  {
   "cell_type": "markdown",
   "metadata": {},
   "source": [
    "#### Salvando y guardando el ambiente\n",
    "\n",
    "Una característica de anaconda es que nos permite exportar el ambiente de trabajo con las correctas versiones.  Podemos hacerlo de dos maneras, utilizando pip freeze hacia o tambien en base a un archivo .yaml\n",
    "\n",
    "<img src=\"imgs/anaconda_export.gif\" width=\"550\" alt=\"\" style=\"\" />"
   ]
  },
  {
   "cell_type": "markdown",
   "metadata": {},
   "source": [
    "#### Usando las mejores prácticas\n",
    "\n",
    "Este es un resumen de mejores prácticas\n",
    "- Si tiene un proyecto en python2 y otro en python3 separe los ambientes\n",
    "  - conda create -n py2\n",
    "  - conda create -n py3\n",
    "- Luego instale las dependencias necesarias para cada paquete\n",
    "- Para nuevos proyectos clone el ambiente de trabajo, p.e.\n",
    "  - Si el nuevo proyecto es basado en python3 clone el ambiente de python3 (con otro nombre) e instale las dependencias"
   ]
  },
  {
   "cell_type": "markdown",
   "metadata": {},
   "source": [
    "#### Preguntas\n",
    "\n",
    "Cual o cuales líneas instalarán opencv y pandas\n",
    "- (1) pip install opencv-python\n",
    "- (2) conda install pandas\n",
    "- (3) conda install opencv-python\n",
    "- (4) pip install pandas opencv-python\n",
    "- (5) conda install opencv-python pandas"
   ]
  },
  {
   "cell_type": "code",
   "execution_count": 2,
   "metadata": {},
   "outputs": [],
   "source": [
    "(2) conda install pandas\n",
    "(3) conda install opencv-python\n",
    "(5) conda install opencv-python pandas"
   ]
  },
  {
   "cell_type": "markdown",
   "metadata": {},
   "source": [
    "Ingrese el comando que se necesita para crear un ambiente virtual en anaconda con python 2.7 pandas y numpy"
   ]
  },
  {
   "cell_type": "code",
   "execution_count": 1,
   "metadata": {},
   "outputs": [],
   "source": [
    "conda create -n ambientevirtual python==2.7 pandas numpy"
   ]
  }
 ],
 "metadata": {
  "kernelspec": {
   "display_name": "Python 3",
   "language": "python",
   "name": "python3"
  },
  "language_info": {
   "codemirror_mode": {
    "name": "ipython",
    "version": 3
   },
   "file_extension": ".py",
   "mimetype": "text/x-python",
   "name": "python",
   "nbconvert_exporter": "python",
   "pygments_lexer": "ipython3",
   "version": "3.8.5"
  }
 },
 "nbformat": 4,
 "nbformat_minor": 4
}
