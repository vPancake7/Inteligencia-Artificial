{
 "cells": [
  {
   "cell_type": "markdown",
   "metadata": {},
   "source": [
    "### Realizar el siguiente proyecto\n",
    "\n",
    "Cuando empecemos a ver machine learning requerimos normalizar la data, normalizar significa truncar valores entre cero y uno, a groso modo y sin mucho detalle.\n",
    "\n",
    "En este laboratorio hará normalización de la media.  Esta escala la información pero en vez de tomar valores entre 0 y 1 los distribuira equitativamente en intervalos cerca de cero, por ejemplo, si tenemos un dataset de 1M de datos estos serán normalizados para un rango cercano a 0, por ejemplo -4 a 4.\n",
    "\n",
    "Esto tambien garantiza que la media de los elementos sea cero.\n",
    "\n",
    "Su objetivo será:\n",
    "- crear elementos de rango 2 de elementos aleatorios entre 0 y 10k (inclusivo) com 500 filas y 300 columnas."
   ]
  },
  {
   "cell_type": "code",
   "execution_count": 1,
   "metadata": {},
   "outputs": [],
   "source": [
    "# importar numpy como np\n",
    "import numpy as np\n",
    "\n",
    "np.random.seed(42) # estabilidad en la generacione de numeros aleatorios\n",
    "\n",
    "# crear el arreglo x de 500x300 con enteros entre (0,10000]\n",
    "x = np.random.randint(0, 10001, size=(500,300))"
   ]
  },
  {
   "cell_type": "code",
   "execution_count": 2,
   "metadata": {},
   "outputs": [
    {
     "name": "stdout",
     "output_type": "stream",
     "text": [
      "shape:(500, 300)\n",
      "size:150000\n",
      "max:10000\n",
      "min:0\n"
     ]
    }
   ],
   "source": [
    "print(f'shape:{x.shape}')\n",
    "print(f'size:{x.size}')\n",
    "print(f'max:{x.max()}')\n",
    "print(f'min:{x.min()}')"
   ]
  },
  {
   "cell_type": "markdown",
   "metadata": {},
   "source": [
    "Respuesta esperada:\n",
    "```\n",
    "shape:(500, 300)\n",
    "size:150000\n",
    "max:10000\n",
    "min:0\n",
    "```"
   ]
  },
  {
   "cell_type": "markdown",
   "metadata": {},
   "source": [
    "Ahora que creo el arreglo lo normalizaremos.  La normalización tiene que ver con esta función matemática:\n",
    "$$\n",
    "i=\\frac{i - \\mu_i}{\\sigma_i}\n",
    "$$\n",
    "\n",
    "- $i$ es la $i_n$ columna de $X$\n",
    "- $\\mu_i$ es el promedio de los valores de la columna $i_ma$ de $X$\n",
    "- $\\sigma_i$ es la desviacion estandar de los valores de la $i_ma$ columna de $X$\n",
    "\n",
    "En otras palabras la normalizacion media es realizada sustrayendo de cada columna de $X$ el promedio de sus valores, y entonces dividirlo por la desviación estandar de sus valores, en el espacio inferior realizaremos unos calculos intermedios"
   ]
  },
  {
   "cell_type": "code",
   "execution_count": 3,
   "metadata": {},
   "outputs": [],
   "source": [
    "# promedio de los valores de cada columna de x\n",
    "cols_prom = np.mean(x, axis=0)\n",
    "\n",
    "# desviacion estandar de los valores en cada columna de x\n",
    "cols_std = np.std(x, axis=0)"
   ]
  },
  {
   "cell_type": "code",
   "execution_count": 4,
   "metadata": {},
   "outputs": [
    {
     "data": {
      "text/plain": [
       "((300,), (300,))"
      ]
     },
     "execution_count": 4,
     "metadata": {},
     "output_type": "execute_result"
    }
   ],
   "source": [
    "cols_prom.shape, cols_std.shape"
   ]
  },
  {
   "cell_type": "markdown",
   "metadata": {},
   "source": [
    "Respuesta esperada:\n",
    "```\n",
    "((300,), (300,))\n",
    "```\n",
    "\n",
    "Si ud calculo bien el paso anterior debe tener un arreglo de 300 debido a que es la cantidad de columnas necesarias"
   ]
  },
  {
   "cell_type": "markdown",
   "metadata": {},
   "source": [
    "Ahora podemos utilizar correctamente broadcasting utilizando la normalizacion por medio de la ecuación que se presentó anteriormente\n",
    "\n",
    "$$\n",
    "i=\\frac{i - \\mu_i}{\\sigma_i}\n",
    "$$"
   ]
  },
  {
   "cell_type": "code",
   "execution_count": 5,
   "metadata": {},
   "outputs": [],
   "source": [
    "norm = ((x-cols_prom)/cols_std)"
   ]
  },
  {
   "cell_type": "code",
   "execution_count": 6,
   "metadata": {},
   "outputs": [
    {
     "name": "stdout",
     "output_type": "stream",
     "text": [
      "Media: -2.4632148173016807e-18\n",
      "Máximo: 1.8726267617090666\n",
      "Minimo: -1.9511544494198068\n"
     ]
    }
   ],
   "source": [
    "print('Media:',norm.mean())\n",
    "print('Máximo:',norm.max())\n",
    "print('Minimo:',norm.min())"
   ]
  },
  {
   "cell_type": "markdown",
   "metadata": {},
   "source": [
    "Si realizó el paso anterior de manera correcta debemos tener los datos con una media cercana o tendiente a cero.\n",
    "\n",
    "Respuesta:\n",
    "```\n",
    "Media: -2.4632148173016807e-18\n",
    "Máximo: 1.8726267617090666\n",
    "Minimo: -1.9511544494198068\n",
    "```"
   ]
  },
  {
   "cell_type": "markdown",
   "metadata": {},
   "source": [
    "### Separacion de los datos\n",
    "\n",
    "Despues que se normalizan los datos es costumbre dividir el dataset en \n",
    "- Training set\n",
    "- Validation set\n",
    "- Test set\n",
    "\n",
    "Normalmente se eligen los valores de división dependiendo de la cantidad de datos, pero usaremos en este caso los siguientes porcentajes\n",
    "- 60%\n",
    "- 20%\n",
    "- 20%\n",
    "\n",
    "Empezaremos a dividir los datos, asegurese de no tener coincidencia en los mismos datos seleccionados (no elegir la misma fila) para poder que los datos sean seleccionados aleatoriamente y distribuidos entre los nuevos sets."
   ]
  },
  {
   "cell_type": "markdown",
   "metadata": {},
   "source": [
    "Creareomos un arreglo de rango 1 conteniedo las permutaciones de filas de indices de *norm*.  Ud. puede con la función np.random.permutation(N) crear valores entre rangos de 0 a N-1."
   ]
  },
  {
   "cell_type": "code",
   "execution_count": 7,
   "metadata": {},
   "outputs": [
    {
     "name": "stdout",
     "output_type": "stream",
     "text": [
      "[3 2 0 4 1]\n"
     ]
    }
   ],
   "source": [
    "# ejemplo\n",
    "print(np.random.permutation(5))"
   ]
  },
  {
   "cell_type": "markdown",
   "metadata": {},
   "source": [
    "En la parte inferior crear un arreglo de rango 1 que contenga las permutaciones de los índices de las filas de *norm*.  Ud puede realizar esto en una línea de codigo extrayendo el número de filas de *norm*\n",
    "- puede utilizar la funcion .shape (recuerde que retorna filas, columnas)\n",
    "- luego puede pasar este dato a np.random.permutation()"
   ]
  },
  {
   "cell_type": "code",
   "execution_count": 20,
   "metadata": {},
   "outputs": [],
   "source": [
    "indices_filas = np.random.permutation(norm)"
   ]
  },
  {
   "cell_type": "code",
   "execution_count": 18,
   "metadata": {
    "scrolled": true
   },
   "outputs": [
    {
     "name": "stdout",
     "output_type": "stream",
     "text": [
      "(500, 300)\n"
     ]
    }
   ],
   "source": [
    "print(indices_filas.shape)"
   ]
  },
  {
   "cell_type": "code",
   "execution_count": 21,
   "metadata": {},
   "outputs": [
    {
     "data": {
      "text/plain": [
       "[array([[ 0.83331825, -1.47149961,  0.13260021, ..., -0.17533753,\n",
       "          0.93222612,  1.0207984 ],\n",
       "        [ 0.85681522,  1.47439776, -0.94585494, ..., -1.40880641,\n",
       "         -1.22776716,  0.80558564],\n",
       "        [-1.3621158 , -1.44813856,  0.010364  , ...,  0.05674748,\n",
       "         -1.19684989,  1.12431846],\n",
       "        ...,\n",
       "        [ 0.37904355, -0.62019539, -1.59699128, ..., -0.92952387,\n",
       "         -1.41502748,  0.83010355],\n",
       "        [-0.51384122,  1.60803672, -0.99393677, ..., -0.15266876,\n",
       "          1.37104062,  0.63770606],\n",
       "        [-1.55724279,  0.11430357, -0.92621588, ...,  1.61621484,\n",
       "         -0.67406687,  0.6138692 ]]),\n",
       " array([[-0.28840655, -0.58618445, -1.58683315, ...,  1.68853901,\n",
       "         -1.26535976,  0.09150152],\n",
       "        [ 0.59902965,  0.49392066, -0.27304791, ..., -0.88670508,\n",
       "         -0.13723054,  0.82397407],\n",
       "        [-0.72258964,  0.55610229, -1.63389916, ...,  0.57776934,\n",
       "          0.88936353, -1.47968785],\n",
       "        ...,\n",
       "        [ 1.60190746,  0.60763402, -1.08366695, ...,  0.26472444,\n",
       "         -1.3820022 ,  0.17390894],\n",
       "        [ 1.45343387,  1.43626427, -1.10093577, ..., -1.02307751,\n",
       "         -0.02445275,  0.15483945],\n",
       "        [-0.72803821, -0.47762427, -1.35725933, ..., -1.12310795,\n",
       "         -0.32027487,  0.73816138]]),\n",
       " array([[ 1.47488762, -1.54089568,  0.04524026, ..., -1.19795087,\n",
       "          0.84052829,  1.28062013],\n",
       "        [-1.32601901,  0.58083752, -1.4767867 , ..., -0.81977824,\n",
       "          0.18986018,  1.57721873],\n",
       "        [ 0.94297077, -0.78887593,  1.2980767 , ..., -1.82547996,\n",
       "          0.32055593,  1.27449066],\n",
       "        ...,\n",
       "        [-1.39753152,  0.29638235, -1.65286101, ...,  1.25207526,\n",
       "          0.18213086, -1.39932359],\n",
       "        [ 0.88031219, -0.21824788,  1.1308061 , ...,  1.54676925,\n",
       "          0.21796679, -1.3608441 ],\n",
       "        [-1.47994118,  1.55306953,  0.9784341 , ...,  0.40469509,\n",
       "         -0.03323607,  1.57177031]])]"
      ]
     },
     "execution_count": 21,
     "metadata": {},
     "output_type": "execute_result"
    }
   ],
   "source": [
    "np.split(norm, [int(.6 * len(norm)), int(.8 * len(norm))])"
   ]
  },
  {
   "cell_type": "markdown",
   "metadata": {},
   "source": [
    "Respuesta esperada:\n",
    "\n",
    "(500,)"
   ]
  },
  {
   "cell_type": "markdown",
   "metadata": {},
   "source": [
    "Ahora ud puede crear los tres datasets por medio del uso de indices de filas de nuevo arreglo *indices_filas*.  Recuerde que las divisiones son 60/20/20 para train/validation/test, esto se puede completar para cada caso en una línea de código.  Llenar los espacios debajo."
   ]
  },
  {
   "cell_type": "code",
   "execution_count": 12,
   "metadata": {},
   "outputs": [
    {
     "ename": "SyntaxError",
     "evalue": "invalid syntax (<ipython-input-12-7175b06087cd>, line 2)",
     "output_type": "error",
     "traceback": [
      "\u001b[1;36m  File \u001b[1;32m\"<ipython-input-12-7175b06087cd>\"\u001b[1;36m, line \u001b[1;32m2\u001b[0m\n\u001b[1;33m    n =\u001b[0m\n\u001b[1;37m        ^\u001b[0m\n\u001b[1;31mSyntaxError\u001b[0m\u001b[1;31m:\u001b[0m invalid syntax\n"
     ]
    }
   ],
   "source": [
    "# calcule el total del arreglo indices_filas\n",
    "n = \n",
    "\n",
    "# calcule los valores de training set, no hardcoded\n",
    "train_start = \n",
    "train_end   = \n",
    "\n",
    "# calcule los valores de validation set, no hardcoded\n",
    "valid_start = \n",
    "valid_end   = \n",
    "\n",
    "# calcule los valores del test set, no hardcoded\n",
    "test_start = \n",
    "test_end   = "
   ]
  },
  {
   "cell_type": "code",
   "execution_count": null,
   "metadata": {
    "scrolled": false
   },
   "outputs": [],
   "source": [
    "print(train_start, train_end)\n",
    "print(valid_start, valid_end)\n",
    "print(test_start, test_end)"
   ]
  },
  {
   "cell_type": "markdown",
   "metadata": {},
   "source": [
    "Respuestas esperadas:\n",
    "```\n",
    "0 300\n",
    "300 400\n",
    "400 500\n",
    "```"
   ]
  },
  {
   "cell_type": "code",
   "execution_count": null,
   "metadata": {},
   "outputs": [],
   "source": [
    "# de norm, tome la sección inicial y final que corresponde al training set\n",
    "train_set = \n",
    "\n",
    "# de norm, tome la seccion inicial y final que corresponde al validation set\n",
    "valid_set = \n",
    "\n",
    "# de norm, tome la seccion inicial y final que corresponde al test set\n",
    "test_set = "
   ]
  },
  {
   "cell_type": "code",
   "execution_count": null,
   "metadata": {},
   "outputs": [],
   "source": [
    "# imprima el .shape de training set\n",
    "print(train_set.shape)\n",
    "\n",
    "# imprima el .shape del validation set\n",
    "print(valid_set.shape)\n",
    "\n",
    "# imprima el .shape del test set\n",
    "print(test_set.shape)"
   ]
  },
  {
   "cell_type": "markdown",
   "metadata": {},
   "source": [
    "Respuesta esperada:\n",
    "```\n",
    "(300, 300)\n",
    "(100, 300)\n",
    "(100, 300)\n",
    "```"
   ]
  }
 ],
 "metadata": {
  "kernelspec": {
   "display_name": "Python 3",
   "language": "python",
   "name": "python3"
  },
  "language_info": {
   "codemirror_mode": {
    "name": "ipython",
    "version": 3
   },
   "file_extension": ".py",
   "mimetype": "text/x-python",
   "name": "python",
   "nbconvert_exporter": "python",
   "pygments_lexer": "ipython3",
   "version": "3.8.5"
  }
 },
 "nbformat": 4,
 "nbformat_minor": 4
}
