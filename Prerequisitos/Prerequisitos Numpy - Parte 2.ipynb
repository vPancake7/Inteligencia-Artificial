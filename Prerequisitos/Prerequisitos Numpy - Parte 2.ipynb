{
 "cells": [
  {
   "cell_type": "markdown",
   "metadata": {},
   "source": [
    "### Realizar el siguiente proyecto\n",
    "\n",
    "Cuando empecemos a ver machine learning requerimos normalizar la data, normalizar significa truncar valores entre cero y uno, a groso modo y sin mucho detalle.\n",
    "\n",
    "En este laboratorio hará normalización de la media.  Esta escala la información pero en vez de tomar valores entre 0 y 1 los distribuira equitativamente en intervalos cerca de cero, por ejemplo, si tenemos un dataset de 1M de datos estos serán normalizados para un rango cercano a 0, por ejemplo -4 a 4.\n",
    "\n",
    "Esto tambien garantiza que la media de los elementos sea cero.\n",
    "\n",
    "Su objetivo será:\n",
    "- crear elementos de rango 2 de elementos aleatorios entre 0 y 10k (inclusivo) com 500 filas y 300 columnas."
   ]
  },
  {
   "cell_type": "code",
   "execution_count": null,
   "metadata": {},
   "outputs": [],
   "source": [
    "# importar numpy como np\n",
    "\n",
    "np.random.seed(42) # estabilidad en la generacione de numeros aleatorios\n",
    "\n",
    "# crear el arreglo x de 500x300 con enteros entre (0,10000]\n",
    "x = "
   ]
  },
  {
   "cell_type": "code",
   "execution_count": null,
   "metadata": {},
   "outputs": [],
   "source": [
    "print(f'shape:{x.shape}')\n",
    "print(f'size:{x.size}')\n",
    "print(f'max:{x.max()}')\n",
    "print(f'min:{x.min()}')"
   ]
  },
  {
   "cell_type": "markdown",
   "metadata": {},
   "source": [
    "Respuesta esperada:\n",
    "```\n",
    "shape:(500, 300)\n",
    "size:150000\n",
    "max:10000\n",
    "min:0\n",
    "```"
   ]
  },
  {
   "cell_type": "markdown",
   "metadata": {},
   "source": [
    "Ahora que creo el arreglo lo normalizaremos.  La normalización tiene que ver con esta función matemática:\n",
    "$$\n",
    "i=\\frac{i - \\mu_i}{\\sigma_i}\n",
    "$$\n",
    "\n",
    "- $i$ es la $i_n$ columna de $X$\n",
    "- $\\mu_i$ es el promedio de los valores de la columna $i_ma$ de $X$\n",
    "- $\\sigma_i$ es la desviacion estandar de los valores de la $i_ma$ columna de $X$\n",
    "\n",
    "En otras palabras la normalizacion media es realizada sustrayendo de cada columna de $X$ el promedio de sus valores, y entonces dividirlo por la desviación estandar de sus valores, en el espacio inferior realizaremos unos calculos intermedios"
   ]
  },
  {
   "cell_type": "code",
   "execution_count": null,
   "metadata": {},
   "outputs": [],
   "source": [
    "# promedio de los valores de cada columna de x\n",
    "cols_prom = \n",
    "\n",
    "# desviacion estandar de los valores en cada columna de x\n",
    "cols_std = "
   ]
  },
  {
   "cell_type": "code",
   "execution_count": null,
   "metadata": {},
   "outputs": [],
   "source": [
    "cols_prom.shape, cols_std.shape"
   ]
  },
  {
   "cell_type": "markdown",
   "metadata": {},
   "source": [
    "Respuesta esperada:\n",
    "```\n",
    "((300,), (300,))\n",
    "```\n",
    "\n",
    "Si ud calculo bien el paso anterior debe tener un arreglo de 300 debido a que es la cantidad de columnas necesarias"
   ]
  },
  {
   "cell_type": "markdown",
   "metadata": {},
   "source": [
    "Ahora podemos utilizar correctamente broadcasting utilizando la normalizacion por medio de la ecuación que se presentó anteriormente\n",
    "\n",
    "$$\n",
    "i=\\frac{i - \\mu_i}{\\sigma_i}\n",
    "$$"
   ]
  },
  {
   "cell_type": "code",
   "execution_count": null,
   "metadata": {},
   "outputs": [],
   "source": [
    "norm = "
   ]
  },
  {
   "cell_type": "code",
   "execution_count": null,
   "metadata": {},
   "outputs": [],
   "source": [
    "print('Media:',norm.mean())\n",
    "print('Máximo:',norm.max())\n",
    "print('Minimo:',norm.min())"
   ]
  },
  {
   "cell_type": "markdown",
   "metadata": {},
   "source": [
    "Si realizó el paso anterior de manera correcta debemos tener los datos con una media cercana o tendiente a cero.\n",
    "\n",
    "Respuesta:\n",
    "```\n",
    "Media: -2.4632148173016807e-18\n",
    "Máximo: 1.8726267617090666\n",
    "Minimo: -1.9511544494198068\n",
    "```"
   ]
  },
  {
   "cell_type": "markdown",
   "metadata": {},
   "source": [
    "### Separacion de los datos\n",
    "\n",
    "Despues que se normalizan los datos es costumbre dividir el dataset en \n",
    "- Training set\n",
    "- Validation set\n",
    "- Test set\n",
    "\n",
    "Normalmente se eligen los valores de división dependiendo de la cantidad de datos, pero usaremos en este caso los siguientes porcentajes\n",
    "- 60%\n",
    "- 20%\n",
    "- 20%\n",
    "\n",
    "Empezaremos a dividir los datos, asegurese de no tener coincidencia en los mismos datos seleccionados (no elegir la misma fila) para poder que los datos sean seleccionados aleatoriamente y distribuidos entre los nuevos sets."
   ]
  },
  {
   "cell_type": "markdown",
   "metadata": {},
   "source": [
    "Creareomos un arreglo de rango 1 conteniedo las permutaciones de filas de indices de *norm*.  Ud. puede con la función np.random.permutation(N) crear valores entre rangos de 0 a N-1."
   ]
  },
  {
   "cell_type": "code",
   "execution_count": null,
   "metadata": {},
   "outputs": [],
   "source": [
    "# ejemplo\n",
    "print(np.random.permutation(5))"
   ]
  },
  {
   "cell_type": "markdown",
   "metadata": {},
   "source": [
    "En la parte inferior crear un arreglo de rango 1 que contenga las permutaciones de los índices de las filas de *norm*.  Ud puede realizar esto en una línea de codigo extrayendo el número de filas de *norm*\n",
    "- puede utilizar la funcion .shape (recuerde que retorna filas, columnas)\n",
    "- luego puede pasar este dato a np.random.permutation()"
   ]
  },
  {
   "cell_type": "code",
   "execution_count": null,
   "metadata": {},
   "outputs": [],
   "source": [
    "indices_filas = "
   ]
  },
  {
   "cell_type": "code",
   "execution_count": null,
   "metadata": {
    "scrolled": true
   },
   "outputs": [],
   "source": [
    "print(indices_filas.shape)"
   ]
  },
  {
   "cell_type": "markdown",
   "metadata": {},
   "source": [
    "Respuesta esperada:\n",
    "\n",
    "(500,)"
   ]
  },
  {
   "cell_type": "markdown",
   "metadata": {},
   "source": [
    "Ahora ud puede crear los tres datasets por medio del uso de indices de filas de nuevo arreglo *indices_filas*.  Recuerde que las divisiones son 60/20/20 para train/validation/test, esto se puede completar para cada caso en una línea de código.  Llenar los espacios debajo."
   ]
  },
  {
   "cell_type": "code",
   "execution_count": null,
   "metadata": {},
   "outputs": [],
   "source": [
    "# calcule el total del arreglo indices_filas\n",
    "n = \n",
    "\n",
    "# calcule los valores de training set, no hardcoded\n",
    "train_start = \n",
    "train_end   = \n",
    "\n",
    "# calcule los valores de validation set, no hardcoded\n",
    "valid_start = \n",
    "valid_end   = \n",
    "\n",
    "# calcule los valores del test set, no hardcoded\n",
    "test_start = \n",
    "test_end   = "
   ]
  },
  {
   "cell_type": "code",
   "execution_count": null,
   "metadata": {
    "scrolled": false
   },
   "outputs": [],
   "source": [
    "print(train_start, train_end)\n",
    "print(valid_start, valid_end)\n",
    "print(test_start, test_end)"
   ]
  },
  {
   "cell_type": "markdown",
   "metadata": {},
   "source": [
    "Respuestas esperadas:\n",
    "```\n",
    "0 300\n",
    "300 400\n",
    "400 500\n",
    "```"
   ]
  },
  {
   "cell_type": "code",
   "execution_count": null,
   "metadata": {},
   "outputs": [],
   "source": [
    "# de norm, tome la sección inicial y final que corresponde al training set\n",
    "train_set = \n",
    "\n",
    "# de norm, tome la seccion inicial y final que corresponde al validation set\n",
    "valid_set = \n",
    "\n",
    "# de norm, tome la seccion inicial y final que corresponde al test set\n",
    "test_set = "
   ]
  },
  {
   "cell_type": "code",
   "execution_count": null,
   "metadata": {},
   "outputs": [],
   "source": [
    "# imprima el .shape de training set\n",
    "print(train_set.shape)\n",
    "\n",
    "# imprima el .shape del validation set\n",
    "print(valid_set.shape)\n",
    "\n",
    "# imprima el .shape del test set\n",
    "print(test_set.shape)"
   ]
  },
  {
   "cell_type": "markdown",
   "metadata": {},
   "source": [
    "Respuesta esperada:\n",
    "```\n",
    "(300, 300)\n",
    "(100, 300)\n",
    "(100, 300)\n",
    "```"
   ]
  }
 ],
 "metadata": {
  "kernelspec": {
   "display_name": "Python 3",
   "language": "python",
   "name": "python3"
  },
  "language_info": {
   "codemirror_mode": {
    "name": "ipython",
    "version": 3
   },
   "file_extension": ".py",
   "mimetype": "text/x-python",
   "name": "python",
   "nbconvert_exporter": "python",
   "pygments_lexer": "ipython3",
   "version": "3.8.5"
  }
 },
 "nbformat": 4,
 "nbformat_minor": 4
}
