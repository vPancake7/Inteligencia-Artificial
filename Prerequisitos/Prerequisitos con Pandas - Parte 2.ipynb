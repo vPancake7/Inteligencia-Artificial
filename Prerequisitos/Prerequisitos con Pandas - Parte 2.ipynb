{
 "cells": [
  {
   "cell_type": "markdown",
   "metadata": {},
   "source": [
    "#  Prerequisitos con Pandas - Parte 2\n",
    "\n",
    "En esta nota utilizará un dataframe de pandas para realizar estadísticas.  Trabajaremos con [data de Tesla del año 2010 al 2020](https://www.kaggle.com/timoboz/tesla-stock-data-from-2010-to-2020) descargada de Kaggle.\n",
    "\n",
    "La información se encuentra en la carpeta Prerequisitos/data y es llamada TSLA.csv."
   ]
  },
  {
   "cell_type": "markdown",
   "metadata": {},
   "source": [
    "Comenzaremos leyendo el DataFrame para ver como luce el la información."
   ]
  },
  {
   "cell_type": "code",
   "execution_count": null,
   "metadata": {
    "scrolled": false
   },
   "outputs": [],
   "source": [
    "# importamos las librerías\n",
    "import pandas as pd\n",
    "import os\n",
    "\n",
    "# observamos en que directorio nos encontramos\n",
    "print(os.getcwd())"
   ]
  },
  {
   "cell_type": "code",
   "execution_count": null,
   "metadata": {},
   "outputs": [],
   "source": [
    "# leemos el csv a un dataframe\n",
    "path = os.path.join('data', 'TSLA.csv')\n",
    "df = pd.read_csv(path)\n",
    "\n",
    "# leemos las primeras 10 lineas\n",
    "df.head(10)"
   ]
  },
  {
   "cell_type": "markdown",
   "metadata": {},
   "source": [
    "El dataframe esta etiquedato automaticamente por índices en cada fila y las colmnas por medio de sus nombres propios en el csv.\n",
    "\n",
    "### Su labor\n",
    "\n",
    "Ahora cargará el mismo dataframe pero solo utilizando *Date* y *Adj Close* o *Close* de los datasets de Nvidia y Adobe que se encuentran en la misma carpeta.\n",
    "\n",
    "En adicion, utilizaremos *Date* como índice de filas y finalmente tendremos que reconocer el dataframe las fechas actuales como Año/Mes/Día y no como strings.  Para cada stock ud. debe completar estas actividades utilizando pd.read_csv().\n",
    "\n",
    "Algunas de las posibles ayudas:\n",
    "- Utilizar **index_col** para utilizar las columnas como índices, por ejemplo, index_col= ['High']\n",
    "- Utilizar **parse_dates = True** para convertir las fechas en Año/Mes/día\n",
    "- Utilziar **usecols** para seleccionar cuales columnas ud quiere agregar al DataFrame.  Por ejemplo usecols= ['Low', 'Open']\n",
    "\n",
    "Llene el código inferior..."
   ]
  },
  {
   "cell_type": "code",
   "execution_count": null,
   "metadata": {},
   "outputs": [],
   "source": [
    "# cargar el dataset de Nvidia en un dataframe\n",
    "ds_path = None\n",
    "nvidia_df = None \n",
    "\n",
    "# cargar el dataset de Adobe en un dataframe\n",
    "ds_path = None\n",
    "adobe_df = None"
   ]
  },
  {
   "cell_type": "code",
   "execution_count": null,
   "metadata": {},
   "outputs": [],
   "source": [
    "nvidia_df.head()"
   ]
  },
  {
   "cell_type": "markdown",
   "metadata": {},
   "source": [
    "<img src=\"imgs/pandas_parte2_1.PNG\" align=\"left\" />"
   ]
  },
  {
   "cell_type": "markdown",
   "metadata": {},
   "source": [
    "Ahora ud unirá los DataFrames de arriba para crear solamente un DataFrame entero que contenga *close* para todos los stocks.  Para esto vamos a crear un dataframe vació que tenga los índices de filas de calendario mínimas y máximas de las acciones.  \n",
    "\n",
    "Utilizaremos pd.date_range(), esta función crea los días calendario ordenadamente y luego crearemos el dataframe utilizando estos índices como filas."
   ]
  },
  {
   "cell_type": "code",
   "execution_count": null,
   "metadata": {
    "scrolled": true
   },
   "outputs": [],
   "source": [
    "#  Creamos el calendario de fechas\n",
    "min_date = None\n",
    "max_date = None\n",
    "dates = pd.date_range(min_date, max_date)\n",
    "dates"
   ]
  },
  {
   "cell_type": "markdown",
   "metadata": {},
   "source": [
    "Respuesta esperada:\n",
    "```\n",
    "DatetimeIndex(['2013-02-08', '2013-02-09', '2013-02-10', '2013-02-11',\n",
    "               '2013-02-12', '2013-02-13', '2013-02-14', '2013-02-15',\n",
    "               '2013-02-16', '2013-02-17',\n",
    "               ...\n",
    "               '2018-01-29', '2018-01-30', '2018-01-31', '2018-02-01',\n",
    "               '2018-02-02', '2018-02-03', '2018-02-04', '2018-02-05',\n",
    "               '2018-02-06', '2018-02-07'],\n",
    "              dtype='datetime64[ns]', length=1826, freq='D')\n",
    "```"
   ]
  },
  {
   "cell_type": "code",
   "execution_count": null,
   "metadata": {
    "scrolled": true
   },
   "outputs": [],
   "source": [
    "stocks = pd.DataFrame(index=dates)\n",
    "stocks.head()"
   ]
  },
  {
   "cell_type": "markdown",
   "metadata": {},
   "source": [
    "Respuesta esperada:\n",
    "\n",
    "<img src=\"imgs/pandas_parte2_2.PNG\" align=\"left\" />"
   ]
  },
  {
   "cell_type": "markdown",
   "metadata": {},
   "source": [
    "Ahora unirá los dataframes individiales de nvidia y adobe en el dataframe *stocks*.  Sin embargo, recuerde que antes de unificarlo debe cambiar el nombre de columnas de los dataframes, favor cambiarlos a *close_nvidia* y *close_adobe* respectivamente.  Esto se debe debido a que deben ser llaves únicas, sino dará problemas al unificarse (todas tienen el mismo nombre *close*).  \n",
    "\n",
    "Ud puede hacer esto con la función pd.DataFrame.rename()."
   ]
  },
  {
   "cell_type": "code",
   "execution_count": null,
   "metadata": {},
   "outputs": [],
   "source": [
    "# Cambiar el nombre en close del dataframe de nvidia 'close_nvidia'\n",
    "nvidia_df = None\n",
    "nvidia_df.sort_index(inplace=None)\n",
    "# Cambiar el nombre en close del dataframe de adobe a 'close_adobe'\n",
    "adobe_df = None\n",
    "adobe_df.sort_index(inplace=None)"
   ]
  },
  {
   "cell_type": "markdown",
   "metadata": {},
   "source": [
    "Puede verificar que realizó bien la operación si imprime las primeras líneas de algun dataframe"
   ]
  },
  {
   "cell_type": "code",
   "execution_count": null,
   "metadata": {
    "scrolled": false
   },
   "outputs": [],
   "source": [
    "# Desplegamos para ver si operó bien lo que realizamos\n",
    "adobe_df.head()"
   ]
  },
  {
   "cell_type": "markdown",
   "metadata": {},
   "source": [
    "Respuesta esperada:\n",
    "\n",
    "<img src=\"imgs/pandas_parte2_3.PNG\" align=\"left\" />"
   ]
  },
  {
   "cell_type": "markdown",
   "metadata": {},
   "source": [
    "Ahora que tiene los datasets ordenados y cambiados, podemos añadir todo al dataframe de stocks.  Para esto utilizamos DataFrame.join().  Lo que realiza dataframe1.join(dataframe2) es que unirá el dataframe1 con el dataframe2.\n",
    "\n",
    "Llene los códigos inferiores para realizar los cambios."
   ]
  },
  {
   "cell_type": "code",
   "execution_count": null,
   "metadata": {},
   "outputs": [],
   "source": [
    "stocks = None\n",
    "stocks = None"
   ]
  },
  {
   "cell_type": "markdown",
   "metadata": {},
   "source": [
    "Ahora podemos verificar si hemos hecho correctamente el cambio desplegando el dataframe de stocks"
   ]
  },
  {
   "cell_type": "code",
   "execution_count": null,
   "metadata": {
    "scrolled": true
   },
   "outputs": [],
   "source": [
    "stocks.head()"
   ]
  },
  {
   "cell_type": "markdown",
   "metadata": {},
   "source": [
    "Respuesta esperada:\n",
    "\n",
    "<img src=\"imgs/pandas_parte2_4.PNG\" align=\"left\" />"
   ]
  },
  {
   "cell_type": "markdown",
   "metadata": {},
   "source": [
    "### Análsis del DataFrame\n",
    "\n",
    "Ahora procedemos a la parte analítica del dataframe.  Primero vamos a verificar si no tenemos ningnos valores *NaN*.  Llene el espacio inferior con lo que se recomienda realizar"
   ]
  },
  {
   "cell_type": "code",
   "execution_count": null,
   "metadata": {},
   "outputs": [],
   "source": [
    "# Verifique si existen valores Nan en el dataframe de stocks\n"
   ]
  },
  {
   "cell_type": "markdown",
   "metadata": {},
   "source": [
    "Respuesta esperada:\n",
    "\n",
    "1134"
   ]
  },
  {
   "cell_type": "code",
   "execution_count": null,
   "metadata": {},
   "outputs": [],
   "source": [
    "# Remueva estos 1134 valores\n",
    "\n",
    "print()"
   ]
  },
  {
   "cell_type": "code",
   "execution_count": null,
   "metadata": {
    "scrolled": true
   },
   "outputs": [],
   "source": [
    "# Valide nuevamente el resultado de su eliminación\n"
   ]
  },
  {
   "cell_type": "markdown",
   "metadata": {},
   "source": [
    "Respuesta esperada:\n",
    "\n",
    "0"
   ]
  },
  {
   "cell_type": "markdown",
   "metadata": {},
   "source": [
    "Ahora que está limpio el dataset podemos realizar algunas estadísticas básicas.  Calcular:\n",
    "- el promedio movil \n",
    "  - dataframe.rolling().mean() tiene un argumento en rolling... dataframe.rolling(N).mean() calcula para la muestra de días deseada\n",
    "    - calcular entonces el promedio movil para 10 meses\n",
    "- la mediana del precio de mercado por dataframe.mean()\n",
    "- la desviación estándar\n",
    "- la correlación de los stocks"
   ]
  },
  {
   "cell_type": "code",
   "execution_count": null,
   "metadata": {
    "scrolled": false
   },
   "outputs": [],
   "source": [
    "# calcular el promedio móvil para cada 10 meses\n",
    "moving_avg = None \n",
    "moving_avg"
   ]
  },
  {
   "cell_type": "markdown",
   "metadata": {},
   "source": [
    "<img src=\"imgs/pandas_parte2_5.PNG\" align=\"left\" />"
   ]
  },
  {
   "cell_type": "code",
   "execution_count": null,
   "metadata": {
    "scrolled": true
   },
   "outputs": [],
   "source": [
    "# calcular la media\n"
   ]
  },
  {
   "cell_type": "markdown",
   "metadata": {},
   "source": [
    "Respuesta esperada:\n",
    "    \n",
    "```\n",
    "close_nvidia    56.369368\n",
    "close_adobe     90.458156\n",
    "dtype: float64\n",
    "```"
   ]
  },
  {
   "cell_type": "code",
   "execution_count": null,
   "metadata": {},
   "outputs": [],
   "source": [
    "# calcular la desviación estándar\n"
   ]
  },
  {
   "cell_type": "markdown",
   "metadata": {},
   "source": [
    "Respuesta esperada:\n",
    "\n",
    "```\n",
    "close_nvidia    59.624642\n",
    "close_adobe     36.997773\n",
    "dtype: float64\n",
    "```"
   ]
  },
  {
   "cell_type": "code",
   "execution_count": null,
   "metadata": {
    "scrolled": false
   },
   "outputs": [],
   "source": [
    "# calcular la correlación de datos\n"
   ]
  },
  {
   "cell_type": "markdown",
   "metadata": {},
   "source": [
    "Respuesta esperada:\n",
    "\n",
    "\n",
    "<img src=\"imgs/pandas_parte2_6.PNG\" align=\"left\" />"
   ]
  },
  {
   "cell_type": "markdown",
   "metadata": {},
   "source": [
    "Todo esta bien, pero como vemos, los primeros 10 datos del dataframe tienen valores nulos, esto se debe a que el promedio movil se calcula contra un período atrás y como el primer período de 10 datos no existe, nos dá valores nulos.\n",
    "\n",
    "Podemos entonces visualziar el dataframe en un gráfico.  Debajo se muestra el código para solo ejecutar y ver visualmente los stock de cada uno."
   ]
  },
  {
   "cell_type": "code",
   "execution_count": null,
   "metadata": {
    "scrolled": true
   },
   "outputs": [],
   "source": [
    "# permite graficar en el notebook\n",
    "%matplotlib inline\n",
    "\n",
    "# importamos matplotlib\n",
    "import matplotlib.pyplot as plt\n",
    "\n",
    "# graficar nvidia y adobe\n",
    "plt.plot(stocks['close_nvidia'])\n",
    "\n",
    "# ahora graficamos la media y el precio de stock\n",
    "plt.plot(moving_avg)\n",
    "plt.legend(['Stock Price', 'Moving Average'])\n",
    "plt.show()"
   ]
  },
  {
   "cell_type": "markdown",
   "metadata": {},
   "source": [
    "Respuesta esperada:\n",
    "\n",
    "<img src=\"imgs/pandas_parte2_7.PNG\" align=\"left\" />"
   ]
  }
 ],
 "metadata": {
  "kernelspec": {
   "display_name": "Python 3",
   "language": "python",
   "name": "python3"
  },
  "language_info": {
   "codemirror_mode": {
    "name": "ipython",
    "version": 3
   },
   "file_extension": ".py",
   "mimetype": "text/x-python",
   "name": "python",
   "nbconvert_exporter": "python",
   "pygments_lexer": "ipython3",
   "version": "3.8.5"
  }
 },
 "nbformat": 4,
 "nbformat_minor": 4
}
