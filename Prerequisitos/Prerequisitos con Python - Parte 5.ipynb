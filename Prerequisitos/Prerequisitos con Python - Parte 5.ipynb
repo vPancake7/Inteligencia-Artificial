{
 "cells": [
  {
   "cell_type": "markdown",
   "metadata": {},
   "source": [
    "# Prerequisitos con Python - Parte 5\n",
    "\n",
    "Aquí generaremos la sección de scripting, esto nos permitirá escribir y ejecutar nuestro propio código en nuestra máquina.  También veremos escritura de archivos, manejo de errores, entrada y salida de argumentos y finalmennte librerias."
   ]
  },
  {
   "cell_type": "markdown",
   "metadata": {},
   "source": [
    "### Instalando python\n",
    "\n",
    "<img src=\"imgs/python.PNG\" width=\"800\"/>\n",
    "<img src=\"imgs/read_bookstore.PNG\" width=\"30\"/>\n",
    "\n",
    "Python es un lenguaje de programación basado en C++, todo lo que hacemos en python es interprentado, es decir que este lenguaje no compila (no genera un ejecutable).  \n",
    "\n",
    "Este lenguaje ha ganado popularidad durante los años convirtiendose en el de-facto para IA y otras áreas.  La comunidad aporta cada momento y paulatinamente debe cambiar a la nueva versión para mejorar sus caracteristicas pero tambien debe estar anuente en mantener su propio codigo y garantizar que este aún funciona.\n",
    "\n",
    "Puede [descargar python aquí](http://python.org)"
   ]
  },
  {
   "cell_type": "markdown",
   "metadata": {},
   "source": [
    "#### Instalando python utilizando Anaconda\n",
    "\n",
    "<img src=\"imgs/anaconda.PNG\" width=\"800\"/>\n",
    "\n",
    "Otra manera más versátil es utilizar anaconda para instalar python.  El problema con instalar solamente python es que luego tendría que desinstalar esta version (o instalar la nueva versión de python).  Lo cual a futuro le causaría problemas para mantener su código, por ejemplo, tengo una aplicación en python 3.5 y ahora instalé la versión 3.8, si tengo alguna función específica que solamente es de python 3.5 me dará error o alguna advertencia.\n",
    "\n",
    "Anaconda permite crear ambientes virtuales y diferentes versiens de python.\n",
    "\n",
    "Para instalar Anaconda descarguelo y tambien para verificar abra una consola de Anaconda y escriba por ejemplo\n",
    "\n",
    "<img src=\"imgs/conda_version.PNG\" width=\"500\"/>"
   ]
  },
  {
   "cell_type": "markdown",
   "metadata": {},
   "source": [
    "##### Windows\n",
    "\n",
    "En windows podemos simplemente abrir el bash script por medio de la terminal de anaconda\n",
    "\n",
    "<img src=\"imgs/anaconda_prompt.PNG\" width=\"500\"/>\n",
    "\n",
    "O podemos agregar a la variable de entorno path para que simplemente abriendo la terminal esta se ejecute.\n",
    "\n",
    "<img src=\"imgs/anaconda_env_vars.PNG\" width=\"500\"/>\n",
    "\n",
    "##### Linux\n",
    "\n",
    "Para linux necesita hacer source al bashrc, esto se puede hacer con los siguientes comandos.  Note que no tengo instalado Anaconda pero hicimos lo mismo para ver donde está instalado python3 (ud. debe usar which anaconda3).\n",
    "\n",
    "<img src=\"imgs/which_anaconda3.PNG\" width=\"800\"/>\n",
    "\n",
    "Luego añadimos esto al archivo oculto .bashrc.  Añadirlo de la siguiente manera. Note que es con el símbolo >> y se añade al final del archivo.\n",
    "\n",
    "<img src=\"imgs/bashrc.PNG\" width=\"800\"/>\n",
    "\n",
    "También podemos usar un alias para llamar a anaconda, por ejemplo, hare lo mismo para esta máquina en linux que tiene python3 solamente y quisieramos llamarlo como python.\n",
    "\n",
    "Primeramente creamos un alias en el bashrc\n",
    "\n",
    "Seguido hacemos source al bashrc (note que la primera vez no lo encuentra, o puede cerrar y abrir la terminal y obviar este punto)\n",
    "\n",
    "Finalmente damos python y está todo listo\n",
    "\n",
    "<img src=\"imgs/alias_python.PNG\" width=\"800\"/>"
   ]
  },
  {
   "cell_type": "markdown",
   "metadata": {},
   "source": [
    "#### Corriendo desde una terminal archivos de python\n",
    "\n",
    "Pondremos los scripts en esta carpeta\n",
    "\n",
    "<img src=\"imgs/script.PNG\" width=\"700\"/>\n",
    "\n",
    "Seguido abrimos una ventana de comando y navegamos hasta esta carpeta ejecutando el script por medio de linea de comandos como sigue:\n",
    "\n",
    "    python first_script.py\n",
    "\n",
    "<img src=\"imgs/executing_script.PNG\" width=\"700\"/>"
   ]
  },
  {
   "cell_type": "code",
   "execution_count": 3,
   "metadata": {},
   "outputs": [
    {
     "name": "stdout",
     "output_type": "stream",
     "text": [
      "Executing the script\n"
     ]
    }
   ],
   "source": [
    "# Tambien podemos ejecutarlo desde jupyter como sigue\n",
    "# Note que la carpeta donde estamos ahora mismo ejecutando jupyter es la de Prerequisitos, es por esto que\n",
    "# solo navegamos nuevamente a la carpeta scripts y el archivo a ejecutar\n",
    "!python scripts/first_script.py"
   ]
  },
  {
   "cell_type": "markdown",
   "metadata": {},
   "source": [
    "### Entorno de Desarrollo\n",
    "\n",
    "Tenemos varias maneras de utilizar un entorno de desarrollo y editores, varias herramientas como:\n",
    "\n",
    "- Pycharm\n",
    "- Spyder\n",
    "- Sublime\n",
    "- Atom\n",
    "- VSCode\n",
    "- Emacs\n",
    "- vim\n",
    "- nano\n",
    "- Notepad++\n",
    "- Otros\n",
    "\n",
    "Ud use el que mas le conviene\n",
    "\n",
    "Este ejemplo utilizamos sublime.  Un editor de texto bueno nos permite tener:\n",
    "\n",
    "- Una terminal\n",
    "- Capacidad de escritura\n",
    "- Poder ver lineas de edicion\n",
    "- Marcar los diferentes tipos de datos\n",
    "\n",
    "<img src=\"imgs/text_editor.PNG\" width=\"700\"/>\n",
    "\n",
    "Un editor bueno es configurable y expandible.  Podemos instalar paquetes que nos ayudan a la edición y auto completación de código, por ejemplo\n",
    "\n",
    "Apretamos Shift+Ctrl+P para que nos salga la ventana de instalación de paquetes y escribimos install\n",
    "\n",
    "<img src=\"imgs/install_package.PNG\" width=\"700\"/>\n",
    "\n",
    "Al seleccionar la primera opción luego de unos momentos aparece una pantalla, busquemos Kite, que es un autocomplete para python muy utilizado.  Primeramente [instale el engine backend de aqui](https://www.kite.com/download/?utm_medium=referral&utm_source=helpcenter&utm_content=53). Al hacer click sobre él, esperar unos segundos y darle continuar si aparece una pantalla emergente hasta que termine la instalación.\n",
    "\n",
    "<img src=\"imgs/kite.PNG\" width=\"700\"/>\n",
    "\n",
    "Finalmente probamos autocomplete de kite insertando las siguientes líneas.\n",
    "\n",
    "<img src=\"imgs/kite_plugin.PNG\" width=\"700\"/>"
   ]
  },
  {
   "cell_type": "markdown",
   "metadata": {},
   "source": [
    "### Haciendo nuestro primer script\n",
    "\n",
    "Abrir un editor de texto y escribir el siguiente código.\n",
    "\n",
    "    \n",
    "    def heart(number):\n",
    "      for _ in range(number):\n",
    "        print(\"\"\"\n",
    "     **    **\n",
    "    *    *   *\n",
    "    **      **\n",
    "     **    **\n",
    "       * * *\n",
    "         *\"\"\")\n",
    "\n",
    "    print(heart(3))\n",
    "    \n",
    "Salvar el archivo con un nombre y ejecutar desde la ventana de comandos.  En micaso, lo ejecutaré desde el notebook."
   ]
  },
  {
   "cell_type": "code",
   "execution_count": 5,
   "metadata": {},
   "outputs": [
    {
     "name": "stdout",
     "output_type": "stream",
     "text": [
      "\n",
      " **    **\n",
      "*    *   *\n",
      "**      **\n",
      " **    **\n",
      "   * * *\n",
      "     *\n",
      "\n",
      " **    **\n",
      "*    *   *\n",
      "**      **\n",
      " **    **\n",
      "   * * *\n",
      "     *\n",
      "\n",
      " **    **\n",
      "*    *   *\n",
      "**      **\n",
      " **    **\n",
      "   * * *\n",
      "     *\n"
     ]
    }
   ],
   "source": [
    "!python scripts/second_script.py"
   ]
  },
  {
   "cell_type": "markdown",
   "metadata": {},
   "source": [
    "#### Pidiendo entradas del usuario\n",
    "\n",
    "Abrir el achivo input_script.py y analicelo.\n",
    "\n",
    "Este archivo pide una entrada de usuario.\n",
    "\n",
    "Aqui mostramos varias maneras de manipular una entrada, debido a que siempre son cadenas de caracteres las entradas estas deben ser transformada al tipo de datos solicitado.\n",
    "\n",
    "<img src=\"imgs/input_data.PNG\" width=\"700\"/>"
   ]
  },
  {
   "cell_type": "markdown",
   "metadata": {},
   "source": [
    "### Su turno\n",
    "\n",
    "Ahora genere un script que haga lo siguiente:\n",
    "\n",
    "- Genere un script que al ingresar el radio de una esfera de como salida su volumen\n",
    "- Debajo un ejemplo\n",
    "\n",
    "    Ingrese el volumen:2.2\n",
    "    El volumen de la esfera es:44.6 m^3"
   ]
  },
  {
   "cell_type": "markdown",
   "metadata": {},
   "source": [
    "#### Manejo de Errores\n",
    "\n",
    "¿Que sucede si al ingresar una entrada de nombre nos equivocamos e ingresamos un número en el codigo anterior?\n",
    "\n",
    "<img src=\"imgs/error.PNG\" width=\"700\"/>\n",
    "\n",
    "Vemos que el primer caso todo esta bien, pero en los siguientes falla.\n",
    "\n",
    "En este apartado presentamos el método de manejo de errores.\n",
    "\n",
    "Los errores se pueden separar en dos tipos:\n",
    "- Errores de sintaxis:  En este caso en particular debajo ingresé una cadena sin su final.\n",
    "\n",
    "<img src=\"imgs/syntaxis_error.PNG\" width=\"700\"/>\n",
    "\n",
    "- [Errores de excepción](https://bit.ly/3cmYC5g):  Para el caso anterior vimos que tenemos un error por valor, esto es debido al tipo de datos, pero python ofrece identificación de más de un solo tipo de error, este es solo uno.\n",
    "\n",
    "<img src=\"imgs/error.PNG\" width=\"700\"/>\n",
    "\n",
    "Los errores de excepción son los que hay que corregir pues estos detienen el código que se está ejecutando."
   ]
  },
  {
   "cell_type": "markdown",
   "metadata": {},
   "source": [
    "#### Manejo de Errores\n",
    "\n",
    "Veamos ahora como correir el error del archivo input_script.py o más bien como manejamos el error.\n",
    "\n",
    "Observe el archivo input_script_eh.py\n",
    "\n",
    "<img src=\"imgs/error_handling.PNG\" width=\"700\"/>\n",
    "\n",
    "Aqui hacemos uso del manejo de errores por medio de try y except.  Notamos que nos quedamos ciclando hasta que ingresamos el tipo de dato correcto."
   ]
  },
  {
   "cell_type": "markdown",
   "metadata": {},
   "source": [
    "#### Finally\n",
    "\n",
    "<img src=\"imgs/error_handling_finally.PNG\" width=\"700\"/>\n",
    "\n",
    "Finally siempre se ejecuta se de o no un error.\n",
    "\n",
    "También existe otro método dentro del manejo de errores, el total de metodos de manejo de errores es:\n",
    "- try\n",
    "- except\n",
    "- else\n",
    "- finally"
   ]
  },
  {
   "cell_type": "markdown",
   "metadata": {},
   "source": [
    "#### Detallando los tipos de excepción\n",
    "\n",
    "El archivo anterior maneja cualquier tipo de errores, incluso cuando hacemos Ctrl+C (Intente romper el flujo con Ctrl+C para ver que sigue ejecuntando).\n",
    "\n",
    "En python podemos hacer que se detecte un tipo de error en específico.  Sabemos que por el valor de entrada este tipo de error es 'ValueError' así que solo vamos a tratar este como tal\n",
    "\n",
    "Ejecute el script value_error.py\n",
    "\n",
    "<img src=\"imgs/value_error.PNG\" width=\"700\"/>\n",
    "\n",
    "Podemos ampliar el código manejando errores por medio del mismo except o diferentes excepts como por ejemplo:\n",
    "\n",
    "    try:\n",
    "      ..\n",
    "    except ValueError, TypeError:\n",
    "      ..\n",
    "    except KeyboardInterrupt:\n",
    "      ..\n",
    "    finally:\n",
    "      .."
   ]
  },
  {
   "cell_type": "markdown",
   "metadata": {},
   "source": [
    "#### Su turno\n",
    "\n",
    "Haga un programa en python que maneje el error por división zero"
   ]
  },
  {
   "cell_type": "code",
   "execution_count": 1,
   "metadata": {},
   "outputs": [
    {
     "name": "stdout",
     "output_type": "stream",
     "text": [
      "Haremos una division de numeros donde veremos un error por division cero\n",
      "\n",
      "division by zero\n"
     ]
    }
   ],
   "source": [
    "!python scripts/error_division_zero.py"
   ]
  },
  {
   "cell_type": "markdown",
   "metadata": {},
   "source": [
    "#### Leyendo y escribiendo archivos\n",
    "\n",
    "Para un programa ser útil, necesitamos hacer que este tenga integración con DB, Servicios Web y manipulación de información.  Por el momento no veremos las dos primeras.\n",
    "\n",
    "Archivos comunes a tener son imagenes, bases de datos y páginas web\n",
    "\n",
    "Es necesario al menos saber manipular archivos, mover un archivo de una ubicación a otra, leer un archivo o escribir uno.  Hasta el momento toda la información que ha manejado la ha puesto 'hardcoded' (manualmente) en el script de python o en anaconda o por medio de una entrada de usuario.\n",
    "\n",
    "Los datos vienen en diferentes formatos string de caracteres que codifican cierta información (se pueden diferenciar por la extensión del archivo):\n",
    "- csv\n",
    "- html\n",
    "- py\n",
    "- txt\n",
    "- otros\n",
    "\n",
    "En nuestros dias de trabajo utilizamos aplicaciones para abrir archivos y manipularlos de manera específica, p.e. photoshop necesita archivs psd y otros formatos para trabajar, no podemos ingresar un archivo .docx.\n",
    "\n",
    "Veamos como podemos leer y escribir archivos con el código 'read_file.py'\n",
    "\n",
    "<img src=\"imgs/read_file.PNG\" width=\"700\"/>"
   ]
  },
  {
   "cell_type": "markdown",
   "metadata": {},
   "source": [
    "Para mayor simplicidad y no abrir el archivo y cerrarlo (pues se nos puede olvidar) python ofrece la función 'with' con el cual podemos cerrar el archivo inmediatamente luego de salir de al operación, por ejemplo:\n",
    "\n",
    "    with open(<path_del_archivo>, 'r') as f:\n",
    "      data = f.read()\n",
    "\n",
    "Luego de esto ya no podremos tener acceso al 'hanlder' f pero si a la información del archivo por la variable 'data'"
   ]
  },
  {
   "cell_type": "markdown",
   "metadata": {},
   "source": [
    "#### Su turno\n",
    "\n",
    "Intente leer el archivo bookstore de la carpeta files e imprima el contenido de la linea 8.  Pista: utilice la función read(n) donde n es el número de línea"
   ]
  },
  {
   "cell_type": "code",
   "execution_count": 7,
   "metadata": {},
   "outputs": [
    {
     "name": "stdout",
     "output_type": "stream",
     "text": [
      "The path of the file =  files\\bookstore.txt\n"
     ]
    },
    {
     "name": "stderr",
     "output_type": "stream",
     "text": [
      "Traceback (most recent call last):\n",
      "  File \"scripts/read_bookstore_line8.py\", line 6, in <module>\n",
      "    titles = [line.rstrip() for line in open(path)]\n",
      "FileNotFoundError: [Errno 2] No such file or directory: 'files\\\\bookstore.txt'\n"
     ]
    }
   ],
   "source": [
    "!python scripts/read_bookstore_line8.py #en caso de que no funcione aqui, lo puede intentar correr en Sublime o VS code"
   ]
  },
  {
   "cell_type": "code",
   "execution_count": 18,
   "metadata": {},
   "outputs": [
    {
     "name": "stdout",
     "output_type": "stream",
     "text": [
      "The path of the file =  files\\bookstore.txt\n"
     ]
    },
    {
     "ename": "FileNotFoundError",
     "evalue": "[Errno 2] No such file or directory: 'files\\\\bookstore.txt'",
     "output_type": "error",
     "traceback": [
      "\u001b[1;31m---------------------------------------------------------------------------\u001b[0m",
      "\u001b[1;31mFileNotFoundError\u001b[0m                         Traceback (most recent call last)",
      "\u001b[1;32m<ipython-input-18-f68e898957fb>\u001b[0m in \u001b[0;36m<module>\u001b[1;34m\u001b[0m\n\u001b[0;32m      4\u001b[0m \u001b[0mpath\u001b[0m \u001b[1;33m=\u001b[0m \u001b[0mos\u001b[0m\u001b[1;33m.\u001b[0m\u001b[0mpath\u001b[0m\u001b[1;33m.\u001b[0m\u001b[0mjoin\u001b[0m\u001b[1;33m(\u001b[0m\u001b[1;34m\"files\"\u001b[0m\u001b[1;33m,\u001b[0m \u001b[1;34m\"bookstore.txt\"\u001b[0m\u001b[1;33m)\u001b[0m\u001b[1;33m\u001b[0m\u001b[1;33m\u001b[0m\u001b[0m\n\u001b[0;32m      5\u001b[0m \u001b[0mprint\u001b[0m\u001b[1;33m(\u001b[0m\u001b[1;34m'The path of the file = '\u001b[0m\u001b[1;33m,\u001b[0m \u001b[0mpath\u001b[0m\u001b[1;33m)\u001b[0m\u001b[1;33m\u001b[0m\u001b[1;33m\u001b[0m\u001b[0m\n\u001b[1;32m----> 6\u001b[1;33m \u001b[0marchivo\u001b[0m \u001b[1;33m=\u001b[0m \u001b[0mopen\u001b[0m\u001b[1;33m(\u001b[0m\u001b[0mpath\u001b[0m\u001b[1;33m,\u001b[0m \u001b[1;34m'r'\u001b[0m\u001b[1;33m)\u001b[0m\u001b[1;33m\u001b[0m\u001b[1;33m\u001b[0m\u001b[0m\n\u001b[0m\u001b[0;32m      7\u001b[0m \u001b[0mdata\u001b[0m \u001b[1;33m=\u001b[0m \u001b[0marchivo\u001b[0m\u001b[1;33m.\u001b[0m\u001b[0mread\u001b[0m\u001b[1;33m(\u001b[0m\u001b[1;33m)\u001b[0m\u001b[1;33m\u001b[0m\u001b[1;33m\u001b[0m\u001b[0m\n\u001b[0;32m      8\u001b[0m \u001b[0marchivo\u001b[0m\u001b[1;33m.\u001b[0m\u001b[0mclose\u001b[0m\u001b[1;33m(\u001b[0m\u001b[1;33m)\u001b[0m\u001b[1;33m\u001b[0m\u001b[1;33m\u001b[0m\u001b[0m\n",
      "\u001b[1;31mFileNotFoundError\u001b[0m: [Errno 2] No such file or directory: 'files\\\\bookstore.txt'"
     ]
    }
   ],
   "source": [
    "import os\n",
    "\n",
    "\n",
    "path = os.path.join(\"files\", \"bookstore.txt\")\n",
    "print('The path of the file = ', path)\n",
    "archivo = open(path, 'r')\n",
    "data = archivo.read()\n",
    "archivo.close()\n",
    "\n",
    "print(data)"
   ]
  },
  {
   "cell_type": "markdown",
   "metadata": {},
   "source": [
    "Respuesta esperada:\n",
    "\n",
    "Et dukkehjem. English by Henrik Ibsen (1334)"
   ]
  },
  {
   "cell_type": "markdown",
   "metadata": {},
   "source": [
    "Utilice la documentación de python para **leer cada línea del archivo**. E imprima su resultado"
   ]
  },
  {
   "cell_type": "code",
   "execution_count": 3,
   "metadata": {},
   "outputs": [
    {
     "name": "stdout",
     "output_type": "stream",
     "text": [
      "The path of the file =  files\\bookstore.txt\n"
     ]
    },
    {
     "name": "stderr",
     "output_type": "stream",
     "text": [
      "Traceback (most recent call last):\n",
      "  File \"scripts/read_bookstore.py\", line 6, in <module>\n",
      "    archivo = open(path, 'r')\n",
      "FileNotFoundError: [Errno 2] No such file or directory: 'files\\\\bookstore.txt'\n"
     ]
    }
   ],
   "source": [
    "!python scripts/read_bookstore.py #en caso de que no funcione aqui, lo puede intentar correr en Sublime o VS code"
   ]
  },
  {
   "cell_type": "markdown",
   "metadata": {},
   "source": [
    "Respuesta esperada:\n",
    "\n",
    "    Pride and Prejudice by Jane Austen (2390)\n",
    "    Beowulf: An Anglo-Saxon Epic Poem (2369)\n",
    "    The Scarlet Letter by Nathaniel Hawthorne (1734)\n",
    "    Anthem by Ayn Rand (1639)\n",
    "    The Yellow Wallpaper by Charlotte Perkins Gilman (1567)\n",
    "    Frankenstein; Or, The Modern Prometheus by Mary Wollstonecraft Shelley (1561)\n",
    "    Alice's Adventures in Wonderland by Lewis Carroll (1457)\n",
    "    Et dukkehjem. English by Henrik Ibsen (1334)\n",
    "    The Adventures of Sherlock Holmes by Arthur Conan Doyle (1107)\n",
    "    The Strange Case of Dr. Jekyll and Mr. Hyde by Robert Louis Stevenson (1053)"
   ]
  },
  {
   "cell_type": "markdown",
   "metadata": {},
   "source": [
    "Realice un script de python para leer el archivo dates.txt de la carpeta files y solamente imprimir la primera fecha de las líneas 4 a 8.\n",
    "\n",
    "Utilice como ayuda la función .split() y verifique si tiene que separar por espacio o tabulado utilizando ' ' o '\\t'.\n",
    "\n",
    "Finalmente imprima los datos y tambien cree un archivo llamado ***filter.txt***.  Nota, para escribir un archivo:\n",
    "    \n",
    "    path = # ubicacion del archivo     \n",
    "    open(path, 'w') as f:\n",
    "        f.write(data)"
   ]
  },
  {
   "cell_type": "code",
   "execution_count": null,
   "metadata": {},
   "outputs": [],
   "source": []
  },
  {
   "cell_type": "markdown",
   "metadata": {},
   "source": [
    "Respuesta esperada:\n",
    "\n",
    "    November 15, 1997\n",
    "    December 12, 1998\n",
    "    January 15, 2000\n",
    "    January 19, 2002\n",
    "    September 21, 2002\n",
    "    \n",
    "Adicionalmente un archivo *filter.txt* dentro de la carpeta *files*"
   ]
  },
  {
   "cell_type": "markdown",
   "metadata": {},
   "source": [
    "### Importando otros scripts\n",
    "\n",
    "Cuando trabajamos un proyecto mayor (uno mas extenso) tener todo en un solo archivo se nos vuelve complicado.\n",
    "\n",
    "Para esto podemos dividir el proyecto en varios archivos útiles e invocarlos dentro de nuestro programa de python.\n",
    "\n",
    "Si nuestro archivo está dentro de la misma carpeta que vamos a ejecutar solamente lo llamamos por la sentencia import y el nombre del archivo:\n",
    "\n",
    "    import my_python_file\n",
    "\n",
    "Veamos el ejemplo:\n",
    "\n",
    "<img src=\"imgs/importing_file.PNG\" width=\"700\"/>\n"
   ]
  },
  {
   "cell_type": "markdown",
   "metadata": {},
   "source": [
    "Ahora queremos importar variables y funciones de nuestro archivo principal, veamos como se realiza:\n",
    "\n",
    "<img src=\"imgs/importing_file_vars_func.PNG\" width=\"900\"/>"
   ]
  },
  {
   "cell_type": "markdown",
   "metadata": {},
   "source": [
    "Todo funciona bien pero sucede que a veces los nombres de los archivos son muy largos, sería mejor utilizar un alias para referirnos a este archivo, por ejemplo, veamos este ejemplo:\n",
    "\n",
    "<img src=\"imgs/importing_with_alias.PNG\" width=\"900\"/>\n",
    "\n",
    "Es más corto y más cómodo"
   ]
  },
  {
   "cell_type": "markdown",
   "metadata": {},
   "source": [
    "Que sucede si queremos que un código no se ejecute, debido a que todo funciona bien pero algunas cosas son molestosas, por ejemplo el print() que sirve como debugging.\n",
    "\n",
    "Para esto podemos hacer lo siguiente:\n",
    "\n",
    "<img src=\"imgs/importing_files_with_main.PNG\" width=\"900\"/>\n",
    "\n",
    "El archivo de la derecha es el importado, note que al ser llamado por el otro archivo (principal) no se imprime el mensaje del archivo importado, esto es porque cuando llamamos al archivo de la izquierda este es nuestro archivo principal, para que se ejecute el código deberíamos llamar solamente al archivo de la derecha, de esta forma veremos los mensajes a la salida.\n",
    "\n",
    "Esta es buena práctica porque podemos utilizar este main block para hacer rutinas de prueba\n",
    "\n",
    "<img src=\"imgs/asserting.PNG\" width=\"700\"/>"
   ]
  },
  {
   "cell_type": "markdown",
   "metadata": {},
   "source": [
    "¿Qué pasa si tenemos librerías que estan dentro de carpetas?  Veamos el siguiente ejemplo y las diferentes maneras que ofrece python para esto:\n",
    "- Nota:  el archivo *functions.py* se encuentra dentro de la carpeta *lib*\n",
    "- Nota:  el archivo *importing_lib.py* se encuentra fuera de la carpeta *lib*\n",
    "\n",
    "<img src=\"imgs/importing_lib.PNG\" width=\"700\"/>"
   ]
  },
  {
   "cell_type": "markdown",
   "metadata": {},
   "source": [
    "Python ofrece varias maneras de instalar paquetes, por ejemplo podemos instalar la libreria con pip.\n",
    "- pip install <nombre_del_paquete>\n",
    "\n",
    "Es conveniente antes estar en el ambiente de trabajo antes de hacer esta instalación para no mezclar las dependencias.\n",
    "- activate <env>\n",
    "    \n",
    "Luego de esto podemos instalar nuestro paquete, intentelo con numpy\n",
    "- pip install numpy\n",
    "    \n",
    "<img src=\"imgs/activate_ai.PNG\" width=\"700\"/>"
   ]
  },
  {
   "cell_type": "markdown",
   "metadata": {},
   "source": [
    "Es costumbre tener un listado de dependencias en el archivo requirements.txt, de esta manera otros desarrolladores podrán saber que dependencias y que versiones se utilizó.\n",
    "\n",
    "Este archivo se puede generar de las siguiente manera:\n",
    "- En el ambiente de trabajo\n",
    "- pip freeze > requirements.txt\n",
    "\n",
    "Vea el ejemplo de salida\n",
    "\n",
    "<img src=\"imgs/requirements.PNG\" width=\"500\"/>\n",
    "\n",
    "<img src=\"imgs/requirements_inside.PNG\" width=\"500\"/>\n",
    "\n",
    "El número de versión no es necesario, pero por lo general anaconda lo genera automaticamente, dejemoslo así pues el usuario puede estar seguro que con estas versiones su código trabajará."
   ]
  },
  {
   "cell_type": "markdown",
   "metadata": {},
   "source": [
    "### OOP (Programación Orientada a Objetos)\n",
    "\n",
    "La programación orientada a objetos nos ayuda a hacer programación modular, es un deber aprender este tipo de programación.\n",
    "- Nos ayuda a afrontar proyectos grandes de manera fácil\n",
    "- Esconde la implementación del usuario\n",
    "\n",
    "Ejemplo de librerías que usan OOP:\n",
    "- tensorflow\n",
    "- scikit-learn\n",
    "- todas :D\n",
    "\n",
    "Por ejemplo, tensorflow es la librería de google para inteligencia artificial y machine learning y solamente nos da llamados al API o funciones de código de alto nivel"
   ]
  },
  {
   "cell_type": "markdown",
   "metadata": {},
   "source": [
    "Cuando empezamos a programar aprendemos 'programación por procedimiento', el programa se ejecuta secuencialmente y luego entonces linea por línea va ejecutando sus acciones.\n",
    "\n",
    "En programación orientada a objetos esto existe, sí, pero también hay que pensar que cada cosa es un objeto, cada objeto tiene propiedades y puede ejecutar diferentes asignaciones (funciones / métodos).\n",
    "\n",
    "En OOP nos enfocamos por las características y acciones. Ejemplo:\n",
    "- Objeto: Persona\n",
    "  - Nombre\n",
    "  - Direccion\n",
    "  - Telefono\n",
    "  - Profesion\n",
    "  - Ropa\n",
    "  \n",
    "- Objeto: Ropa\n",
    "  - Color\n",
    "  - Talla\n",
    "  - Estilo\n",
    "  - Precio"
   ]
  },
  {
   "cell_type": "markdown",
   "metadata": {},
   "source": [
    "Estas características tienen nombres específicos, hablemos más en detalle de atributos y métodos\n",
    "\n",
    "Para la ropa el atributo será lo que detallamos anteriormente (color, precio, talla).\n",
    "\n",
    "Los métodos por otro lado son las funciones que pueden alterar estos atributos:\n",
    "- cambiar_color()\n",
    "- cambiar_talla()"
   ]
  },
  {
   "cell_type": "markdown",
   "metadata": {},
   "source": [
    "##### Objetos vs clases\n",
    "\n",
    "Podemos entonces tener varios objetos de la misma clase, p.e.\n",
    "\n",
    "Ropa1:\n",
    "  - color: rojo\n",
    "  - talla: S\n",
    "  - estilo: camisa\n",
    "  - precio: 10\n",
    "  \n",
    "Ropa2:\n",
    "  - color: azul\n",
    "  - talla: XL\n",
    "  - estilo: camisa\n",
    "  - precio: 5\n",
    "  \n",
    "Cada uno tienen los mismos atributos y se alteran por los mismos métodos, para esto entonces solamente creamos una clase que manipule este tipo de datos (Ropa) y podemos replicar el objeto n veces\n",
    "\n",
    "Veamos un simple ejemplo de una clase aquí en el notebook\n"
   ]
  },
  {
   "cell_type": "code",
   "execution_count": 17,
   "metadata": {},
   "outputs": [],
   "source": [
    "class Ropa:\n",
    "    def __init__(self, color='rojo', talla='S', estilo='camisa', precio=0):\n",
    "        self.color=color\n",
    "        self.talla=talla\n",
    "        self.estilo=estilo\n",
    "        self.precio=precio\n",
    "        \n",
    "    def cambiar_precio(self, precio):\n",
    "        self.precio=precio\n",
    "        \n",
    "    def cambiar_talla(self, talla):\n",
    "        self.talla=talla"
   ]
  },
  {
   "cell_type": "code",
   "execution_count": 20,
   "metadata": {},
   "outputs": [
    {
     "name": "stdout",
     "output_type": "stream",
     "text": [
      "azul\n"
     ]
    }
   ],
   "source": [
    "ropa_mujer = Ropa('azul', 'S', 'falda', 10)\n",
    "print(ropa_mujer.color)"
   ]
  },
  {
   "cell_type": "code",
   "execution_count": 21,
   "metadata": {},
   "outputs": [
    {
     "data": {
      "text/plain": [
       "10"
      ]
     },
     "execution_count": 21,
     "metadata": {},
     "output_type": "execute_result"
    }
   ],
   "source": [
    "ropa_mujer.precio"
   ]
  },
  {
   "cell_type": "code",
   "execution_count": 22,
   "metadata": {},
   "outputs": [
    {
     "data": {
      "text/plain": [
       "1"
      ]
     },
     "execution_count": 22,
     "metadata": {},
     "output_type": "execute_result"
    }
   ],
   "source": [
    "ropa_mujer.cambiar_precio(1)\n",
    "ropa_mujer.precio"
   ]
  },
  {
   "cell_type": "code",
   "execution_count": 24,
   "metadata": {},
   "outputs": [
    {
     "data": {
      "text/plain": [
       "'XL'"
      ]
     },
     "execution_count": 24,
     "metadata": {},
     "output_type": "execute_result"
    }
   ],
   "source": [
    "ropa_hombre = Ropa('verde', 'XL', 'pantalon', 20)\n",
    "ropa_hombre.talla"
   ]
  },
  {
   "cell_type": "code",
   "execution_count": 25,
   "metadata": {},
   "outputs": [
    {
     "data": {
      "text/plain": [
       "'M'"
      ]
     },
     "execution_count": 25,
     "metadata": {},
     "output_type": "execute_result"
    }
   ],
   "source": [
    "ropa_hombre.cambiar_talla('M')\n",
    "ropa_hombre.talla"
   ]
  },
  {
   "cell_type": "code",
   "execution_count": 28,
   "metadata": {},
   "outputs": [
    {
     "name": "stdout",
     "output_type": "stream",
     "text": [
      "S 0 camisa\n"
     ]
    }
   ],
   "source": [
    "cliente = Ropa()\n",
    "print(cliente.talla, cliente.precio, cliente.estilo)"
   ]
  },
  {
   "cell_type": "markdown",
   "metadata": {},
   "source": [
    "####  Ahora ud\n",
    "\n",
    "\n",
    "Objetivo, crear una clase, que tenga:\n",
    "- El valor por defecto de la clase es 1 y su numbre 'pow2'\n",
    "- \n",
    "- Atributos\n",
    "  - nombre de funcion\n",
    "  - dato\n",
    "- Métodos:\n",
    "  - elevar al cuadrado (pow2)\n",
    "  - calcular el módulo (mod2)\n",
    "  - elevar al cubo (pow3)\n",
    "\n",
    "- La clase debe estar dentro de la carpeta **other_functions**\n",
    "- el archivo debe estar a un nivel superior\n",
    "\n",
    "\n",
    "    - <app_folder>\n",
    "        - <python_main_file>\n",
    "        - <class_folder>\n",
    "          - <python_class>"
   ]
  },
  {
   "cell_type": "code",
   "execution_count": null,
   "metadata": {},
   "outputs": [],
   "source": [
    "class pow2:\n",
    "    def __init__(valor=1):\n",
    "        self.color=color\n",
    "        self.talla=talla\n",
    "        self.estilo=estilo\n",
    "        self.precio=precio\n",
    "        \n",
    "    def cambiar_precio(self, precio):\n",
    "        self.precio=precio\n",
    "        \n",
    "    def cambiar_talla(self, talla):\n",
    "        self.talla=talla"
   ]
  }
 ],
 "metadata": {
  "kernelspec": {
   "display_name": "Python 3",
   "language": "python",
   "name": "python3"
  },
  "language_info": {
   "codemirror_mode": {
    "name": "ipython",
    "version": 3
   },
   "file_extension": ".py",
   "mimetype": "text/x-python",
   "name": "python",
   "nbconvert_exporter": "python",
   "pygments_lexer": "ipython3",
   "version": "3.8.5"
  }
 },
 "nbformat": 4,
 "nbformat_minor": 4
}
