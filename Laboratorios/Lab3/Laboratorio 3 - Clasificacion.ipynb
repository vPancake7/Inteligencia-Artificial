{
 "cells": [
  {
   "cell_type": "markdown",
   "metadata": {},
   "source": [
    "## Laboratorio 3 – Clasificación"
   ]
  },
  {
   "cell_type": "markdown",
   "metadata": {},
   "source": [
    "# Inicio\n",
    "\n",
    "Estaremos tratando en este caso imagenes, de hojas, provenientes del conjunto de datos de CALTECH de la dirección:\n",
    "http://www.vision.caltech.edu/Image_Datasets/leaves/leaves.tar\n",
    "\n",
    "Si explora la página inicial (raiz hasta Image_Datasets) podrá observar que poseen otros datasets para poder hacer investigación a su propia manera.\n",
    "\n",
    "Este dataset es creado por Markus Weber quien fue un estudiante de PhD de Caltech de Pietro Perona.\n",
    "\n",
    "Aproximadamente el dataset contiene 186 imagenes de hojas a traves de diferentes fondos.  Se intentó normalizar las imagenes y estas estan en formato JPEG.\n",
    "\n",
    "Fueron tomadas alrededor del campus de Caltech y son de 896 x 592 pixeles en tamaño.\n"
   ]
  },
  {
   "cell_type": "markdown",
   "metadata": {},
   "source": [
    "Primero descarguemos la información del tar, para esto vamos a escribir código que nos ayude a esta función."
   ]
  },
  {
   "cell_type": "code",
   "execution_count": 1,
   "metadata": {},
   "outputs": [
    {
     "name": "stdout",
     "output_type": "stream",
     "text": [
      "Requirement already satisfied: pillow in c:\\users\\ing cohen\\anaconda3\\envs\\py36\\lib\\site-packages (6.2.0)\n",
      "Requirement already satisfied: opencv-python in c:\\users\\ing cohen\\anaconda3\\envs\\py36\\lib\\site-packages (4.1.1.26)\n",
      "Requirement already satisfied: numpy>=1.11.3 in c:\\users\\ing cohen\\anaconda3\\envs\\py36\\lib\\site-packages (from opencv-python) (1.16.3)\n"
     ]
    }
   ],
   "source": [
    "# instalamos esta dependencia que es necesaria en un punto\n",
    "!pip install pillow\n",
    "!pip install opencv-python"
   ]
  },
  {
   "cell_type": "code",
   "execution_count": 2,
   "metadata": {},
   "outputs": [],
   "source": [
    "import os\n",
    "from urllib.request import urlretrieve\n",
    "import tempfile\n",
    "import tarfile\n",
    "\n",
    "# para tener repitividad en los resultados generados\n",
    "np.random.seed(42)\n",
    "\n",
    "# Creamos un directorio temporal\n",
    "d = tempfile.mkdtemp()\n",
    "\n",
    "# Definimos el URL\n",
    "url = 'http://www.vision.caltech.edu/Image_Datasets/leaves/leaves.tar'\n",
    "\n",
    "# Tenemos la data\n",
    "fn, info = urlretrieve(url, os.path.join(d, 'leaves.tar'))"
   ]
  },
  {
   "cell_type": "code",
   "execution_count": 3,
   "metadata": {},
   "outputs": [
    {
     "name": "stdout",
     "output_type": "stream",
     "text": [
      "[INFO] Creada carpeta temporal en: C:\\Users\\INGCOH~1\\AppData\\Local\\Temp\\tmpzkx5dxgm\\leaves.tar\n",
      "[INFO] Mi directorio actual de trabajo es: C:\\Users\\Ing Cohen\\Desktop\n"
     ]
    }
   ],
   "source": [
    "print(\"[INFO] Creada carpeta temporal en:\", fn)\n",
    "print(\"[INFO] Mi directorio actual de trabajo es:\", os.getcwd())"
   ]
  },
  {
   "cell_type": "code",
   "execution_count": 4,
   "metadata": {
    "scrolled": true
   },
   "outputs": [],
   "source": [
    "myimagedir = os.path.join(os.getcwd(), 'leaves') \n",
    "if not os.path.exists(myimagedir):\n",
    "    os.mkdir(myimagedir)\n",
    "tar = tarfile.open(fn)\n",
    "tar.extractall(path=myimagedir, members=None, numeric_owner=False)\n",
    "tar.close()"
   ]
  },
  {
   "cell_type": "markdown",
   "metadata": {},
   "source": [
    "Finalmente removemos el archivo y luego el directorio.  Adicionalmente removemos el README donde existe el archivo de hojas que no nos sirve de nada."
   ]
  },
  {
   "cell_type": "code",
   "execution_count": 5,
   "metadata": {},
   "outputs": [],
   "source": [
    "os.remove(fn)\n",
    "os.rmdir(d)\n",
    "\n",
    "readmepath = os.path.join(myimagedir, os.listdir(myimagedir)[-1])\n",
    "os.remove(readmepath)"
   ]
  },
  {
   "cell_type": "markdown",
   "metadata": {},
   "source": [
    "Ahora vamos a crear un archivo para marcar las etiquetas.  Este archivo estará compuesto de las clases.  Asumiremos lo siguiente:\n",
    "\n",
    "0 = 5 Puntas\n",
    "\n",
    "1 = 3 Puntas, Tipo 1\n",
    "\n",
    "2 = 3 Puntas, Tipo 2\n",
    "\n",
    "Si al final de generar abrimos el archivo veremos que esta compuesto de 0's 1's y 2's en cada linea."
   ]
  },
  {
   "cell_type": "code",
   "execution_count": 6,
   "metadata": {
    "scrolled": false
   },
   "outputs": [],
   "source": [
    "jpeglist = os.listdir(myimagedir)\n",
    "\n",
    "i = 0\n",
    "with open('labels.txt', 'w') as lbl:\n",
    "    for _ in jpeglist:\n",
    "        i = i + 1\n",
    "        if i <= 66:\n",
    "            leafclass = 0\n",
    "        if i > 66 and i <= 126:\n",
    "            leafclass = 1\n",
    "        if i > 126:\n",
    "            leafclass = 2\n",
    "        lbl.write(str(leafclass) + '\\n')\n",
    "lbl.close()"
   ]
  },
  {
   "cell_type": "markdown",
   "metadata": {},
   "source": [
    "# LEAF DATASET"
   ]
  },
  {
   "cell_type": "markdown",
   "metadata": {},
   "source": [
    "Ya que tenemos las etiquetas del sistema podemos transferirlas del archivo de texto a un arreglo de numpy."
   ]
  },
  {
   "cell_type": "code",
   "execution_count": 126,
   "metadata": {},
   "outputs": [
    {
     "data": {
      "text/plain": [
       "(186,)"
      ]
     },
     "execution_count": 126,
     "metadata": {},
     "output_type": "execute_result"
    }
   ],
   "source": [
    "# Leer el archivo de labels en un arreglo de numpy\n",
    "import numpy as np\n",
    "target = np.genfromtxt('labels.txt').astype(np.uint8)\n",
    "target.shape"
   ]
  },
  {
   "cell_type": "markdown",
   "metadata": {},
   "source": [
    "Nuestra imagen es de (896 x 592), 3 canales y son alrededor de 186 imagenes\n",
    "\n",
    "Primero procesaremos esto para convertirlo en un arreglo de numpy de (m, n) dimensiones.  Siendo m = ancho x largo x numero_de_canales"
   ]
  },
  {
   "cell_type": "code",
   "execution_count": 129,
   "metadata": {},
   "outputs": [],
   "source": [
    "import os\n",
    "import PIL\n",
    "from PIL import Image \n",
    "\n",
    "w       = 896\n",
    "h       = 592\n",
    "nimages = 186\n",
    "nchan   = 3\n",
    "myimagedir = os.path.join(os.getcwd(), 'leaves')\n",
    "imgarr   = np.zeros((w*h*nchan, nimages), dtype=np.uint8)\n",
    "for index, filename in enumerate(os.listdir(myimagedir)):\n",
    "    img = PIL.Image.open(os.path.join(myimagedir, filename))\n",
    "    pixels = np.array(img).reshape(w*h*nchan)\n",
    "    imgarr[:, index] = pixels"
   ]
  },
  {
   "cell_type": "code",
   "execution_count": null,
   "metadata": {},
   "outputs": [],
   "source": [
    "'''\n",
    "w       = 896\n",
    "h       = 592\n",
    "nimages = 186\n",
    "nchan   = 3\n",
    "\n",
    "imgarr   = np.zeros((w*h, nimages, nchan), dtype=np.uint8)\n",
    "for index, filename in enumerate(os.listdir(myimagedir)):\n",
    "    img = PIL.Image.open(os.path.join(myimagedir, filename))\n",
    "    r, g, b = img.split()\n",
    "    imgarr[:, index, 0] = np.array(r).reshape(w*h)\n",
    "    imgarr[:, index, 1] = np.array(g).reshape(w*h)\n",
    "    imgarr[:, index, 2] = np.array(b).reshape(w*h)\n",
    "'''"
   ]
  },
  {
   "cell_type": "code",
   "execution_count": 130,
   "metadata": {
    "scrolled": true
   },
   "outputs": [
    {
     "data": {
      "text/plain": [
       "((1591296, 186), (1591296,))"
      ]
     },
     "execution_count": 130,
     "metadata": {},
     "output_type": "execute_result"
    }
   ],
   "source": [
    "imgarr.shape, pixels.shape"
   ]
  },
  {
   "cell_type": "markdown",
   "metadata": {},
   "source": [
    "Ahora intentaremos graficar alguna hoja aleatoria de la base de datos para saber si conseguimos el resultado esperado."
   ]
  },
  {
   "cell_type": "code",
   "execution_count": 131,
   "metadata": {},
   "outputs": [
    {
     "data": {
      "image/png": "[encoded data removed]",
      "text/plain": [
       "<Figure size 432x288 with 1 Axes>"
      ]
     },
     "metadata": {
      "needs_background": "light"
     },
     "output_type": "display_data"
    }
   ],
   "source": [
    "%matplotlib inline\n",
    "import matplotlib\n",
    "import matplotlib.pyplot as plt\n",
    "from numpy.random import randint\n",
    "\n",
    "# Ahora imprimiremos una hoja aleatorea\n",
    "some_leaf = imgarr[:, randint(0, 185)].reshape(592, 896, 3)\n",
    "plt.imshow(some_leaf)\n",
    "plt.axis(\"off\")\n",
    "\n",
    "plt.show()"
   ]
  },
  {
   "cell_type": "code",
   "execution_count": null,
   "metadata": {},
   "outputs": [],
   "source": [
    "'''\n",
    "%matplotlib inline\n",
    "import matplotlib\n",
    "import matplotlib.pyplot as plt\n",
    "from numpy.random import randint\n",
    "\n",
    "# Ahora imprimiremos una hoja aleatorea\n",
    "some_leaf = imgarr[:, randint(0, 185), :].reshape(592, 896, 3)\n",
    "plt.imshow(some_leaf)\n",
    "plt.axis(\"off\")\n",
    "\n",
    "plt.show()\n",
    "'''"
   ]
  },
  {
   "cell_type": "markdown",
   "metadata": {},
   "source": [
    "Para hacer balanceado el dataset, si se observa en la carpeta son alrededor de:\n",
    "    \n",
    "66 hojas de clase 0 (5 puntas)\n",
    "\n",
    "60 hojas de clase 1 (3 puntas tipo 1)\n",
    "\n",
    "60 hojas de clase 2 (3 puntas tipo 2).\n",
    "\n",
    "Gracias al trabajo anterior es fácil dividir el dataset en estos conjuntos y agruparlos por medio de numpy."
   ]
  },
  {
   "cell_type": "code",
   "execution_count": 133,
   "metadata": {},
   "outputs": [
    {
     "data": {
      "text/plain": [
       "((1591296, 180), (180,))"
      ]
     },
     "execution_count": 133,
     "metadata": {},
     "output_type": "execute_result"
    }
   ],
   "source": [
    "# Como todas las clases tienen 59 datos, vamos a emparejarlas solamente para poder dividir mejor el dataset \n",
    "X = imgarr\n",
    "Y = target\n",
    "Y = np.hstack((Y[:60], Y[66:]))\n",
    "X = np.hstack((X[:, :60], X[:, 66:]))\n",
    "X.shape, Y.shape"
   ]
  },
  {
   "cell_type": "markdown",
   "metadata": {},
   "source": [
    "Dividimos el traning set y el test set manualmente.  \n",
    "\n",
    "Por ejemplo, el dataset actualmente consta de 180 imagenes pues eliminamos las 6 imagenes para balancearlo (no se refiere a balancear el dataset, sinlo la cuenta de elementos de prueba clase 0, 1 y 2).\n",
    "\n",
    "Las imagenes se separan de:\n",
    "\n",
    "Training de 0 a 48, 60 a 108 y 120 a 168.\n",
    "\n",
    "Las ultimas 12 restantes de cada sección corresponderán al test set para realizar las predicciones."
   ]
  },
  {
   "cell_type": "code",
   "execution_count": 134,
   "metadata": {},
   "outputs": [
    {
     "name": "stdout",
     "output_type": "stream",
     "text": [
      "Existen 48 imagenes de training en una clase y 12 imagenes de prueba en cada clase para un total de 60 imagenes por clase\n"
     ]
    }
   ],
   "source": [
    "# Dividimos ahora el training set y el test set\n",
    "nimginclass = 60\n",
    "train = int(0.8*60)\n",
    "test = 60 - train\n",
    "\n",
    "# La primera clase va de 0 a 59, la segunda de 60 a 119 y la ultima de 120 a 179\n",
    "# Sin embargo son de 0 a 47 imagenes de training y de 48 a 59 para test para cada clase\n",
    "Xtrain = np.hstack((X[:,   :48], X[:, 60:(60+48)], X[:, 120:(120+48)]))/255\n",
    "Xtest  = np.hstack((X[:, 48:(48+12)], X[:, (60+48):(60+48+12)], X[:, (120+48):]))/255\n",
    "Ytrain = np.hstack((Y[:48], Y[60:(60+48)], Y[120:(120+48)]))\n",
    "Ytest  = np.hstack((Y[48:(48+12)], Y[(60+48):(60+48+12)], Y[(120+48):]))\n",
    "\n",
    "\n",
    "print(\"Existen {} imagenes de training en una clase y {} imagenes de prueba en cada clase para un total de {} imagenes por clase\".format(train, test, nimginclass))"
   ]
  },
  {
   "cell_type": "code",
   "execution_count": 135,
   "metadata": {},
   "outputs": [
    {
     "data": {
      "text/plain": [
       "((1591296, 144), (1591296, 36), (144,), (36,))"
      ]
     },
     "execution_count": 135,
     "metadata": {},
     "output_type": "execute_result"
    }
   ],
   "source": [
    "Xtrain.shape, Xtest.shape, Ytrain.shape, Ytest.shape"
   ]
  },
  {
   "cell_type": "markdown",
   "metadata": {},
   "source": [
    "# Clasificación Multiclase\n",
    "\n",
    "Ahora utilizaremos un gradiente descendente estocastico y ajustaremos algunos hiperparámetros para conseguir siempre el mismo resultado cada vez que ejecutemos el workbook."
   ]
  },
  {
   "cell_type": "code",
   "execution_count": 136,
   "metadata": {},
   "outputs": [
    {
     "data": {
      "text/plain": [
       "SGDClassifier(alpha=0.0001, average=False, class_weight=None,\n",
       "              early_stopping=False, epsilon=0.1, eta0=0.0, fit_intercept=True,\n",
       "              l1_ratio=0.15, learning_rate='optimal', loss='hinge', max_iter=5,\n",
       "              n_iter_no_change=5, n_jobs=None, penalty='l2', power_t=0.5,\n",
       "              random_state=42, shuffle=True, tol=-inf, validation_fraction=0.1,\n",
       "              verbose=0, warm_start=False)"
      ]
     },
     "execution_count": 136,
     "metadata": {},
     "output_type": "execute_result"
    }
   ],
   "source": [
    "from sklearn.linear_model import SGDClassifier\n",
    "\n",
    "sgd_clf = SGDClassifier(max_iter=5, tol=-np.infty, random_state=42)\n",
    "sgd_clf.fit(Xtrain.T, Ytrain)"
   ]
  },
  {
   "cell_type": "code",
   "execution_count": 137,
   "metadata": {},
   "outputs": [
    {
     "data": {
      "text/plain": [
       "(array([1, 1, 0, 2, 1, 1, 2, 2, 2, 2, 1, 1, 1, 1, 1, 1, 1, 1, 2, 1, 1, 1,\n",
       "        1, 1, 2, 2, 0, 2, 2, 2, 2, 1, 2, 2, 2, 2], dtype=uint8),\n",
       " array([0, 0, 0, 0, 0, 0, 0, 0, 0, 0, 0, 0, 1, 1, 1, 1, 1, 1, 1, 1, 1, 1,\n",
       "        1, 1, 2, 2, 2, 2, 2, 2, 2, 2, 2, 2, 2, 2], dtype=uint8))"
      ]
     },
     "execution_count": 137,
     "metadata": {},
     "output_type": "execute_result"
    }
   ],
   "source": [
    "Ypredict = sgd_clf.predict(Xtest.T)\n",
    "Ypredict, Ytest"
   ]
  },
  {
   "cell_type": "markdown",
   "metadata": {},
   "source": [
    "No está tan mal.  Para ser un batch de 36 imagenes de prueba y 144 imagenes de training solamente el resultado se apega bastante a la realidad. \n",
    "\n",
    "Ahora exploraremos la métrica de cross_validation para observar que tan bien o mal lo hizo nuestro dataset."
   ]
  },
  {
   "cell_type": "code",
   "execution_count": 138,
   "metadata": {},
   "outputs": [],
   "source": [
    "#from sklearn.model_selection import cross_val_score\n",
    "#Yscores = cross_val_predict(sgd_clf, Xtrain.T, Ytrain, cv=3, method=\"decision_function\")"
   ]
  },
  {
   "cell_type": "markdown",
   "metadata": {},
   "source": [
    "Ahora utilizaremos una métrica para el rendimiento de la predicción llamada validación cruzada.  Esta función evalua el modelo utilizado usando validación cruzada con k-fold y en este caso son 3.\n",
    "\n",
    "Esto quiere decir que un k-fold divide el training set en 3 k-folds realizando las predicciones y evaluando cada una de ellas usando el modelo entrenado de los folds pendientes."
   ]
  },
  {
   "cell_type": "code",
   "execution_count": 139,
   "metadata": {},
   "outputs": [
    {
     "name": "stdout",
     "output_type": "stream",
     "text": [
      "0.3125\n",
      "0.3958333333333333\n",
      "0.7291666666666666\n"
     ]
    }
   ],
   "source": [
    "from sklearn.model_selection import StratifiedKFold\n",
    "from sklearn.base import clone\n",
    "\n",
    "kfold = StratifiedKFold(n_splits=3, random_state=42)\n",
    "\n",
    "for xindex, yindex in kfold.split(Xtrain.T, Ytrain):\n",
    "    clonemodel  = clone(sgd_clf)\n",
    "    Xtrainfold = Xtrain.T[xindex]\n",
    "    Ytrainfold = (Ytrain[xindex])\n",
    "    Xtestfold  = Xtrain.T[yindex]\n",
    "    Ytestfold  = (Ytrain[yindex])\n",
    "\n",
    "    clonemodel.fit(Xtrainfold, Ytrainfold)\n",
    "    prediction = clonemodel.predict(Xtestfold)\n",
    "    numok = sum(prediction == Ytestfold)\n",
    "    print(numok / len(prediction))"
   ]
  },
  {
   "cell_type": "markdown",
   "metadata": {},
   "source": [
    "Lo mismo que lo anterior, evalua la misma métrica.  Note que da el mismo valor."
   ]
  },
  {
   "cell_type": "code",
   "execution_count": 141,
   "metadata": {},
   "outputs": [
    {
     "data": {
      "text/plain": [
       "array([0.3125    , 0.39583333, 0.72916667])"
      ]
     },
     "execution_count": 141,
     "metadata": {},
     "output_type": "execute_result"
    }
   ],
   "source": [
    "cross_val_score(sgd_clf, Xtrain.T, Ytrain, cv=3, scoring=\"accuracy\")"
   ]
  },
  {
   "cell_type": "markdown",
   "metadata": {},
   "source": [
    "Una mejor manera de evaluar el modelo y su desempeño es a base de la matriz de confusión.\n",
    "\n",
    "Esta matriz nos muestra cuantos elementos de, por ejemplo la clase 0, fueron clasificados como clase 1 o 2.\n",
    "\n",
    "Lo correcto sería obtener una diagonal oscura, que simboliza que todos los elementos fueron clasificados correctamente.\n",
    "\n",
    "Para realizar una matriz de confusión se deben poseer las predicciones y el set de etiquetas de entrenamiento.\n",
    "\n",
    "También se puede evaluar las predicciones del test set pero lo común en proyectos de machine learning es usar el test set al final para realizar pruebas ya del modelo depurado."
   ]
  },
  {
   "cell_type": "code",
   "execution_count": 142,
   "metadata": {},
   "outputs": [
    {
     "data": {
      "text/plain": [
       "array([[ 6, 31, 11],\n",
       "       [ 2, 36, 10],\n",
       "       [ 2, 19, 27]], dtype=int64)"
      ]
     },
     "execution_count": 142,
     "metadata": {},
     "output_type": "execute_result"
    }
   ],
   "source": [
    "from sklearn.metrics import confusion_matrix\n",
    "\n",
    "confMat = confusion_matrix(Ytrain, Ytrainpredictions)\n",
    "confMat"
   ]
  },
  {
   "cell_type": "code",
   "execution_count": 143,
   "metadata": {},
   "outputs": [
    {
     "data": {
      "image/png": "[encoded data removed]",
      "text/plain": [
       "<Figure size 288x288 with 1 Axes>"
      ]
     },
     "metadata": {
      "needs_background": "light"
     },
     "output_type": "display_data"
    }
   ],
   "source": [
    "plt.matshow(confMat, cmap=plt.cm.gray)\n",
    "plt.show()"
   ]
  },
  {
   "cell_type": "markdown",
   "metadata": {},
   "source": [
    "Así como las validaciones crusadas de cross_val_score(), también la siguiente funcion cross_val_predict() puede realizar varias k-fold especificadas para validación cruzada.  \n",
    "\n",
    "Sin embargo en vez de retornar los 'scores' retorna las 'predicciones' de cada k-fold.  \n",
    "\n",
    "Se tienen predicciones que fueron hechas por el modelo y nunca vio la data durante el entrenamiento, lo cual es bueno a la hora de evaluación del modelo."
   ]
  },
  {
   "cell_type": "code",
   "execution_count": 144,
   "metadata": {},
   "outputs": [],
   "source": [
    "Ypredictions = cross_val_predict(sgd_clf, Xtrain.T, Ytrain, cv=3)"
   ]
  },
  {
   "cell_type": "markdown",
   "metadata": {},
   "source": [
    "Solo de referencias de uso, validas solo para clasificación binaria.  Para clasficiacion binaria average='binary' o simplemente obviar el campo average, por defecto es binario."
   ]
  },
  {
   "cell_type": "markdown",
   "metadata": {},
   "source": [
    "## Métricas de Clasificación Binaria "
   ]
  },
  {
   "cell_type": "markdown",
   "metadata": {},
   "source": [
    "Si bien es cierto estas métricas no califican para un modelo multiclase, se explicará parte de su uso para entender mejor su desempeño sobre el modelo binario."
   ]
  },
  {
   "cell_type": "markdown",
   "metadata": {},
   "source": [
    "La precisión es la medición de los resultados positivos de tu modelo.\n",
    "\n",
    "\\begin{equation}\n",
    "Precision = \\frac{TP}{TP + FP}\n",
    "\\end{equation}\n",
    "\n",
    "En donde:\n",
    " - TP = Verdaderos positivos o muestras que fueron clasificadas y catalogadas como debieron ser\n",
    " - FP = Falsos positivos o muestras que fueron clasificadas y catalogadas como de otra clase que no es la correspondiente."
   ]
  },
  {
   "cell_type": "code",
   "execution_count": 116,
   "metadata": {
    "scrolled": true
   },
   "outputs": [
    {
     "data": {
      "text/plain": [
       "0.4791666666666667"
      ]
     },
     "execution_count": 116,
     "metadata": {},
     "output_type": "execute_result"
    }
   ],
   "source": [
    "precision_score(Ytrain, Ypredictions, average='micro')"
   ]
  },
  {
   "cell_type": "markdown",
   "metadata": {},
   "source": [
    "También se usa la siguiente métrica llamada 'recall' que es el radio de los verdaderos positivos y falsos negativos\n",
    "\n",
    "\\begin{equation}\n",
    "Recall = \\frac{TP}{TP + FN}\n",
    "\\end{equation}\n",
    "\n",
    "En donde:\n",
    " - FN = Falsos negativos "
   ]
  },
  {
   "cell_type": "code",
   "execution_count": 146,
   "metadata": {},
   "outputs": [
    {
     "data": {
      "text/plain": [
       "0.4791666666666667"
      ]
     },
     "execution_count": 146,
     "metadata": {},
     "output_type": "execute_result"
    }
   ],
   "source": [
    "recall_score(Ytrain, Ypredictions, average='micro')"
   ]
  },
  {
   "cell_type": "markdown",
   "metadata": {},
   "source": [
    "Frecuentemente también se combinan la precision y el recall para una sola métrica llamada F1 Score\n",
    "\n",
    "Esta representa la media armónica de precision y recall.  Las medidas regulares de precision y recal dan medias o pesos equitativos, sin embargo el F1 da una medida armónica que valora más en peso a sus valores bajos.  Como resultado el clasificador da un resultado alto si Recall y Precision son altos.\n",
    "\n",
    "\\begin{equation}\n",
    "F1 = \\frac{2}{\\frac{1}{precision} + \\frac{1}{recall}} = 2 * \\frac{precision * recall}{precision + recall} = \\frac{TP}{TP + \\frac{FN + FP}{2}}\n",
    "\\end{equation}\n"
   ]
  },
  {
   "cell_type": "code",
   "execution_count": 148,
   "metadata": {},
   "outputs": [
    {
     "data": {
      "text/plain": [
       "0.4791666666666667"
      ]
     },
     "execution_count": 148,
     "metadata": {},
     "output_type": "execute_result"
    }
   ],
   "source": [
    "f1_score(Ytrain, Ypredictions, average='micro')"
   ]
  },
  {
   "cell_type": "code",
   "execution_count": 149,
   "metadata": {},
   "outputs": [],
   "source": [
    "# Solo funciona en clasificación binaria\n",
    "\n",
    "#from sklearn.metrics import roc_auc_score\n",
    "#roc_auc_score(Ytrain, Ypredictions)\n",
    "\n",
    "#from sklearn.metrics import precision_recall_curve\n",
    "#precisions, recalls, thresholds = precision_recall_curve(Ytrain, Yscores)\n",
    "\n",
    "#from sklearn.metrics import roc_curve\n",
    "#precisions, recalls, thresholds = roc_curve(Ytrain, Yscores)"
   ]
  },
  {
   "cell_type": "markdown",
   "metadata": {},
   "source": [
    "# Clasificador Binario a base del Dataset MNIST\n",
    "\n",
    "Su labor será realizar un clasificador binario digitos.  Es decir, realizará un clasificador binario utilizando MNIST que posee digitos del 0 al 9, sin embargo intentará clasificar solo un dígito, el número 7.\n",
    "\n",
    "Es decir, su clasificador hará la siguiente acción\n",
    "\n",
    "0 -> modelo -> no es 7\n",
    "\n",
    "1 -> modelo -> no es 7\n",
    ".\n",
    ".\n",
    ".\n",
    "7 -> modelo -> es 7\n",
    ".\n",
    ".\n",
    "9 -> modelo -> no es 7\n",
    "\n",
    "\n",
    "Seguir las siguiente s instrucciones\n",
    "\n",
    "- Descargar el MNIST dataset utilizando python (10s)\n",
    "- Realizar dos modelos (20 pts)\n",
    "  - KNN\n",
    "  - RandomForest\n",
    "- Decidir cual es el mejor modelo (10 pts)\n",
    "- Crear una matriz de confusion (10 pts)\n",
    "- Calcular la precision, recall, threshold con precision_recall_curve() (10 pts)\n",
    "- Graficar precision vs recall (10 pts)\n",
    "- Graficar precision vs threshold (10 pts)\n",
    "- Graficar recall vs threshold (10 pts)\n",
    "- Graficar curva ROC (10 pts)"
   ]
  },
  {
   "cell_type": "code",
   "execution_count": null,
   "metadata": {},
   "outputs": [],
   "source": []
  }
 ],
 "metadata": {
  "kernelspec": {
   "display_name": "Python 3",
   "language": "python",
   "name": "python3"
  },
  "language_info": {
   "codemirror_mode": {
    "name": "ipython",
    "version": 3
   },
   "file_extension": ".py",
   "mimetype": "text/x-python",
   "name": "python",
   "nbconvert_exporter": "python",
   "pygments_lexer": "ipython3",
   "version": "3.6.8"
  },
  "nav_menu": {},
  "toc": {
   "navigate_menu": true,
   "number_sections": true,
   "sideBar": true,
   "threshold": 6,
   "toc_cell": false,
   "toc_section_display": "block",
   "toc_window_display": false
  }
 },
 "nbformat": 4,
 "nbformat_minor": 1
}
