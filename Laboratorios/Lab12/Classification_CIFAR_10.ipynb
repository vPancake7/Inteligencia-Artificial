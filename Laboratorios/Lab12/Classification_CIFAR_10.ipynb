{
  "nbformat": 4,
  "nbformat_minor": 0,
  "metadata": {
    "kernelspec": {
      "name": "python3",
      "display_name": "Python 3"
    },
    "colab": {
      "name": "Classification - CIFAR-10.ipynb",
      "provenance": []
    },
    "accelerator": "GPU"
  },
  "cells": [
    {
      "cell_type": "code",
      "metadata": {
        "id": "r95FYnIaA0Gm",
        "colab_type": "code",
        "colab": {
          "base_uri": "https://localhost:8080/",
          "height": 63
        },
        "outputId": "d4265dfd-e635-4f3e-b920-cb6e1f0df965"
      },
      "source": [
        "from tensorflow.keras.datasets import cifar10\n",
        "from tensorflow.keras.preprocessing.image import ImageDataGenerator\n",
        "from tensorflow.keras.models import Sequential\n",
        "from tensorflow.keras.layers import BatchNormalization, Conv2D, MaxPooling2D\n",
        "from tensorflow.keras.layers import Activation, Flatten, Dropout, Dense\n",
        "from tensorflow.keras.optimizers import RMSprop\n",
        "from tensorflow.keras.utils import to_categorical\n",
        "\n",
        "import matplotlib.pyplot as plt"
      ],
      "execution_count": 1,
      "outputs": [
        {
          "output_type": "display_data",
          "data": {
            "text/html": [
              "<p style=\"color: red;\">\n",
              "The default version of TensorFlow in Colab will soon switch to TensorFlow 2.x.<br>\n",
              "We recommend you <a href=\"https://www.tensorflow.org/guide/migrate\" target=\"_blank\">upgrade</a> now \n",
              "or ensure your notebook will continue to use TensorFlow 1.x via the <code>%tensorflow_version 1.x</code> magic:\n",
              "<a href=\"https://colab.research.google.com/notebooks/tensorflow_version.ipynb\" target=\"_blank\">more info</a>.</p>\n"
            ],
            "text/plain": [
              "<IPython.core.display.HTML object>"
            ]
          },
          "metadata": {
            "tags": []
          }
        }
      ]
    },
    {
      "cell_type": "code",
      "metadata": {
        "id": "AcyExdaNA0Ih",
        "colab_type": "code",
        "colab": {}
      },
      "source": [
        "# CIFAR_10: 60K imageness de 32x32 pixeles en 3 channels\n",
        "IMG_CHANNELS = 3\n",
        "IMG_ROWS = 32\n",
        "IMG_COLS = 32\n",
        "\n",
        "#constantes\n",
        "BATCH_SIZE = 128\n",
        "NB_EPOCH = 40\n",
        "NB_CLASSES = 10\n",
        "VERBOSE = 1\n",
        "VALIDATION_SPLIT = 0.2\n",
        "OPTIM = RMSprop()"
      ],
      "execution_count": 0,
      "outputs": []
    },
    {
      "cell_type": "code",
      "metadata": {
        "id": "lVpl7ixYA0JR",
        "colab_type": "code",
        "colab": {
          "base_uri": "https://localhost:8080/",
          "height": 102
        },
        "outputId": "d57a2499-490a-4334-d8c2-62688c1937b4"
      },
      "source": [
        "#load dataset\n",
        "(X_train, y_train), (X_test, y_test) = cifar10.load_data()\n",
        "print('X_train shape:', X_train.shape)\n",
        "print(X_train.shape[0], 'train samples')\n",
        "print(X_test.shape[0], 'test samples')\n",
        " \n",
        "# convert to categorical\n",
        "Y_train = to_categorical(y_train, NB_CLASSES)\n",
        "Y_test = to_categorical(y_test, NB_CLASSES) \n",
        "\n",
        "# float and normalization\n",
        "X_train = X_train.astype('float32')\n",
        "X_test = X_test.astype('float32')\n",
        "X_train /= 255\n",
        "X_test /= 255"
      ],
      "execution_count": 3,
      "outputs": [
        {
          "output_type": "stream",
          "text": [
            "Downloading data from https://www.cs.toronto.edu/~kriz/cifar-10-python.tar.gz\n",
            "170500096/170498071 [==============================] - 6s 0us/step\n",
            "X_train shape: (50000, 32, 32, 3)\n",
            "50000 train samples\n",
            "10000 test samples\n"
          ],
          "name": "stdout"
        }
      ]
    },
    {
      "cell_type": "code",
      "metadata": {
        "id": "ALSQZV4sA0Ka",
        "colab_type": "code",
        "colab": {
          "base_uri": "https://localhost:8080/",
          "height": 836
        },
        "outputId": "dbac762f-116e-4e3f-84ec-373f8ad9876c"
      },
      "source": [
        "# network\n",
        "\n",
        "model = Sequential()\n",
        " \n",
        "model.add(Conv2D(32, kernel_size=3, padding='same',\n",
        "                        input_shape=(IMG_ROWS, IMG_COLS, IMG_CHANNELS)))\n",
        "model.add(Activation('relu'))\n",
        "model.add(Conv2D(32, kernel_size=3, padding='same'))\n",
        "model.add(Activation('relu'))\n",
        "model.add(MaxPooling2D(pool_size=(2, 2)))\n",
        "model.add(Dropout(0.25))\n",
        " \n",
        "model.add(Conv2D(64, kernel_size=3, padding='same'))\n",
        "model.add(Activation('relu'))\n",
        "model.add(Conv2D(64, 3, 3))\n",
        "model.add(Activation('relu'))\n",
        "model.add(MaxPooling2D(pool_size=(2, 2)))\n",
        "model.add(Dropout(0.25))\n",
        " \n",
        "model.add(Flatten())\n",
        "model.add(Dense(512))\n",
        "model.add(Activation('relu'))\n",
        "model.add(Dropout(0.5))\n",
        "model.add(Dense(NB_CLASSES))\n",
        "model.add(Activation('softmax'))\n",
        "\n",
        "model.summary()\n",
        "\n",
        "model.compile(loss='categorical_crossentropy', optimizer=OPTIM,\n",
        "\tmetrics=['accuracy'])"
      ],
      "execution_count": 4,
      "outputs": [
        {
          "output_type": "stream",
          "text": [
            "WARNING:tensorflow:From /usr/local/lib/python3.6/dist-packages/tensorflow_core/python/ops/resource_variable_ops.py:1630: calling BaseResourceVariable.__init__ (from tensorflow.python.ops.resource_variable_ops) with constraint is deprecated and will be removed in a future version.\n",
            "Instructions for updating:\n",
            "If using Keras pass *_constraint arguments to layers.\n",
            "Model: \"sequential\"\n",
            "_________________________________________________________________\n",
            "Layer (type)                 Output Shape              Param #   \n",
            "=================================================================\n",
            "conv2d (Conv2D)              (None, 32, 32, 32)        896       \n",
            "_________________________________________________________________\n",
            "activation (Activation)      (None, 32, 32, 32)        0         \n",
            "_________________________________________________________________\n",
            "conv2d_1 (Conv2D)            (None, 32, 32, 32)        9248      \n",
            "_________________________________________________________________\n",
            "activation_1 (Activation)    (None, 32, 32, 32)        0         \n",
            "_________________________________________________________________\n",
            "max_pooling2d (MaxPooling2D) (None, 16, 16, 32)        0         \n",
            "_________________________________________________________________\n",
            "dropout (Dropout)            (None, 16, 16, 32)        0         \n",
            "_________________________________________________________________\n",
            "conv2d_2 (Conv2D)            (None, 16, 16, 64)        18496     \n",
            "_________________________________________________________________\n",
            "activation_2 (Activation)    (None, 16, 16, 64)        0         \n",
            "_________________________________________________________________\n",
            "conv2d_3 (Conv2D)            (None, 5, 5, 64)          36928     \n",
            "_________________________________________________________________\n",
            "activation_3 (Activation)    (None, 5, 5, 64)          0         \n",
            "_________________________________________________________________\n",
            "max_pooling2d_1 (MaxPooling2 (None, 2, 2, 64)          0         \n",
            "_________________________________________________________________\n",
            "dropout_1 (Dropout)          (None, 2, 2, 64)          0         \n",
            "_________________________________________________________________\n",
            "flatten (Flatten)            (None, 256)               0         \n",
            "_________________________________________________________________\n",
            "dense (Dense)                (None, 512)               131584    \n",
            "_________________________________________________________________\n",
            "activation_4 (Activation)    (None, 512)               0         \n",
            "_________________________________________________________________\n",
            "dropout_2 (Dropout)          (None, 512)               0         \n",
            "_________________________________________________________________\n",
            "dense_1 (Dense)              (None, 10)                5130      \n",
            "_________________________________________________________________\n",
            "activation_5 (Activation)    (None, 10)                0         \n",
            "=================================================================\n",
            "Total params: 202,282\n",
            "Trainable params: 202,282\n",
            "Non-trainable params: 0\n",
            "_________________________________________________________________\n"
          ],
          "name": "stdout"
        }
      ]
    },
    {
      "cell_type": "code",
      "metadata": {
        "id": "SACZ8db0A0LL",
        "colab_type": "code",
        "colab": {}
      },
      "source": [
        "datagen = ImageDataGenerator(\n",
        "        featurewise_center=False,  # set input mean to 0 over the dataset\n",
        "        samplewise_center=False,  # set each sample mean to 0\n",
        "        featurewise_std_normalization=False,  # divide inputs by std of the dataset\n",
        "        samplewise_std_normalization=False,  # divide each input by its std\n",
        "        zca_whitening=False,  # apply ZCA whitening\n",
        "        rotation_range=0,  # randomly rotate images in the range (degrees, 0 to 180)\n",
        "        width_shift_range=0.1,  # randomly shift images horizontally (fraction of total width)\n",
        "        height_shift_range=0.1,  # randomly shift images vertically (fraction of total height)\n",
        "        horizontal_flip=True,  # randomly flip images\n",
        "        vertical_flip=False)  # randomly flip images\n",
        "\n",
        "datagen.fit(X_train)"
      ],
      "execution_count": 0,
      "outputs": []
    },
    {
      "cell_type": "code",
      "metadata": {
        "id": "F2-XaBMHA0MA",
        "colab_type": "code",
        "colab": {
          "base_uri": "https://localhost:8080/",
          "height": 1000
        },
        "outputId": "88e931c1-69b6-498b-e1cf-a8c13a5269f4"
      },
      "source": [
        "# train\n",
        " \n",
        "history = model.fit(X_train, Y_train, batch_size=BATCH_SIZE,\n",
        "\tepochs=NB_EPOCH, validation_split=VALIDATION_SPLIT, \n",
        "\tverbose=VERBOSE)"
      ],
      "execution_count": 6,
      "outputs": [
        {
          "output_type": "stream",
          "text": [
            "Train on 40000 samples, validate on 10000 samples\n",
            "Epoch 1/40\n",
            "40000/40000 [==============================] - 9s 221us/sample - loss: 1.9644 - acc: 0.2716 - val_loss: 1.6738 - val_acc: 0.3827\n",
            "Epoch 2/40\n",
            "40000/40000 [==============================] - 5s 125us/sample - loss: 1.6749 - acc: 0.3861 - val_loss: 1.5224 - val_acc: 0.4357\n",
            "Epoch 3/40\n",
            "40000/40000 [==============================] - 5s 136us/sample - loss: 1.5165 - acc: 0.4453 - val_loss: 1.3845 - val_acc: 0.5057\n",
            "Epoch 4/40\n",
            "40000/40000 [==============================] - 5s 121us/sample - loss: 1.4133 - acc: 0.4875 - val_loss: 1.3173 - val_acc: 0.5164\n",
            "Epoch 5/40\n",
            "40000/40000 [==============================] - 5s 120us/sample - loss: 1.3305 - acc: 0.5201 - val_loss: 1.1853 - val_acc: 0.5803\n",
            "Epoch 6/40\n",
            "40000/40000 [==============================] - 5s 121us/sample - loss: 1.2637 - acc: 0.5465 - val_loss: 1.1683 - val_acc: 0.5849\n",
            "Epoch 7/40\n",
            "40000/40000 [==============================] - 5s 119us/sample - loss: 1.2059 - acc: 0.5707 - val_loss: 1.3470 - val_acc: 0.5410\n",
            "Epoch 8/40\n",
            "40000/40000 [==============================] - 5s 120us/sample - loss: 1.1586 - acc: 0.5888 - val_loss: 1.0951 - val_acc: 0.6195\n",
            "Epoch 9/40\n",
            "40000/40000 [==============================] - 5s 119us/sample - loss: 1.1192 - acc: 0.6019 - val_loss: 1.0720 - val_acc: 0.6208\n",
            "Epoch 10/40\n",
            "40000/40000 [==============================] - 5s 118us/sample - loss: 1.0835 - acc: 0.6144 - val_loss: 0.9780 - val_acc: 0.6564\n",
            "Epoch 11/40\n",
            "40000/40000 [==============================] - 5s 119us/sample - loss: 1.0543 - acc: 0.6291 - val_loss: 1.0786 - val_acc: 0.6347\n",
            "Epoch 12/40\n",
            "40000/40000 [==============================] - 5s 118us/sample - loss: 1.0229 - acc: 0.6389 - val_loss: 1.0471 - val_acc: 0.6363\n",
            "Epoch 13/40\n",
            "40000/40000 [==============================] - 5s 117us/sample - loss: 0.9977 - acc: 0.6477 - val_loss: 0.9816 - val_acc: 0.6592\n",
            "Epoch 14/40\n",
            "40000/40000 [==============================] - 5s 117us/sample - loss: 0.9775 - acc: 0.6553 - val_loss: 0.9305 - val_acc: 0.6736\n",
            "Epoch 15/40\n",
            "40000/40000 [==============================] - 5s 118us/sample - loss: 0.9584 - acc: 0.6636 - val_loss: 0.9229 - val_acc: 0.6810\n",
            "Epoch 16/40\n",
            "40000/40000 [==============================] - 5s 119us/sample - loss: 0.9366 - acc: 0.6720 - val_loss: 0.9354 - val_acc: 0.6769\n",
            "Epoch 17/40\n",
            "40000/40000 [==============================] - 5s 119us/sample - loss: 0.9204 - acc: 0.6756 - val_loss: 0.8613 - val_acc: 0.7030\n",
            "Epoch 18/40\n",
            "40000/40000 [==============================] - 5s 119us/sample - loss: 0.9012 - acc: 0.6838 - val_loss: 0.9283 - val_acc: 0.6778\n",
            "Epoch 19/40\n",
            "40000/40000 [==============================] - 5s 117us/sample - loss: 0.8864 - acc: 0.6890 - val_loss: 0.9055 - val_acc: 0.6931\n",
            "Epoch 20/40\n",
            "40000/40000 [==============================] - 5s 119us/sample - loss: 0.8835 - acc: 0.6918 - val_loss: 0.9296 - val_acc: 0.6797\n",
            "Epoch 21/40\n",
            "40000/40000 [==============================] - 5s 116us/sample - loss: 0.8671 - acc: 0.6940 - val_loss: 0.9583 - val_acc: 0.6708\n",
            "Epoch 22/40\n",
            "40000/40000 [==============================] - 5s 116us/sample - loss: 0.8495 - acc: 0.7009 - val_loss: 0.8650 - val_acc: 0.7052\n",
            "Epoch 23/40\n",
            "40000/40000 [==============================] - 5s 116us/sample - loss: 0.8466 - acc: 0.7026 - val_loss: 0.8942 - val_acc: 0.6931\n",
            "Epoch 24/40\n",
            "40000/40000 [==============================] - 5s 118us/sample - loss: 0.8347 - acc: 0.7089 - val_loss: 0.8220 - val_acc: 0.7172\n",
            "Epoch 25/40\n",
            "40000/40000 [==============================] - 5s 115us/sample - loss: 0.8256 - acc: 0.7095 - val_loss: 0.8806 - val_acc: 0.6973\n",
            "Epoch 26/40\n",
            "40000/40000 [==============================] - 5s 114us/sample - loss: 0.8222 - acc: 0.7122 - val_loss: 0.8464 - val_acc: 0.7108\n",
            "Epoch 27/40\n",
            "40000/40000 [==============================] - 5s 114us/sample - loss: 0.8140 - acc: 0.7149 - val_loss: 0.8563 - val_acc: 0.7100\n",
            "Epoch 28/40\n",
            "40000/40000 [==============================] - 5s 115us/sample - loss: 0.8009 - acc: 0.7194 - val_loss: 0.8581 - val_acc: 0.7035\n",
            "Epoch 29/40\n",
            "40000/40000 [==============================] - 5s 115us/sample - loss: 0.7992 - acc: 0.7210 - val_loss: 0.8928 - val_acc: 0.6866\n",
            "Epoch 30/40\n",
            "40000/40000 [==============================] - 5s 115us/sample - loss: 0.7997 - acc: 0.7214 - val_loss: 0.9052 - val_acc: 0.6864\n",
            "Epoch 31/40\n",
            "40000/40000 [==============================] - 5s 118us/sample - loss: 0.7874 - acc: 0.7231 - val_loss: 0.8092 - val_acc: 0.7234\n",
            "Epoch 32/40\n",
            "40000/40000 [==============================] - 5s 117us/sample - loss: 0.7764 - acc: 0.7265 - val_loss: 0.8246 - val_acc: 0.7175\n",
            "Epoch 33/40\n",
            "40000/40000 [==============================] - 5s 115us/sample - loss: 0.7755 - acc: 0.7284 - val_loss: 0.8612 - val_acc: 0.7035\n",
            "Epoch 34/40\n",
            "40000/40000 [==============================] - 5s 115us/sample - loss: 0.7658 - acc: 0.7299 - val_loss: 0.8532 - val_acc: 0.7081\n",
            "Epoch 35/40\n",
            "40000/40000 [==============================] - 5s 117us/sample - loss: 0.7681 - acc: 0.7298 - val_loss: 0.8675 - val_acc: 0.7079\n",
            "Epoch 36/40\n",
            "40000/40000 [==============================] - 5s 116us/sample - loss: 0.7543 - acc: 0.7351 - val_loss: 0.8104 - val_acc: 0.7259\n",
            "Epoch 37/40\n",
            "40000/40000 [==============================] - 5s 114us/sample - loss: 0.7577 - acc: 0.7340 - val_loss: 0.8395 - val_acc: 0.7210\n",
            "Epoch 38/40\n",
            "40000/40000 [==============================] - 5s 115us/sample - loss: 0.7584 - acc: 0.7344 - val_loss: 0.9118 - val_acc: 0.6910\n",
            "Epoch 39/40\n",
            "40000/40000 [==============================] - 5s 117us/sample - loss: 0.7485 - acc: 0.7398 - val_loss: 0.8292 - val_acc: 0.7250\n",
            "Epoch 40/40\n",
            "40000/40000 [==============================] - 5s 116us/sample - loss: 0.7490 - acc: 0.7410 - val_loss: 0.8226 - val_acc: 0.7216\n"
          ],
          "name": "stdout"
        }
      ]
    },
    {
      "cell_type": "code",
      "metadata": {
        "id": "qXLak9fLA0M-",
        "colab_type": "code",
        "colab": {
          "base_uri": "https://localhost:8080/",
          "height": 675
        },
        "outputId": "d324bb39-1253-48f9-9470-314476328962"
      },
      "source": [
        "print('Testing...')\n",
        "score = model.evaluate(X_test, Y_test,\n",
        "                     batch_size=BATCH_SIZE, verbose=VERBOSE)\n",
        "print(\"\\nTest score:\", score[0])\n",
        "print('Test accuracy:', score[1])\n",
        "\n",
        "#save model\n",
        "model_json = model.to_json()\n",
        "open('cifar10_architecture.json', 'w').write(model_json)\n",
        "model.save_weights('cifar10_weights.h5', overwrite=True)\n",
        "\n",
        "# list all data in history\n",
        "print(history.history.keys())\n",
        "# summarize history for accuracy\n",
        "plt.plot(history.history['acc'])\n",
        "plt.plot(history.history['val_acc'])\n",
        "plt.title('model accuracy')\n",
        "plt.ylabel('accuracy')\n",
        "plt.xlabel('epoch')\n",
        "plt.legend(['train', 'test'], loc='upper left')\n",
        "plt.show()\n",
        "# summarize history for loss\n",
        "plt.plot(history.history['loss'])\n",
        "plt.plot(history.history['val_loss'])\n",
        "plt.title('model loss')\n",
        "plt.ylabel('loss')\n",
        "plt.xlabel('epoch')\n",
        "plt.legend(['train', 'test'], loc='upper left')\n",
        "plt.show()"
      ],
      "execution_count": 7,
      "outputs": [
        {
          "output_type": "stream",
          "text": [
            "Testing...\n",
            "10000/10000 [==============================] - 0s 47us/sample - loss: 0.8356 - acc: 0.7127\n",
            "\n",
            "Test score: 0.8356440086364746\n",
            "Test accuracy: 0.7127\n",
            "dict_keys(['loss', 'acc', 'val_loss', 'val_acc'])\n"
          ],
          "name": "stdout"
        },
        {
          "output_type": "display_data",
          "data": {
            "image/png": "[encoded data removed]",
            "text/plain": [
              "<Figure size 432x288 with 1 Axes>"
            ]
          },
          "metadata": {
            "tags": []
          }
        },
        {
          "output_type": "display_data",
          "data": {
            "image/png": "[encoded data removed]",
            "text/plain": [
              "<Figure size 432x288 with 1 Axes>"
            ]
          },
          "metadata": {
            "tags": []
          }
        }
      ]
    },
    {
      "cell_type": "code",
      "metadata": {
        "id": "c7l1f3fEG6bt",
        "colab_type": "code",
        "colab": {}
      },
      "source": [
        ""
      ],
      "execution_count": 0,
      "outputs": []
    }
  ]
}